{
 "cells": [
  {
   "cell_type": "markdown",
   "metadata": {},
   "source": [
    "### Installing Dependencies"
   ]
  },
  {
   "cell_type": "code",
   "execution_count": 2,
   "metadata": {},
   "outputs": [
    {
     "name": "stdout",
     "output_type": "stream",
     "text": [
      "Requirement already satisfied: aiohttp==3.8.6 in c:\\users\\hp\\embeddings project\\exploiting-food-embeddings-for-ingredient-substitution\\env\\lib\\site-packages (from -r requirements.txt (line 1)) (3.8.6)\n",
      "Requirement already satisfied: aiosignal==1.3.1 in c:\\users\\hp\\embeddings project\\exploiting-food-embeddings-for-ingredient-substitution\\env\\lib\\site-packages (from -r requirements.txt (line 2)) (1.3.1)\n",
      "Requirement already satisfied: annotated-types==0.6.0 in c:\\users\\hp\\embeddings project\\exploiting-food-embeddings-for-ingredient-substitution\\env\\lib\\site-packages (from -r requirements.txt (line 3)) (0.6.0)\n",
      "Requirement already satisfied: asttokens==2.4.0 in c:\\users\\hp\\embeddings project\\exploiting-food-embeddings-for-ingredient-substitution\\env\\lib\\site-packages (from -r requirements.txt (line 4)) (2.4.0)\n",
      "Requirement already satisfied: async-timeout==4.0.3 in c:\\users\\hp\\embeddings project\\exploiting-food-embeddings-for-ingredient-substitution\\env\\lib\\site-packages (from -r requirements.txt (line 5)) (4.0.3)\n",
      "Requirement already satisfied: attrs==23.1.0 in c:\\users\\hp\\embeddings project\\exploiting-food-embeddings-for-ingredient-substitution\\env\\lib\\site-packages (from -r requirements.txt (line 6)) (23.1.0)\n",
      "Requirement already satisfied: backcall==0.2.0 in c:\\users\\hp\\embeddings project\\exploiting-food-embeddings-for-ingredient-substitution\\env\\lib\\site-packages (from -r requirements.txt (line 7)) (0.2.0)\n",
      "Requirement already satisfied: blis==0.7.11 in c:\\users\\hp\\embeddings project\\exploiting-food-embeddings-for-ingredient-substitution\\env\\lib\\site-packages (from -r requirements.txt (line 8)) (0.7.11)\n",
      "Requirement already satisfied: catalogue==2.0.10 in c:\\users\\hp\\embeddings project\\exploiting-food-embeddings-for-ingredient-substitution\\env\\lib\\site-packages (from -r requirements.txt (line 9)) (2.0.10)\n",
      "Requirement already satisfied: certifi==2023.7.22 in c:\\users\\hp\\embeddings project\\exploiting-food-embeddings-for-ingredient-substitution\\env\\lib\\site-packages (from -r requirements.txt (line 10)) (2023.7.22)\n",
      "Requirement already satisfied: charset-normalizer==3.3.0 in c:\\users\\hp\\embeddings project\\exploiting-food-embeddings-for-ingredient-substitution\\env\\lib\\site-packages (from -r requirements.txt (line 11)) (3.3.0)\n",
      "Requirement already satisfied: colorama==0.4.6 in c:\\users\\hp\\embeddings project\\exploiting-food-embeddings-for-ingredient-substitution\\env\\lib\\site-packages (from -r requirements.txt (line 12)) (0.4.6)\n",
      "Requirement already satisfied: comm==0.1.4 in c:\\users\\hp\\embeddings project\\exploiting-food-embeddings-for-ingredient-substitution\\env\\lib\\site-packages (from -r requirements.txt (line 13)) (0.1.4)\n",
      "Requirement already satisfied: confection==0.1.3 in c:\\users\\hp\\embeddings project\\exploiting-food-embeddings-for-ingredient-substitution\\env\\lib\\site-packages (from -r requirements.txt (line 14)) (0.1.3)\n",
      "Requirement already satisfied: cymem==2.0.8 in c:\\users\\hp\\embeddings project\\exploiting-food-embeddings-for-ingredient-substitution\\env\\lib\\site-packages (from -r requirements.txt (line 15)) (2.0.8)\n",
      "Requirement already satisfied: debugpy==1.8.0 in c:\\users\\hp\\embeddings project\\exploiting-food-embeddings-for-ingredient-substitution\\env\\lib\\site-packages (from -r requirements.txt (line 16)) (1.8.0)\n",
      "Requirement already satisfied: decorator==5.1.1 in c:\\users\\hp\\embeddings project\\exploiting-food-embeddings-for-ingredient-substitution\\env\\lib\\site-packages (from -r requirements.txt (line 17)) (5.1.1)\n",
      "Requirement already satisfied: executing==2.0.0 in c:\\users\\hp\\embeddings project\\exploiting-food-embeddings-for-ingredient-substitution\\env\\lib\\site-packages (from -r requirements.txt (line 18)) (2.0.0)\n",
      "Requirement already satisfied: filelock==3.12.4 in c:\\users\\hp\\embeddings project\\exploiting-food-embeddings-for-ingredient-substitution\\env\\lib\\site-packages (from -r requirements.txt (line 19)) (3.12.4)\n",
      "Requirement already satisfied: frozenlist==1.4.0 in c:\\users\\hp\\embeddings project\\exploiting-food-embeddings-for-ingredient-substitution\\env\\lib\\site-packages (from -r requirements.txt (line 20)) (1.4.0)\n",
      "Requirement already satisfied: fsspec==2023.9.2 in c:\\users\\hp\\embeddings project\\exploiting-food-embeddings-for-ingredient-substitution\\env\\lib\\site-packages (from -r requirements.txt (line 21)) (2023.9.2)\n",
      "Requirement already satisfied: gensim==4.3.2 in c:\\users\\hp\\embeddings project\\exploiting-food-embeddings-for-ingredient-substitution\\env\\lib\\site-packages (from -r requirements.txt (line 22)) (4.3.2)\n",
      "Requirement already satisfied: huggingface-hub==0.17.3 in c:\\users\\hp\\embeddings project\\exploiting-food-embeddings-for-ingredient-substitution\\env\\lib\\site-packages (from -r requirements.txt (line 23)) (0.17.3)\n",
      "Requirement already satisfied: idna==3.4 in c:\\users\\hp\\embeddings project\\exploiting-food-embeddings-for-ingredient-substitution\\env\\lib\\site-packages (from -r requirements.txt (line 24)) (3.4)\n",
      "Requirement already satisfied: ipykernel==6.25.2 in c:\\users\\hp\\embeddings project\\exploiting-food-embeddings-for-ingredient-substitution\\env\\lib\\site-packages (from -r requirements.txt (line 25)) (6.25.2)\n",
      "Requirement already satisfied: ipython==8.16.1 in c:\\users\\hp\\embeddings project\\exploiting-food-embeddings-for-ingredient-substitution\\env\\lib\\site-packages (from -r requirements.txt (line 26)) (8.16.1)\n",
      "Requirement already satisfied: jedi==0.19.1 in c:\\users\\hp\\embeddings project\\exploiting-food-embeddings-for-ingredient-substitution\\env\\lib\\site-packages (from -r requirements.txt (line 27)) (0.19.1)\n",
      "Requirement already satisfied: Jinja2==3.1.2 in c:\\users\\hp\\embeddings project\\exploiting-food-embeddings-for-ingredient-substitution\\env\\lib\\site-packages (from -r requirements.txt (line 28)) (3.1.2)\n",
      "Requirement already satisfied: joblib==1.3.2 in c:\\users\\hp\\embeddings project\\exploiting-food-embeddings-for-ingredient-substitution\\env\\lib\\site-packages (from -r requirements.txt (line 29)) (1.3.2)\n",
      "Requirement already satisfied: jupyter_client==8.4.0 in c:\\users\\hp\\embeddings project\\exploiting-food-embeddings-for-ingredient-substitution\\env\\lib\\site-packages (from -r requirements.txt (line 30)) (8.4.0)\n",
      "Requirement already satisfied: jupyter_core==5.4.0 in c:\\users\\hp\\embeddings project\\exploiting-food-embeddings-for-ingredient-substitution\\env\\lib\\site-packages (from -r requirements.txt (line 31)) (5.4.0)\n",
      "Requirement already satisfied: MarkupSafe==2.1.3 in c:\\users\\hp\\embeddings project\\exploiting-food-embeddings-for-ingredient-substitution\\env\\lib\\site-packages (from -r requirements.txt (line 32)) (2.1.3)\n",
      "Requirement already satisfied: matplotlib-inline==0.1.6 in c:\\users\\hp\\embeddings project\\exploiting-food-embeddings-for-ingredient-substitution\\env\\lib\\site-packages (from -r requirements.txt (line 33)) (0.1.6)\n",
      "Requirement already satisfied: mpmath==1.3.0 in c:\\users\\hp\\embeddings project\\exploiting-food-embeddings-for-ingredient-substitution\\env\\lib\\site-packages (from -r requirements.txt (line 34)) (1.3.0)\n",
      "Requirement already satisfied: multidict==6.0.4 in c:\\users\\hp\\embeddings project\\exploiting-food-embeddings-for-ingredient-substitution\\env\\lib\\site-packages (from -r requirements.txt (line 35)) (6.0.4)\n",
      "Requirement already satisfied: murmurhash==1.0.10 in c:\\users\\hp\\embeddings project\\exploiting-food-embeddings-for-ingredient-substitution\\env\\lib\\site-packages (from -r requirements.txt (line 36)) (1.0.10)\n",
      "Requirement already satisfied: nest-asyncio==1.5.8 in c:\\users\\hp\\embeddings project\\exploiting-food-embeddings-for-ingredient-substitution\\env\\lib\\site-packages (from -r requirements.txt (line 37)) (1.5.8)\n",
      "Requirement already satisfied: networkx==3.2 in c:\\users\\hp\\embeddings project\\exploiting-food-embeddings-for-ingredient-substitution\\env\\lib\\site-packages (from -r requirements.txt (line 38)) (3.2)\n",
      "Requirement already satisfied: numpy==1.26.1 in c:\\users\\hp\\embeddings project\\exploiting-food-embeddings-for-ingredient-substitution\\env\\lib\\site-packages (from -r requirements.txt (line 39)) (1.26.1)\n",
      "Requirement already satisfied: openai==0.28.1 in c:\\users\\hp\\embeddings project\\exploiting-food-embeddings-for-ingredient-substitution\\env\\lib\\site-packages (from -r requirements.txt (line 40)) (0.28.1)\n",
      "Requirement already satisfied: packaging==23.2 in c:\\users\\hp\\embeddings project\\exploiting-food-embeddings-for-ingredient-substitution\\env\\lib\\site-packages (from -r requirements.txt (line 41)) (23.2)\n",
      "Requirement already satisfied: pandas==2.1.1 in c:\\users\\hp\\embeddings project\\exploiting-food-embeddings-for-ingredient-substitution\\env\\lib\\site-packages (from -r requirements.txt (line 42)) (2.1.1)\n",
      "Requirement already satisfied: parso==0.8.3 in c:\\users\\hp\\embeddings project\\exploiting-food-embeddings-for-ingredient-substitution\\env\\lib\\site-packages (from -r requirements.txt (line 43)) (0.8.3)\n",
      "Requirement already satisfied: pickleshare==0.7.5 in c:\\users\\hp\\embeddings project\\exploiting-food-embeddings-for-ingredient-substitution\\env\\lib\\site-packages (from -r requirements.txt (line 44)) (0.7.5)\n",
      "Requirement already satisfied: Pillow==10.1.0 in c:\\users\\hp\\embeddings project\\exploiting-food-embeddings-for-ingredient-substitution\\env\\lib\\site-packages (from -r requirements.txt (line 45)) (10.1.0)\n",
      "Requirement already satisfied: platformdirs==3.11.0 in c:\\users\\hp\\embeddings project\\exploiting-food-embeddings-for-ingredient-substitution\\env\\lib\\site-packages (from -r requirements.txt (line 46)) (3.11.0)\n",
      "Requirement already satisfied: preshed==3.0.9 in c:\\users\\hp\\embeddings project\\exploiting-food-embeddings-for-ingredient-substitution\\env\\lib\\site-packages (from -r requirements.txt (line 47)) (3.0.9)\n",
      "Requirement already satisfied: prompt-toolkit==3.0.39 in c:\\users\\hp\\embeddings project\\exploiting-food-embeddings-for-ingredient-substitution\\env\\lib\\site-packages (from -r requirements.txt (line 48)) (3.0.39)\n",
      "Requirement already satisfied: psutil==5.9.6 in c:\\users\\hp\\embeddings project\\exploiting-food-embeddings-for-ingredient-substitution\\env\\lib\\site-packages (from -r requirements.txt (line 49)) (5.9.6)\n",
      "Requirement already satisfied: pure-eval==0.2.2 in c:\\users\\hp\\embeddings project\\exploiting-food-embeddings-for-ingredient-substitution\\env\\lib\\site-packages (from -r requirements.txt (line 50)) (0.2.2)\n",
      "Requirement already satisfied: pydantic==2.4.2 in c:\\users\\hp\\embeddings project\\exploiting-food-embeddings-for-ingredient-substitution\\env\\lib\\site-packages (from -r requirements.txt (line 51)) (2.4.2)\n",
      "Requirement already satisfied: pydantic_core==2.10.1 in c:\\users\\hp\\embeddings project\\exploiting-food-embeddings-for-ingredient-substitution\\env\\lib\\site-packages (from -r requirements.txt (line 52)) (2.10.1)\n",
      "Requirement already satisfied: Pygments==2.16.1 in c:\\users\\hp\\embeddings project\\exploiting-food-embeddings-for-ingredient-substitution\\env\\lib\\site-packages (from -r requirements.txt (line 53)) (2.16.1)\n",
      "Requirement already satisfied: python-dateutil==2.8.2 in c:\\users\\hp\\embeddings project\\exploiting-food-embeddings-for-ingredient-substitution\\env\\lib\\site-packages (from -r requirements.txt (line 54)) (2.8.2)\n",
      "Requirement already satisfied: pytz==2023.3.post1 in c:\\users\\hp\\embeddings project\\exploiting-food-embeddings-for-ingredient-substitution\\env\\lib\\site-packages (from -r requirements.txt (line 55)) (2023.3.post1)\n",
      "Requirement already satisfied: pywin32==306 in c:\\users\\hp\\embeddings project\\exploiting-food-embeddings-for-ingredient-substitution\\env\\lib\\site-packages (from -r requirements.txt (line 56)) (306)\n",
      "Requirement already satisfied: PyYAML==6.0.1 in c:\\users\\hp\\embeddings project\\exploiting-food-embeddings-for-ingredient-substitution\\env\\lib\\site-packages (from -r requirements.txt (line 57)) (6.0.1)\n",
      "Requirement already satisfied: pyzmq==25.1.1 in c:\\users\\hp\\embeddings project\\exploiting-food-embeddings-for-ingredient-substitution\\env\\lib\\site-packages (from -r requirements.txt (line 58)) (25.1.1)\n",
      "Requirement already satisfied: regex==2023.10.3 in c:\\users\\hp\\embeddings project\\exploiting-food-embeddings-for-ingredient-substitution\\env\\lib\\site-packages (from -r requirements.txt (line 59)) (2023.10.3)\n",
      "Requirement already satisfied: requests==2.31.0 in c:\\users\\hp\\embeddings project\\exploiting-food-embeddings-for-ingredient-substitution\\env\\lib\\site-packages (from -r requirements.txt (line 60)) (2.31.0)\n",
      "Requirement already satisfied: safetensors==0.4.0 in c:\\users\\hp\\embeddings project\\exploiting-food-embeddings-for-ingredient-substitution\\env\\lib\\site-packages (from -r requirements.txt (line 61)) (0.4.0)\n",
      "Requirement already satisfied: scikit-learn==1.3.1 in c:\\users\\hp\\embeddings project\\exploiting-food-embeddings-for-ingredient-substitution\\env\\lib\\site-packages (from -r requirements.txt (line 62)) (1.3.1)\n",
      "Requirement already satisfied: scipy==1.11.3 in c:\\users\\hp\\embeddings project\\exploiting-food-embeddings-for-ingredient-substitution\\env\\lib\\site-packages (from -r requirements.txt (line 63)) (1.11.3)\n",
      "Requirement already satisfied: six==1.16.0 in c:\\users\\hp\\embeddings project\\exploiting-food-embeddings-for-ingredient-substitution\\env\\lib\\site-packages (from -r requirements.txt (line 64)) (1.16.0)\n",
      "Requirement already satisfied: smart-open==6.4.0 in c:\\users\\hp\\embeddings project\\exploiting-food-embeddings-for-ingredient-substitution\\env\\lib\\site-packages (from -r requirements.txt (line 65)) (6.4.0)\n",
      "Requirement already satisfied: srsly==2.4.8 in c:\\users\\hp\\embeddings project\\exploiting-food-embeddings-for-ingredient-substitution\\env\\lib\\site-packages (from -r requirements.txt (line 66)) (2.4.8)\n",
      "Requirement already satisfied: stack-data==0.6.3 in c:\\users\\hp\\embeddings project\\exploiting-food-embeddings-for-ingredient-substitution\\env\\lib\\site-packages (from -r requirements.txt (line 67)) (0.6.3)\n",
      "Requirement already satisfied: sympy==1.12 in c:\\users\\hp\\embeddings project\\exploiting-food-embeddings-for-ingredient-substitution\\env\\lib\\site-packages (from -r requirements.txt (line 68)) (1.12)\n",
      "Requirement already satisfied: thinc==8.2.1 in c:\\users\\hp\\embeddings project\\exploiting-food-embeddings-for-ingredient-substitution\\env\\lib\\site-packages (from -r requirements.txt (line 69)) (8.2.1)\n",
      "Requirement already satisfied: threadpoolctl==3.2.0 in c:\\users\\hp\\embeddings project\\exploiting-food-embeddings-for-ingredient-substitution\\env\\lib\\site-packages (from -r requirements.txt (line 70)) (3.2.0)\n",
      "Requirement already satisfied: tokenizers==0.14.1 in c:\\users\\hp\\embeddings project\\exploiting-food-embeddings-for-ingredient-substitution\\env\\lib\\site-packages (from -r requirements.txt (line 71)) (0.14.1)\n",
      "Requirement already satisfied: torch==2.1.0 in c:\\users\\hp\\embeddings project\\exploiting-food-embeddings-for-ingredient-substitution\\env\\lib\\site-packages (from -r requirements.txt (line 72)) (2.1.0)\n",
      "Requirement already satisfied: torchaudio==2.1.0 in c:\\users\\hp\\embeddings project\\exploiting-food-embeddings-for-ingredient-substitution\\env\\lib\\site-packages (from -r requirements.txt (line 73)) (2.1.0)\n",
      "Requirement already satisfied: torchvision==0.16.0 in c:\\users\\hp\\embeddings project\\exploiting-food-embeddings-for-ingredient-substitution\\env\\lib\\site-packages (from -r requirements.txt (line 74)) (0.16.0)\n",
      "Requirement already satisfied: tornado==6.3.3 in c:\\users\\hp\\embeddings project\\exploiting-food-embeddings-for-ingredient-substitution\\env\\lib\\site-packages (from -r requirements.txt (line 75)) (6.3.3)\n",
      "Requirement already satisfied: tqdm==4.66.1 in c:\\users\\hp\\embeddings project\\exploiting-food-embeddings-for-ingredient-substitution\\env\\lib\\site-packages (from -r requirements.txt (line 76)) (4.66.1)\n",
      "Requirement already satisfied: traitlets==5.11.2 in c:\\users\\hp\\embeddings project\\exploiting-food-embeddings-for-ingredient-substitution\\env\\lib\\site-packages (from -r requirements.txt (line 77)) (5.11.2)\n",
      "Requirement already satisfied: transformers==4.34.1 in c:\\users\\hp\\embeddings project\\exploiting-food-embeddings-for-ingredient-substitution\\env\\lib\\site-packages (from -r requirements.txt (line 78)) (4.34.1)\n",
      "Requirement already satisfied: typing_extensions==4.8.0 in c:\\users\\hp\\embeddings project\\exploiting-food-embeddings-for-ingredient-substitution\\env\\lib\\site-packages (from -r requirements.txt (line 79)) (4.8.0)\n",
      "Requirement already satisfied: tzdata==2023.3 in c:\\users\\hp\\embeddings project\\exploiting-food-embeddings-for-ingredient-substitution\\env\\lib\\site-packages (from -r requirements.txt (line 80)) (2023.3)\n",
      "Requirement already satisfied: urllib3==2.0.7 in c:\\users\\hp\\embeddings project\\exploiting-food-embeddings-for-ingredient-substitution\\env\\lib\\site-packages (from -r requirements.txt (line 81)) (2.0.7)\n",
      "Requirement already satisfied: wasabi==1.1.2 in c:\\users\\hp\\embeddings project\\exploiting-food-embeddings-for-ingredient-substitution\\env\\lib\\site-packages (from -r requirements.txt (line 82)) (1.1.2)\n",
      "Requirement already satisfied: wcwidth==0.2.8 in c:\\users\\hp\\embeddings project\\exploiting-food-embeddings-for-ingredient-substitution\\env\\lib\\site-packages (from -r requirements.txt (line 83)) (0.2.8)\n",
      "Requirement already satisfied: yarl==1.9.2 in c:\\users\\hp\\embeddings project\\exploiting-food-embeddings-for-ingredient-substitution\\env\\lib\\site-packages (from -r requirements.txt (line 84)) (1.9.2)\n",
      "Requirement already satisfied: setuptools in c:\\users\\hp\\embeddings project\\exploiting-food-embeddings-for-ingredient-substitution\\env\\lib\\site-packages (from thinc==8.2.1->-r requirements.txt (line 69)) (65.5.0)\n"
     ]
    }
   ],
   "source": [
    "!powershell -Command \"pip install -r requirements.txt\""
   ]
  },
  {
   "cell_type": "code",
   "execution_count": 3,
   "metadata": {},
   "outputs": [
    {
     "name": "stderr",
     "output_type": "stream",
     "text": [
      "c:\\Users\\hp\\Embeddings Project\\Exploiting-Food-Embeddings-for-Ingredient-Substitution\\env\\Lib\\site-packages\\tqdm\\auto.py:21: TqdmWarning: IProgress not found. Please update jupyter and ipywidgets. See https://ipywidgets.readthedocs.io/en/stable/user_install.html\n",
      "  from .autonotebook import tqdm as notebook_tqdm\n"
     ]
    }
   ],
   "source": [
    "from gensim.models import Word2Vec\n",
    "import json\n",
    "import numpy as np\n",
    "from sklearn.metrics.pairwise import cosine_similarity\n",
    "import openai\n",
    "import pandas as pd\n",
    "import openai\n",
    "from transformers import BertModel, BertForMaskedLM, BertTokenizer\n",
    "import torch\n",
    "import json"
   ]
  },
  {
   "cell_type": "code",
   "execution_count": 4,
   "metadata": {},
   "outputs": [
    {
     "name": "stdout",
     "output_type": "stream",
     "text": [
      "[WinError 2] The system cannot find the file specified: 'Exploiting-Food-Embeddings-for-Ingredient-Substitution/'\n",
      "c:\\Users\\hp\\Embeddings Project\\Exploiting-Food-Embeddings-for-Ingredient-Substitution\n"
     ]
    }
   ],
   "source": [
    "%cd Exploiting-Food-Embeddings-for-Ingredient-Substitution/"
   ]
  },
  {
   "cell_type": "markdown",
   "metadata": {},
   "source": [
    "### Evaluation of Food2Vec Model"
   ]
  },
  {
   "cell_type": "code",
   "execution_count": 5,
   "metadata": {},
   "outputs": [],
   "source": [
    "## Downloading the Food2vec model\n",
    "\n",
    "## For Linux\n",
    "# !wget https://github.com/ChantalMP/Exploiting-Food-Embeddings-for-Ingredient-Substitution/releases/download/0.1/food2vec_models.zip\n",
    "\n",
    "# For Windows\n",
    "!powershell -Command \"Invoke-WebRequest -Uri 'https://github.com/ChantalMP/Exploiting-Food-Embeddings-for-Ingredient-Substitution/releases/download/0.1/food2vec_models.zip' -OutFile 'food2vec_models.zip'\""
   ]
  },
  {
   "cell_type": "code",
   "execution_count": 6,
   "metadata": {},
   "outputs": [
    {
     "name": "stderr",
     "output_type": "stream",
     "text": [
      "Move-Item : Cannot create a file when that file already exists.\n",
      "At line:1 char:1\n",
      "+ Move-Item 'food2vec_models\\*' 'food2vec\\models\\'\n",
      "+ ~~~~~~~~~~~~~~~~~~~~~~~~~~~~~~~~~~~~~~~~~~~~~~~~\n",
      "    + CategoryInfo          : WriteError: (C:\\Users\\hp\\Emb...food2vec_models:DirectoryInfo) [Move-Item], IOException\n",
      "    + FullyQualifiedErrorId : MoveDirectoryItemIOError,Microsoft.PowerShell.Commands.MoveItemCommand\n",
      " \n"
     ]
    }
   ],
   "source": [
    "## For Linux\n",
    "# !unzip -qq food2vec_models.zip\n",
    "# !mv food2vec_models/* food2vec/models/\n",
    "# !rm -r food2vec_models\n",
    "\n",
    "# For Windows\n",
    "!powershell -Command \"Expand-Archive -Path 'food2vec_models.zip' -DestinationPath 'food2vec_models'\"\n",
    "!powershell -Command \"Move-Item 'food2vec_models\\*' 'food2vec\\models\\'\"\n",
    "!powershell -Command \"Remove-Item 'food2vec_models' -Recurse -Force\""
   ]
  },
  {
   "cell_type": "code",
   "execution_count": 7,
   "metadata": {},
   "outputs": [],
   "source": [
    "with open('foodbert/data/used_ingredients.json', 'r') as f:\n",
    "    used_ingredients = json.load(f)"
   ]
  },
  {
   "cell_type": "code",
   "execution_count": 8,
   "metadata": {},
   "outputs": [],
   "source": [
    "data = pd.read_csv(\"C:/Users/hp\\Downloads/Ingredients Dinnerfy Airtable.csv\")"
   ]
  },
  {
   "cell_type": "code",
   "execution_count": 9,
   "metadata": {},
   "outputs": [
    {
     "name": "stdout",
     "output_type": "stream",
     "text": [
      "<class 'pandas.core.frame.DataFrame'>\n",
      "RangeIndex: 2038 entries, 0 to 2037\n",
      "Data columns (total 3 columns):\n",
      " #   Column   Non-Null Count  Dtype \n",
      "---  ------   --------------  ----- \n",
      " 0   Name     2037 non-null   object\n",
      " 1   Recipes  1122 non-null   object\n",
      " 2   look     2038 non-null   int64 \n",
      "dtypes: int64(1), object(2)\n",
      "memory usage: 47.9+ KB\n"
     ]
    }
   ],
   "source": [
    "data.info()"
   ]
  },
  {
   "cell_type": "code",
   "execution_count": 10,
   "metadata": {},
   "outputs": [
    {
     "data": {
      "text/plain": [
       "2038"
      ]
     },
     "execution_count": 10,
     "metadata": {},
     "output_type": "execute_result"
    }
   ],
   "source": [
    "my_ingredients = list(data[\"Name\"].astype(\"str\"))\n",
    "# print(my_ingredients)\n",
    "len(my_ingredients)"
   ]
  },
  {
   "cell_type": "code",
   "execution_count": 11,
   "metadata": {},
   "outputs": [],
   "source": [
    "map_obj = map(lambda x: x.lower(), my_ingredients)"
   ]
  },
  {
   "cell_type": "code",
   "execution_count": 12,
   "metadata": {},
   "outputs": [
    {
     "data": {
      "text/plain": [
       "2038"
      ]
     },
     "execution_count": 12,
     "metadata": {},
     "output_type": "execute_result"
    }
   ],
   "source": [
    "my_ingredients = list(map_obj)\n",
    "# print(my_ingredients)\n",
    "len(my_ingredients)"
   ]
  },
  {
   "cell_type": "code",
   "execution_count": 13,
   "metadata": {},
   "outputs": [],
   "source": [
    "filter_obj = filter(lambda x: x in used_ingredients, my_ingredients)"
   ]
  },
  {
   "cell_type": "code",
   "execution_count": 14,
   "metadata": {},
   "outputs": [
    {
     "data": {
      "text/plain": [
       "664"
      ]
     },
     "execution_count": 14,
     "metadata": {},
     "output_type": "execute_result"
    }
   ],
   "source": [
    "# Number of Dinnerfy ingredients in the ingredients vocabulary of Food2Vec Model\n",
    "\n",
    "len(list(filter_obj))"
   ]
  },
  {
   "cell_type": "code",
   "execution_count": 15,
   "metadata": {},
   "outputs": [],
   "source": [
    "# Loading the food2vec model \n",
    "model = Word2Vec.load('food2vec/models/food2vec_models/model.bin')"
   ]
  },
  {
   "cell_type": "code",
   "execution_count": 16,
   "metadata": {},
   "outputs": [
    {
     "data": {
      "text/plain": [
       "100"
      ]
     },
     "execution_count": 16,
     "metadata": {},
     "output_type": "execute_result"
    }
   ],
   "source": [
    "# Length of Food2Vec Embeddings is 100\n",
    "len(model.wv[\"salt\"])"
   ]
  },
  {
   "cell_type": "code",
   "execution_count": 17,
   "metadata": {},
   "outputs": [
    {
     "data": {
      "text/plain": [
       "[('Kosher', 0.6294300556182861),\n",
       " ('cracked_black_pepper', 0.6071157455444336),\n",
       " ('Fresh-', 0.5951094031333923),\n",
       " ('dried_parsley', 0.5932490229606628),\n",
       " ('maldon', 0.5932028293609619),\n",
       " ('morton', 0.5621879696846008)]"
      ]
     },
     "execution_count": 17,
     "metadata": {},
     "output_type": "execute_result"
    }
   ],
   "source": [
    "w1 = [\"kosher\"]\n",
    "model.wv.most_similar (positive=w1,topn=6)"
   ]
  },
  {
   "cell_type": "code",
   "execution_count": 18,
   "metadata": {},
   "outputs": [
    {
     "name": "stdout",
     "output_type": "stream",
     "text": [
      "Cosine Similarity between salt and kosher_salt - 0.8143872618675232\n",
      "Cosine Similarity between salt and pepper - 0.18186870217323303\n"
     ]
    }
   ],
   "source": [
    "print(f\"Cosine Similarity between salt and kosher_salt - {model.wv.similarity(w1='salt', w2 ='kosher_salt')}\")\n",
    "print(f\"Cosine Similarity between salt and pepper - {model.wv.similarity(w1='salt', w2 ='pepper')}\")"
   ]
  },
  {
   "cell_type": "code",
   "execution_count": 19,
   "metadata": {},
   "outputs": [
    {
     "name": "stdout",
     "output_type": "stream",
     "text": [
      "Cosine Similarity between parmesan_cheese and grated_parmesan_cheese - 0.7766836285591125\n",
      "Cosine Similarity between parmesan_cheese and mozzarella_cheese - 0.8087217211723328\n"
     ]
    }
   ],
   "source": [
    "print(f\"Cosine Similarity between parmesan_cheese and grated_parmesan_cheese - {model.wv.similarity(w1='parmesan_cheese', w2 ='grated_parmesan_cheese')}\")\n",
    "print(f\"Cosine Similarity between parmesan_cheese and mozzarella_cheese - {model.wv.similarity(w1='parmesan_cheese', w2 ='mozzarella_cheese')}\")"
   ]
  },
  {
   "cell_type": "code",
   "execution_count": 20,
   "metadata": {},
   "outputs": [
    {
     "data": {
      "text/plain": [
       "[('parmesan', 0.9504023790359497),\n",
       " ('romano_cheese', 0.8272979259490967),\n",
       " ('mozzarella_cheese', 0.8087217211723328),\n",
       " ('cheddar_cheese', 0.7970229983329773),\n",
       " ('parmigiano', 0.780430257320404)]"
      ]
     },
     "execution_count": 20,
     "metadata": {},
     "output_type": "execute_result"
    }
   ],
   "source": [
    "model.wv.most_similar(\"parmesan_cheese\", topn = 5)"
   ]
  },
  {
   "cell_type": "code",
   "execution_count": 21,
   "metadata": {},
   "outputs": [
    {
     "name": "stdout",
     "output_type": "stream",
     "text": [
      "Cosine Similarity between garlic and garlic_clove - 0.6446242332458496\n",
      "Cosine Similarity between garlic and ginger - 0.5138317346572876\n"
     ]
    }
   ],
   "source": [
    "print(f\"Cosine Similarity between garlic and garlic_clove - {model.wv.similarity(w1='garlic', w2 ='garlic_clove')}\")\n",
    "print(f\"Cosine Similarity between garlic and ginger - {model.wv.similarity(w1='garlic', w2 ='ginger')}\")"
   ]
  },
  {
   "cell_type": "code",
   "execution_count": 22,
   "metadata": {},
   "outputs": [
    {
     "data": {
      "text/plain": [
       "[('minced_garlic', 0.8553013205528259),\n",
       " ('crushed_garlic', 0.8153051137924194),\n",
       " ('chopped_garlic', 0.7908270955085754),\n",
       " ('garlic_paste', 0.7144184708595276),\n",
       " ('garlic;', 0.697868287563324)]"
      ]
     },
     "execution_count": 22,
     "metadata": {},
     "output_type": "execute_result"
    }
   ],
   "source": [
    "model.wv.most_similar(\"garlic\", topn = 5)"
   ]
  },
  {
   "cell_type": "markdown",
   "metadata": {},
   "source": [
    "### Food2Vec Model\n",
    "\n",
    "#### Advantages:\n",
    "- Generates highly representative embeddings for ingredients in its vocab\n",
    "\n",
    "#### Limitations:\n",
    "- Biggest Limitation - cannot find embeddings for any other ingredient other than the ingredients in the vocab"
   ]
  },
  {
   "cell_type": "markdown",
   "metadata": {},
   "source": [
    "### Evaluation OpenAI's Embeddings of Ingredients"
   ]
  },
  {
   "cell_type": "code",
   "execution_count": 23,
   "metadata": {},
   "outputs": [],
   "source": [
    "# Function for getting the embeddings of ingredients from OpenAI Embeddings Model\n",
    "def get_embeddings(input):\n",
    "    response = openai.Embedding.create(\n",
    "        input= input,\n",
    "        model=\"text-embedding-ada-002\"\n",
    "    )\n",
    "    embeddings = response['data'][0]['embedding']\n",
    "\n",
    "    return np.array(embeddings)"
   ]
  },
  {
   "cell_type": "code",
   "execution_count": 24,
   "metadata": {},
   "outputs": [],
   "source": [
    "# Function to evaluate the similarity of two embeddings\n",
    "\n",
    "def similarity(w1, w2):\n",
    "    similarity = cosine_similarity(w1.reshape(1, -1), w2.reshape(1, -1))\n",
    "    return f\"Cosine Similarity: {similarity[0][0]}\""
   ]
  },
  {
   "cell_type": "code",
   "execution_count": 25,
   "metadata": {},
   "outputs": [],
   "source": [
    "salt = get_embeddings(\"salt\")\n",
    "kosher_salt = get_embeddings(\"kosher_salt\")\n",
    "pepper= get_embeddings(\"pepper\")"
   ]
  },
  {
   "cell_type": "code",
   "execution_count": 26,
   "metadata": {},
   "outputs": [
    {
     "data": {
      "text/plain": [
       "1536"
      ]
     },
     "execution_count": 26,
     "metadata": {},
     "output_type": "execute_result"
    }
   ],
   "source": [
    "# OpenAI makes embeddings of dimension 1536\n",
    "len(salt)"
   ]
  },
  {
   "cell_type": "code",
   "execution_count": 27,
   "metadata": {},
   "outputs": [
    {
     "name": "stdout",
     "output_type": "stream",
     "text": [
      "Salt and Pepper - Cosine Similarity: 0.8295305364447769\n",
      "Salt and Kosher Salt - Cosine Similarity: 0.8551105468777112\n"
     ]
    }
   ],
   "source": [
    "print(f\"Salt and Pepper - {similarity(salt, pepper)}\")\n",
    "print(f\"Salt and Kosher Salt - {similarity(salt, kosher_salt)}\")"
   ]
  },
  {
   "cell_type": "markdown",
   "metadata": {},
   "source": [
    "Salt and Kosher Salt have a high cosine similarity but salt and pepper also have a reasonably high cosine similarity and their is only a marginal difference between the two cosine similarities."
   ]
  },
  {
   "cell_type": "code",
   "execution_count": 29,
   "metadata": {},
   "outputs": [],
   "source": [
    "parmesan  = get_embeddings(\"parmesan_cheese\")\n",
    "grated_parmesan  = get_embeddings(\"grated_parmesan_cheese\")\n",
    "mozzarella = get_embeddings(\"mozzarella_cheese\")"
   ]
  },
  {
   "cell_type": "code",
   "execution_count": 30,
   "metadata": {},
   "outputs": [
    {
     "name": "stdout",
     "output_type": "stream",
     "text": [
      "Parmesan Cheese and Grated Parmesan Cheese - Cosine Similarity: 0.9385202933225403\n",
      "Parmesan Cheese and Mozzarella Cheese - Cosine Similarity: 0.9329625437248483\n"
     ]
    }
   ],
   "source": [
    "print(f\"Parmesan Cheese and Grated Parmesan Cheese - {similarity(parmesan, grated_parmesan)}\")\n",
    "print(f\"Parmesan Cheese and Mozzarella Cheese - {similarity(parmesan, mozzarella)}\")"
   ]
  },
  {
   "cell_type": "markdown",
   "metadata": {},
   "source": [
    "Parmesan Cheese's cosine similarity with grated parmesan cheese is almost equal to its cosine similarity with mozzarella cheese, however, the cosine similarity with grated parmesan cheese should have been more since its just a different form of the same ingredient."
   ]
  },
  {
   "cell_type": "code",
   "execution_count": null,
   "metadata": {},
   "outputs": [],
   "source": [
    "garlic  = get_embeddings(\"garlic\")\n",
    "garlic_clove  = get_embeddings(\"garlic_clove\")\n",
    "ginger = get_embeddings(\"ginger\")"
   ]
  },
  {
   "cell_type": "code",
   "execution_count": null,
   "metadata": {},
   "outputs": [
    {
     "name": "stdout",
     "output_type": "stream",
     "text": [
      "Garlic and Garlic Cloves - Cosine Similarity: 0.9181282821028365\n",
      "Garlic and Ginger - Cosine Similarity: 0.8690620962452782\n"
     ]
    }
   ],
   "source": [
    "print(f\"Garlic and Garlic Cloves - {similarity(garlic, garlic_clove)}\")\n",
    "print(f\"Garlic and Ginger - {similarity(garlic, ginger)}\")"
   ]
  },
  {
   "cell_type": "markdown",
   "metadata": {},
   "source": [
    "### Observation on OpenAI Embeddings\n",
    "\n",
    "The embeddings are representative of the strong similarity between any two similar ingredients. However, they tend to have a high cosine similarity even between ingredients which are not similar, which makes it difficult to identify the most similar ingredients and different names of the same ingredient."
   ]
  },
  {
   "cell_type": "markdown",
   "metadata": {},
   "source": [
    "### Evaluation of FoodBERT "
   ]
  },
  {
   "cell_type": "code",
   "execution_count": 31,
   "metadata": {},
   "outputs": [],
   "source": [
    "## Downloading the FoodBERT model (Can take approx. 30 mins to run)\n",
    "\n",
    "## For Linux\n",
    "# !wget https://github.com/ChantalMP/Exploiting-Food-Embeddings-for-Ingredient-Substitution/releases/download/0.1/foodbert_data.zip\n",
    "\n",
    "## For Windows\n",
    "!powershell -Command \"Invoke-WebRequest -Uri 'https://github.com/ChantalMP/Exploiting-Food-Embeddings-for-Ingredient-Substitution/releases/download/0.1/foodbert_data.zip' -OutFile 'foodbert_data.zip'\""
   ]
  },
  {
   "cell_type": "code",
   "execution_count": 32,
   "metadata": {},
   "outputs": [
    {
     "name": "stderr",
     "output_type": "stream",
     "text": [
      "Move-Item : Cannot create a file when that file already exists.\n",
      "At line:1 char:1\n",
      "+ Move-Item 'foodbert_data\\*' 'foodbert\\data\\'\n",
      "+ ~~~~~~~~~~~~~~~~~~~~~~~~~~~~~~~~~~~~~~~~~~~~\n",
      "    + CategoryInfo          : WriteError: (C:\\Users\\hp\\Emb...a\\foodbert_data:DirectoryInfo) [Move-Item], IOException\n",
      "    + FullyQualifiedErrorId : MoveDirectoryItemIOError,Microsoft.PowerShell.Commands.MoveItemCommand\n",
      " \n",
      "Move-Item : Cannot create a file when that file already exists.\n",
      "At line:1 char:1\n",
      "+ Move-Item 'foodbert_data\\*' 'foodbert\\data\\'\n",
      "+ ~~~~~~~~~~~~~~~~~~~~~~~~~~~~~~~~~~~~~~~~~~~~\n",
      "    + CategoryInfo          : WriteError: (C:\\Users\\hp\\Emb...t_data\\__MACOSX:DirectoryInfo) [Move-Item], IOException\n",
      "    + FullyQualifiedErrorId : MoveDirectoryItemIOError,Microsoft.PowerShell.Commands.MoveItemCommand\n",
      " \n"
     ]
    }
   ],
   "source": [
    "## For Linux\n",
    "# !unzip -qq foodbert_data.zip\n",
    "# !mv foodbert_data/* foodbert/data/\n",
    "# !rm -r foodbert_data\n",
    "\n",
    "# For Windows\n",
    "!powershell -Command \"Expand-Archive -Path 'foodbert_data.zip' -DestinationPath 'foodbert_data'\"\n",
    "!powershell -Command \"Move-Item 'foodbert_data\\*' 'foodbert\\data\\'\"\n",
    "!powershell -Command \"Remove-Item 'foodbert_data' -Recurse -Force\"\n"
   ]
  },
  {
   "cell_type": "code",
   "execution_count": 33,
   "metadata": {},
   "outputs": [
    {
     "name": "stdout",
     "output_type": "stream",
     "text": [
      "Requirement already satisfied: torch in c:\\users\\hp\\embeddings project\\exploiting-food-embeddings-for-ingredient-substitution\\env\\lib\\site-packages (2.1.0)\n",
      "Requirement already satisfied: torchvision in c:\\users\\hp\\embeddings project\\exploiting-food-embeddings-for-ingredient-substitution\\env\\lib\\site-packages (0.16.0)\n",
      "Requirement already satisfied: torchaudio in c:\\users\\hp\\embeddings project\\exploiting-food-embeddings-for-ingredient-substitution\\env\\lib\\site-packages (2.1.0)\n",
      "Requirement already satisfied: filelock in c:\\users\\hp\\embeddings project\\exploiting-food-embeddings-for-ingredient-substitution\\env\\lib\\site-packages (from torch) (3.12.4)\n",
      "Requirement already satisfied: typing-extensions in c:\\users\\hp\\embeddings project\\exploiting-food-embeddings-for-ingredient-substitution\\env\\lib\\site-packages (from torch) (4.8.0)\n",
      "Requirement already satisfied: sympy in c:\\users\\hp\\embeddings project\\exploiting-food-embeddings-for-ingredient-substitution\\env\\lib\\site-packages (from torch) (1.12)\n",
      "Requirement already satisfied: networkx in c:\\users\\hp\\embeddings project\\exploiting-food-embeddings-for-ingredient-substitution\\env\\lib\\site-packages (from torch) (3.2)\n",
      "Requirement already satisfied: jinja2 in c:\\users\\hp\\embeddings project\\exploiting-food-embeddings-for-ingredient-substitution\\env\\lib\\site-packages (from torch) (3.1.2)\n",
      "Requirement already satisfied: fsspec in c:\\users\\hp\\embeddings project\\exploiting-food-embeddings-for-ingredient-substitution\\env\\lib\\site-packages (from torch) (2023.9.2)\n",
      "Requirement already satisfied: numpy in c:\\users\\hp\\embeddings project\\exploiting-food-embeddings-for-ingredient-substitution\\env\\lib\\site-packages (from torchvision) (1.26.1)\n",
      "Requirement already satisfied: requests in c:\\users\\hp\\embeddings project\\exploiting-food-embeddings-for-ingredient-substitution\\env\\lib\\site-packages (from torchvision) (2.31.0)\n",
      "Requirement already satisfied: pillow!=8.3.*,>=5.3.0 in c:\\users\\hp\\embeddings project\\exploiting-food-embeddings-for-ingredient-substitution\\env\\lib\\site-packages (from torchvision) (10.1.0)\n",
      "Requirement already satisfied: MarkupSafe>=2.0 in c:\\users\\hp\\embeddings project\\exploiting-food-embeddings-for-ingredient-substitution\\env\\lib\\site-packages (from jinja2->torch) (2.1.3)\n",
      "Requirement already satisfied: charset-normalizer<4,>=2 in c:\\users\\hp\\embeddings project\\exploiting-food-embeddings-for-ingredient-substitution\\env\\lib\\site-packages (from requests->torchvision) (3.3.0)\n",
      "Requirement already satisfied: idna<4,>=2.5 in c:\\users\\hp\\embeddings project\\exploiting-food-embeddings-for-ingredient-substitution\\env\\lib\\site-packages (from requests->torchvision) (3.4)\n",
      "Requirement already satisfied: urllib3<3,>=1.21.1 in c:\\users\\hp\\embeddings project\\exploiting-food-embeddings-for-ingredient-substitution\\env\\lib\\site-packages (from requests->torchvision) (2.0.7)\n",
      "Requirement already satisfied: certifi>=2017.4.17 in c:\\users\\hp\\embeddings project\\exploiting-food-embeddings-for-ingredient-substitution\\env\\lib\\site-packages (from requests->torchvision) (2023.7.22)\n",
      "Requirement already satisfied: mpmath>=0.19 in c:\\users\\hp\\embeddings project\\exploiting-food-embeddings-for-ingredient-substitution\\env\\lib\\site-packages (from sympy->torch) (1.3.0)\n"
     ]
    }
   ],
   "source": [
    "!pip3 install torch torchvision torchaudio"
   ]
  },
  {
   "cell_type": "code",
   "execution_count": 34,
   "metadata": {},
   "outputs": [],
   "source": [
    "with open('foodbert/data/used_ingredients.json', 'r') as f:\n",
    "    used_ingredients = json.load(f)\n",
    "tokenizer = BertTokenizer(vocab_file='foodbert/data/bert-base-cased-vocab.txt', do_lower_case=False, max_len=128, never_split=used_ingredients)"
   ]
  },
  {
   "cell_type": "code",
   "execution_count": 35,
   "metadata": {},
   "outputs": [
    {
     "data": {
      "text/plain": [
       "BertModel(\n",
       "  (embeddings): BertEmbeddings(\n",
       "    (word_embeddings): Embedding(33247, 768, padding_idx=0)\n",
       "    (position_embeddings): Embedding(512, 768)\n",
       "    (token_type_embeddings): Embedding(2, 768)\n",
       "    (LayerNorm): LayerNorm((768,), eps=1e-12, elementwise_affine=True)\n",
       "    (dropout): Dropout(p=0.1, inplace=False)\n",
       "  )\n",
       "  (encoder): BertEncoder(\n",
       "    (layer): ModuleList(\n",
       "      (0-11): 12 x BertLayer(\n",
       "        (attention): BertAttention(\n",
       "          (self): BertSelfAttention(\n",
       "            (query): Linear(in_features=768, out_features=768, bias=True)\n",
       "            (key): Linear(in_features=768, out_features=768, bias=True)\n",
       "            (value): Linear(in_features=768, out_features=768, bias=True)\n",
       "            (dropout): Dropout(p=0.1, inplace=False)\n",
       "          )\n",
       "          (output): BertSelfOutput(\n",
       "            (dense): Linear(in_features=768, out_features=768, bias=True)\n",
       "            (LayerNorm): LayerNorm((768,), eps=1e-12, elementwise_affine=True)\n",
       "            (dropout): Dropout(p=0.1, inplace=False)\n",
       "          )\n",
       "        )\n",
       "        (intermediate): BertIntermediate(\n",
       "          (dense): Linear(in_features=768, out_features=3072, bias=True)\n",
       "          (intermediate_act_fn): GELUActivation()\n",
       "        )\n",
       "        (output): BertOutput(\n",
       "          (dense): Linear(in_features=3072, out_features=768, bias=True)\n",
       "          (LayerNorm): LayerNorm((768,), eps=1e-12, elementwise_affine=True)\n",
       "          (dropout): Dropout(p=0.1, inplace=False)\n",
       "        )\n",
       "      )\n",
       "    )\n",
       "  )\n",
       "  (pooler): BertPooler(\n",
       "    (dense): Linear(in_features=768, out_features=768, bias=True)\n",
       "    (activation): Tanh()\n",
       "  )\n",
       ")"
      ]
     },
     "execution_count": 35,
     "metadata": {},
     "output_type": "execute_result"
    }
   ],
   "source": [
    "model = BertModel.from_pretrained(pretrained_model_name_or_path='foodbert/data/foodbert_data/mlm_output/checkpoint-final')\n",
    "device = torch.device('cuda') if torch.cuda.is_available() else torch.device('cpu')\n",
    "model.to(device)"
   ]
  },
  {
   "cell_type": "code",
   "execution_count": 106,
   "metadata": {},
   "outputs": [],
   "source": [
    "def get_bert_embedding(word):\n",
    "    \"\"\"\n",
    "    Returns the average of the token indices except the last (EOS) and the first token (BOS)\n",
    "    \"\"\"\n",
    "    if word:\n",
    "        input_ids = torch.tensor(tokenizer.encode(word, add_special_tokens=True)).unsqueeze(0)\n",
    "        input_ids = input_ids.to(device)\n",
    "        outputs = model(input_ids)\n",
    "        embedding = np.squeeze(np.sum(outputs[0].detach().numpy()[:,0:-1,:],axis = 1)/(outputs[0].detach().numpy().shape[1] - 2))\n",
    "\n",
    "        return embedding\n"
   ]
  },
  {
   "cell_type": "code",
   "execution_count": 109,
   "metadata": {},
   "outputs": [
    {
     "data": {
      "text/plain": [
       "(768,)"
      ]
     },
     "execution_count": 109,
     "metadata": {},
     "output_type": "execute_result"
    }
   ],
   "source": [
    "# FoodBERT generates 768 dimensional embeddings for ingredients\n",
    "\n",
    "get_bert_embedding(\"salt\").shape\n"
   ]
  },
  {
   "cell_type": "code",
   "execution_count": 110,
   "metadata": {},
   "outputs": [
    {
     "name": "stdout",
     "output_type": "stream",
     "text": [
      "Salt and Kosher Salt - Cosine Similarity: 0.8881312608718872\n",
      "Salt and Pepper - Cosine Similarity: 0.6598259806632996\n"
     ]
    }
   ],
   "source": [
    "salt = get_bert_embedding(\"salt\")\n",
    "kosher_salt = get_bert_embedding(\"kosher_salt\")\n",
    "pepper = get_bert_embedding(\"pepper\")\n",
    "\n",
    "print(f\"Salt and Kosher Salt - {similarity(salt, kosher_salt)}\")\n",
    "print(f\"Salt and Pepper - {similarity(salt, pepper)}\")"
   ]
  },
  {
   "cell_type": "markdown",
   "metadata": {},
   "source": [
    "FoodBERT is clearly able to highlight the strong similarity between salt and kosher salt and also the low similarity between salt and pepper."
   ]
  },
  {
   "cell_type": "code",
   "execution_count": 111,
   "metadata": {},
   "outputs": [
    {
     "name": "stdout",
     "output_type": "stream",
     "text": [
      "Parmesan Cheese and Grated Parmesan Cheese - Cosine Similarity: 0.8406903743743896\n",
      "Parmesan Cheese and Mozzarella Cheese - Cosine Similarity: 0.8513528108596802\n"
     ]
    }
   ],
   "source": [
    "parmesan = get_bert_embedding(\"parmesan_cheese\")\n",
    "grated_parmesan = get_bert_embedding(\"grated_parmesan_cheese\")\n",
    "mozzarella = get_bert_embedding(\"mozzarella_cheese\")\n",
    "\n",
    "print(f\"Parmesan Cheese and Grated Parmesan Cheese - {similarity(parmesan, grated_parmesan)}\")\n",
    "print(f\"Parmesan Cheese and Mozzarella Cheese - {similarity(parmesan, mozzarella)}\")"
   ]
  },
  {
   "cell_type": "markdown",
   "metadata": {},
   "source": [
    "Embeddings for Parmesan Cheese and Grated Parmesan Cheese and parmesan cheese and mozzarella cheese have a high cosine similarity."
   ]
  },
  {
   "cell_type": "code",
   "execution_count": 112,
   "metadata": {},
   "outputs": [
    {
     "name": "stdout",
     "output_type": "stream",
     "text": [
      "Garlic and Garlic Cloves - Cosine Similarity: 0.8596292734146118\n",
      "Garlic and Ginger - Cosine Similarity: 0.5114772915840149\n"
     ]
    }
   ],
   "source": [
    "garlic = get_bert_embedding(\"garlic\")\n",
    "garlic_clove = get_bert_embedding(\"garlic_clove\")\n",
    "ginger = get_bert_embedding(\"ginger\")\n",
    "\n",
    "print(f\"Garlic and Garlic Cloves - {similarity(garlic, garlic_clove)}\")\n",
    "print(f\"Garlic and Ginger - {similarity(garlic, ginger)}\")"
   ]
  },
  {
   "cell_type": "markdown",
   "metadata": {},
   "source": [
    "Garlic and Garlic Cloves have a high cosine similarity which is valid, since they are synonymous, while the cosine similarity for Garlic and Ginger is low which is also valid."
   ]
  },
  {
   "cell_type": "code",
   "execution_count": 113,
   "metadata": {},
   "outputs": [
    {
     "name": "stdout",
     "output_type": "stream",
     "text": [
      "Potato and Sliced Potato - Cosine Similarity: 0.8131145238876343\n",
      "Potato and Sweet Potato - Cosine Similarity: 0.7819738984107971\n"
     ]
    }
   ],
   "source": [
    "potato = get_bert_embedding(\"potato\")\n",
    "sweet_potato = get_bert_embedding(\"sweet_potato\")\n",
    "sliced_potato = get_bert_embedding(\"sliced_potato\")\n",
    "\n",
    "print(f\"Potato and Sliced Potato - {similarity(potato, sliced_potato)}\")\n",
    "print(f\"Potato and Sweet Potato - {similarity(potato, sweet_potato)}\")"
   ]
  },
  {
   "cell_type": "markdown",
   "metadata": {},
   "source": [
    "Cosine Similarity between Potato and Sliced Potato is higher than the cosine similarity between Potato and Sweet Potato which is correct, since sliced potato is processed form of potatoes while sweet potato is a different ingredient."
   ]
  },
  {
   "cell_type": "code",
   "execution_count": 114,
   "metadata": {},
   "outputs": [
    {
     "name": "stdout",
     "output_type": "stream",
     "text": [
      "Crushed_Red_Pepper_Flakes and Chilli Flakes - Cosine Similarity: 0.8620383739471436\n",
      "Crushed_Red_Pepper_Flakes and Oregano Seasoning - Cosine Similarity: 0.7542827129364014\n"
     ]
    }
   ],
   "source": [
    "Crushed_Red_Pepper_Flakes = get_bert_embedding(\"crushed_red_pepper_flakes\")\n",
    "Chilli_Flakes = get_bert_embedding(\"chilli_flakes\")\n",
    "Oregano_Seasoning = get_bert_embedding(\"oregano_seasoning\")\n",
    "\n",
    "print(f\"Crushed_Red_Pepper_Flakes and Chilli Flakes - {similarity(Crushed_Red_Pepper_Flakes, Chilli_Flakes)}\")\n",
    "print(f\"Crushed_Red_Pepper_Flakes and Oregano Seasoning - {similarity(Crushed_Red_Pepper_Flakes, Oregano_Seasoning)}\")"
   ]
  },
  {
   "cell_type": "markdown",
   "metadata": {},
   "source": [
    "FoodBERT is able to generate apt embeddings for new ingredients like crushed_red_pepper flakes and also obtain the right relationship between new ingredients."
   ]
  },
  {
   "cell_type": "code",
   "execution_count": 115,
   "metadata": {},
   "outputs": [
    {
     "name": "stdout",
     "output_type": "stream",
     "text": [
      "Onion and Large Onion - Cosine Similarity: 0.7472556233406067\n"
     ]
    }
   ],
   "source": [
    "onion = get_bert_embedding(\"onion\")\n",
    "large_onion = get_bert_embedding(\"large_onion\")\n",
    "\n",
    "print(f\"Onion and Large Onion - {similarity(onion, large_onion)}\")"
   ]
  },
  {
   "cell_type": "markdown",
   "metadata": {},
   "source": [
    "Onion and Large Onion are the same ingredients, however, they have a relatively low degree of similarity"
   ]
  },
  {
   "cell_type": "code",
   "execution_count": 116,
   "metadata": {},
   "outputs": [
    {
     "name": "stdout",
     "output_type": "stream",
     "text": [
      "Egg and Boiled Egg - Cosine Similarity: 0.6770237684249878\n",
      "Egg and Eggplant - Cosine Similarity: 0.7074657678604126\n"
     ]
    }
   ],
   "source": [
    "egg = get_bert_embedding(\"egg\")\n",
    "boiled_egg = get_bert_embedding(\"boiled_egg\")\n",
    "eggplant = get_bert_embedding(\"eggpant\")\n",
    "\n",
    "print(f\"Egg and Boiled Egg - {similarity(egg, boiled_egg)}\")\n",
    "print(f\"Egg and Eggplant - {similarity(egg, eggplant)}\")"
   ]
  },
  {
   "cell_type": "markdown",
   "metadata": {},
   "source": [
    "Egg and boiled egg are the same ingredients, however, their cosine similarity is low. On the other hand, egg and eggplant have a higher cosine similarity which are completely different food items."
   ]
  },
  {
   "cell_type": "code",
   "execution_count": 117,
   "metadata": {},
   "outputs": [
    {
     "name": "stdout",
     "output_type": "stream",
     "text": [
      "Potato and Potatoes - Cosine Similarity: 0.6225559115409851\n"
     ]
    }
   ],
   "source": [
    "potato = get_bert_embedding(\"potato\")\n",
    "potatoes = get_bert_embedding(\"potatoes\")\n",
    "\n",
    "\n",
    "print(f\"Potato and Potatoes - {similarity(potato, potatoes)}\")"
   ]
  },
  {
   "cell_type": "markdown",
   "metadata": {},
   "source": [
    "Potato and potatoes have a very low cosine similarity even though they are the same ingredients"
   ]
  },
  {
   "cell_type": "code",
   "execution_count": 118,
   "metadata": {},
   "outputs": [
    {
     "name": "stdout",
     "output_type": "stream",
     "text": [
      "Tomato and Cherry Tomato - Cosine Similarity: 0.7752974629402161\n"
     ]
    }
   ],
   "source": [
    "tomato = get_bert_embedding(\"tomato\")\n",
    "cherry_tomato = get_bert_embedding(\"cherry_tomato\")\n",
    "\n",
    "print(f\"Tomato and Cherry Tomato - {similarity(tomato, cherry_tomato)}\")"
   ]
  },
  {
   "cell_type": "markdown",
   "metadata": {},
   "source": [
    "### Observations on FoodBERT Embeddings\n",
    "\n",
    "#### Advantages:\n",
    "- Able to generate reasonable embeddings for previously unseen ingredients \n",
    "- Performs adequately in differentiating between closely used ingredients (like salt and pepper)\n",
    "\n",
    "#### Limitations:\n",
    "- Performs poorly on plural form of the same ingredient\n",
    "- All ingredients should be in the same form (like \"FirstName_LastName\") otherwise can get unexpected results\n",
    "- Poor results with prefixes like \"large\" before the ingredient\n",
    "\n",
    "\n",
    "#### Ways to Use\n",
    "- Embeddings for a good database of ingredients can be generated and stored in a database and the unknown ingredients can be matched with the already existing database by calculating cosine similarity\n",
    "- Prefixes like \"large\" can be removed from the ingredients can be removed "
   ]
  },
  {
   "cell_type": "code",
   "execution_count": null,
   "metadata": {},
   "outputs": [],
   "source": []
  },
  {
   "cell_type": "markdown",
   "metadata": {},
   "source": [
    "### Creating a Vector Database using Pinecone"
   ]
  },
  {
   "cell_type": "code",
   "execution_count": 119,
   "metadata": {},
   "outputs": [],
   "source": [
    "ingredients_df = pd.read_csv(\"C:/Users/hp/Downloads/Ingredients Dinnerfy Airtable.csv\")"
   ]
  },
  {
   "cell_type": "code",
   "execution_count": 120,
   "metadata": {},
   "outputs": [
    {
     "name": "stderr",
     "output_type": "stream",
     "text": [
      "c:\\Users\\hp\\Embeddings Project\\Exploiting-Food-Embeddings-for-Ingredient-Substitution\\env\\Lib\\site-packages\\numpy\\core\\fromnumeric.py:86: FutureWarning: The behavior of DataFrame.sum with axis=None is deprecated, in a future version this will reduce over both axes and return a scalar. To retain the old behavior, pass axis=0 (or do not pass axis)\n",
      "  return reduction(axis=axis, out=out, **passkwargs)\n"
     ]
    },
    {
     "data": {
      "text/plain": [
       "Name       0\n",
       "Recipes    0\n",
       "look       0\n",
       "dtype: int64"
      ]
     },
     "execution_count": 120,
     "metadata": {},
     "output_type": "execute_result"
    }
   ],
   "source": [
    "ingredients_df = ingredients_df.fillna(\"\")\n",
    "np.sum(ingredients_df.isna())"
   ]
  },
  {
   "cell_type": "code",
   "execution_count": 121,
   "metadata": {},
   "outputs": [
    {
     "name": "stdout",
     "output_type": "stream",
     "text": [
      "                     Name                                            Recipes  \\\n",
      "0                    Salt  Slow Cooker Whole Chicken,Mediterranean Pasta ...   \n",
      "1            Black_Pepper  Lentil Soup,Salmon with Fennel,Greek Chicken W...   \n",
      "2               Olive_Oil  Pan-Seared Salmon,Salmon with Citrus Sauce,Lem...   \n",
      "3                  Garlic  Almond Dijon Chicken,Quinoa and Sausage-Stuffe...   \n",
      "4                   Onion  Slow Cooker Whole Chicken,Quinoa and Sausage-S...   \n",
      "...                   ...                                                ...   \n",
      "2033     Red_chili_powder                                                      \n",
      "2034  Ginger_garlic_paste                                                      \n",
      "2035         Tomato_puree                                                      \n",
      "2036        Doritos_Chips                                                      \n",
      "2037          Egg_noodles                                                      \n",
      "\n",
      "      look                                         embeddings  \n",
      "0      202  [-0.99982315, -0.0957199, -0.05157475, 1.30793...  \n",
      "1      142  [0.33118567, -0.4940509, 0.27371705, 0.2762848...  \n",
      "2      134  [-0.2660846, 0.03545332, -0.11740816, -0.02786...  \n",
      "3      120  [-0.6486716, -0.5002168, -0.21432833, 1.358097...  \n",
      "4       84  [-0.3459399, -0.15718268, -0.25145456, 0.58147...  \n",
      "...    ...                                                ...  \n",
      "2033     0  [-0.007397908, -0.14546755, 0.017038038, 0.180...  \n",
      "2034     0  [0.0751607, 0.08468899, -0.2067945, 0.33345124...  \n",
      "2035     0  [-0.35014644, -0.26850915, -0.009230042, 0.353...  \n",
      "2036     0  [0.16515864, 0.014551337, 0.05049008, 0.352081...  \n",
      "2037     0  [0.09989541, 0.012259341, -0.3187825, 0.046217...  \n",
      "\n",
      "[2038 rows x 4 columns]\n"
     ]
    }
   ],
   "source": [
    "# Adding Embeddings Column to Dataframe\n",
    "\n",
    "ingredients_df[\"embeddings\"] = ingredients_df[\"Name\"].apply(get_bert_embedding)\n",
    "print(ingredients_df)"
   ]
  },
  {
   "cell_type": "code",
   "execution_count": 250,
   "metadata": {},
   "outputs": [
    {
     "name": "stderr",
     "output_type": "stream",
     "text": [
      "c:\\Users\\hp\\Embeddings Project\\Exploiting-Food-Embeddings-for-Ingredient-Substitution\\env\\Lib\\site-packages\\numpy\\core\\fromnumeric.py:86: FutureWarning: The behavior of DataFrame.sum with axis=None is deprecated, in a future version this will reduce over both axes and return a scalar. To retain the old behavior, pass axis=0 (or do not pass axis)\n",
      "  return reduction(axis=axis, out=out, **passkwargs)\n"
     ]
    },
    {
     "data": {
      "text/plain": [
       "Name          0\n",
       "embeddings    0\n",
       "id            0\n",
       "dtype: int64"
      ]
     },
     "execution_count": 250,
     "metadata": {},
     "output_type": "execute_result"
    }
   ],
   "source": [
    "ingredients_df = ingredients_df.dropna()\n",
    "np.sum(ingredients_df.isna())"
   ]
  },
  {
   "cell_type": "code",
   "execution_count": 175,
   "metadata": {},
   "outputs": [
    {
     "name": "stderr",
     "output_type": "stream",
     "text": [
      "C:\\Users\\hp\\AppData\\Local\\Temp\\ipykernel_15820\\3857504543.py:1: SettingWithCopyWarning: \n",
      "A value is trying to be set on a copy of a slice from a DataFrame.\n",
      "Try using .loc[row_indexer,col_indexer] = value instead\n",
      "\n",
      "See the caveats in the documentation: https://pandas.pydata.org/pandas-docs/stable/user_guide/indexing.html#returning-a-view-versus-a-copy\n",
      "  ingredients_df[\"embeddings\"] = ingredients_df[\"embeddings\"].apply(lambda x: x.tolist())\n"
     ]
    }
   ],
   "source": [
    "ingredients_df[\"embeddings\"] = ingredients_df[\"embeddings\"].apply(lambda x: x.tolist())"
   ]
  },
  {
   "cell_type": "code",
   "execution_count": 144,
   "metadata": {},
   "outputs": [],
   "source": [
    "# ingredients_df = ingredients_df.drop(\"Recipes\", axis = 1)"
   ]
  },
  {
   "cell_type": "code",
   "execution_count": 145,
   "metadata": {},
   "outputs": [],
   "source": [
    "ingredients_df[\"id\"] = ingredients_df.index"
   ]
  },
  {
   "cell_type": "code",
   "execution_count": 160,
   "metadata": {},
   "outputs": [],
   "source": [
    "import pinecone"
   ]
  },
  {
   "cell_type": "code",
   "execution_count": 179,
   "metadata": {},
   "outputs": [],
   "source": [
    "# Helper functions for upserting data to vector db\n",
    "\n",
    "def chunker(seq, size):\n",
    " 'Yields a series of slices of the original iterable, up to the limit of what size is.'\n",
    " for pos in range(0, len(seq), size):\n",
    "   yield seq.iloc[pos:pos + size]\n",
    "   \n",
    "\n",
    "def convert_data(chunk):\n",
    " 'Converts a pandas dataframe to be a simple list of tuples, formatted how the `upsert()` method in the Pinecone Python client expects.'\n",
    " data = []\n",
    " for i in chunk.to_dict('records'):\n",
    "  if 'metadata' in i:\n",
    "   data.append((str(i['id']), i['embeddings'], i['metadata']))\n",
    "  else:\n",
    "   data.append((str(i['id']), i['embeddings']))\n",
    " return data"
   ]
  },
  {
   "cell_type": "code",
   "execution_count": 189,
   "metadata": {},
   "outputs": [],
   "source": [
    "pinecone.init(\n",
    "    api_key=\"84d086bd-a563-4439-8d86-7218de523a49\",\n",
    "    environment=\"gcp-starter\"\n",
    ")\n",
    "# check if 'ingredient-search' index already exists (only create index if not)\n",
    "# if 'bgb' not in pinecone.list_indexes():\n",
    "#     pinecone.create_index('ingredient-search', dimension = 768, metric = \"cosine\")\n",
    "# # connect to index\n",
    "index = pinecone.Index('ingredient-search')\n"
   ]
  },
  {
   "cell_type": "code",
   "execution_count": null,
   "metadata": {},
   "outputs": [],
   "source": [
    "# Adding data to pinecone vector db\n",
    "for chunk in chunker(ingredients_df,100):\n",
    "  index.upsert(vectors=convert_data(chunk))"
   ]
  },
  {
   "cell_type": "code",
   "execution_count": null,
   "metadata": {},
   "outputs": [],
   "source": []
  },
  {
   "cell_type": "code",
   "execution_count": 276,
   "metadata": {},
   "outputs": [],
   "source": [
    "# Funtion to find the most similar ingredients to an ingredient\n",
    "def similar_ingredients(query, top_k = 5):\n",
    "    xq = get_bert_embedding(query).tolist()\n",
    "\n",
    "    xc = index.query(xq, top_k = top_k, include_metadata = False, metric = \"cosine\")\n",
    "    match_indices= []\n",
    "    match_scores = []\n",
    "    for match in xc[\"matches\"]:\n",
    "        match_indices.append(match[\"id\"])\n",
    "        match_scores.append(match[\"score\"])\n",
    "\n",
    "    return list(zip([ingredients_df.loc[int(id)][\"Name\"] for id in match_indices], match_scores))"
   ]
  },
  {
   "cell_type": "code",
   "execution_count": 277,
   "metadata": {},
   "outputs": [
    {
     "data": {
      "text/plain": [
       "[('Salt', 0.923648894),\n",
       " ('taco_seasoning', 0.685300231),\n",
       " ('Kosher_salt', 0.6826213),\n",
       " ('fresh_lemon_juice', 0.682364643),\n",
       " ('Salt_2', 0.670577645)]"
      ]
     },
     "execution_count": 277,
     "metadata": {},
     "output_type": "execute_result"
    }
   ],
   "source": [
    "similar_ingredients(\"salt\", 5)"
   ]
  },
  {
   "cell_type": "code",
   "execution_count": 280,
   "metadata": {},
   "outputs": [
    {
     "data": {
      "text/plain": [
       "[('Flour', 0.652291477),\n",
       " ('All-purpose_flour', 0.605266),\n",
       " ('Whole_wheat_flour', 0.584830761),\n",
       " ('flour_tortillas', 0.584145427),\n",
       " ('Whole-wheat_flour', 0.582782388)]"
      ]
     },
     "execution_count": 280,
     "metadata": {},
     "output_type": "execute_result"
    }
   ],
   "source": [
    "similar_ingredients(\"flour\")"
   ]
  },
  {
   "cell_type": "code",
   "execution_count": 282,
   "metadata": {},
   "outputs": [
    {
     "data": {
      "text/plain": [
       "[('garlic_cloves', 0.999789238),\n",
       " ('Peeled_garlic_cloves', 0.914329469),\n",
       " ('Minced_garlic_cloves', 0.912463486),\n",
       " ('Minced_garlic_(3_cloves)', 0.876065075),\n",
       " ('Minced_garlic', 0.800927937)]"
      ]
     },
     "execution_count": 282,
     "metadata": {},
     "output_type": "execute_result"
    }
   ],
   "source": [
    "similar_ingredients(\"garlic_cloves\")"
   ]
  },
  {
   "cell_type": "code",
   "execution_count": 283,
   "metadata": {},
   "outputs": [
    {
     "data": {
      "text/plain": [
       "[('Shredded_Lettuce', 0.920199454),\n",
       " ('Shredded_cheese', 0.920153856),\n",
       " ('Shredded_Chicken', 0.917511582),\n",
       " ('Shredded_cheddar_cheese', 0.908815682),\n",
       " ('Shredded_Cheese', 0.906285524)]"
      ]
     },
     "execution_count": 283,
     "metadata": {},
     "output_type": "execute_result"
    }
   ],
   "source": [
    "similar_ingredients(\"shredded_onion\")"
   ]
  },
  {
   "cell_type": "markdown",
   "metadata": {},
   "source": [
    "Observation: Gives more weightage to the processing rather than the ingredient in this case"
   ]
  },
  {
   "cell_type": "code",
   "execution_count": 290,
   "metadata": {},
   "outputs": [
    {
     "data": {
      "text/plain": [
       "[('Chili_Flakes', 0.910840809),\n",
       " ('Red_Chili_Flakes', 0.816604435),\n",
       " ('Celery_Stalks', 0.785562336),\n",
       " ('Red Pepper Flakes', 0.783036947),\n",
       " ('Saffron_Threads', 0.782991171)]"
      ]
     },
     "execution_count": 290,
     "metadata": {},
     "output_type": "execute_result"
    }
   ],
   "source": [
    "similar_ingredients(\"Chilli Flakes\")"
   ]
  },
  {
   "cell_type": "code",
   "execution_count": 294,
   "metadata": {},
   "outputs": [
    {
     "data": {
      "text/plain": [
       "[('Sage', 0.999222398),\n",
       " ('Pepper', 0.999049425),\n",
       " ('Bacon', 0.998535097),\n",
       " ('Honey', 0.998523772),\n",
       " ('Water', 0.998472)]"
      ]
     },
     "execution_count": 294,
     "metadata": {},
     "output_type": "execute_result"
    }
   ],
   "source": [
    "# Almost all wrong top 5\n",
    "similar_ingredients(\"Pepper\")"
   ]
  },
  {
   "cell_type": "code",
   "execution_count": 296,
   "metadata": {},
   "outputs": [
    {
     "data": {
      "text/plain": [
       "[('Thinly_sliced_green_onion', 0.89614141),\n",
       " ('Thinly_sliced_red_onion', 0.878154695),\n",
       " ('Thinly_sliced_Italian_prosciutto', 0.841239154),\n",
       " ('Sliced_green_onions', 0.817920446),\n",
       " ('Medium-diced_fennel', 0.811104476)]"
      ]
     },
     "execution_count": 296,
     "metadata": {},
     "output_type": "execute_result"
    }
   ],
   "source": [
    "similar_ingredients(\"Extremely thinly sliced green onion\")"
   ]
  },
  {
   "cell_type": "code",
   "execution_count": 297,
   "metadata": {},
   "outputs": [
    {
     "data": {
      "text/plain": [
       "[('Kosher_salt', 0.80768311),\n",
       " ('Seasoned_salt', 0.745249152),\n",
       " ('Kosher_Salt_2', 0.718404293),\n",
       " ('Kosher_Salt', 0.714230478),\n",
       " ('Garlic_salt', 0.707502604)]"
      ]
     },
     "execution_count": 297,
     "metadata": {},
     "output_type": "execute_result"
    }
   ],
   "source": [
    "similar_ingredients(\"kosher salt\")"
   ]
  },
  {
   "cell_type": "code",
   "execution_count": null,
   "metadata": {},
   "outputs": [],
   "source": []
  }
 ],
 "metadata": {
  "kernelspec": {
   "display_name": "Python 3",
   "language": "python",
   "name": "python3"
  },
  "language_info": {
   "codemirror_mode": {
    "name": "ipython",
    "version": 3
   },
   "file_extension": ".py",
   "mimetype": "text/x-python",
   "name": "python",
   "nbconvert_exporter": "python",
   "pygments_lexer": "ipython3",
   "version": "3.11.6"
  }
 },
 "nbformat": 4,
 "nbformat_minor": 2
}
