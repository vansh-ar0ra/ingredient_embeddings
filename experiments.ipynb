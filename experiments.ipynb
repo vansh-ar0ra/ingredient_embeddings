{
 "cells": [
  {
   "cell_type": "code",
   "execution_count": 4,
   "metadata": {},
   "outputs": [],
   "source": [
    "from gensim.models import Word2Vec\n",
    "import json\n",
    "import numpy as np\n",
    "from sklearn.metrics.pairwise import cosine_similarity\n",
    "import openai\n",
    "import pandas as pd\n",
    "import openai"
   ]
  },
  {
   "cell_type": "code",
   "execution_count": 311,
   "metadata": {},
   "outputs": [
    {
     "name": "stdout",
     "output_type": "stream",
     "text": [
      "[WinError 2] The system cannot find the file specified: 'Exploiting-Food-Embeddings-for-Ingredient-Substitution/'\n",
      "c:\\Users\\hp\\Embeddings Project\\Exploiting-Food-Embeddings-for-Ingredient-Substitution\n"
     ]
    }
   ],
   "source": [
    "%cd Exploiting-Food-Embeddings-for-Ingredient-Substitution/"
   ]
  },
  {
   "cell_type": "code",
   "execution_count": null,
   "metadata": {},
   "outputs": [],
   "source": [
    "!wget https://github.com/ChantalMP/Exploiting-Food-Embeddings-for-Ingredient-Substitution/releases/download/0.1/food2vec_models.zip"
   ]
  },
  {
   "cell_type": "code",
   "execution_count": null,
   "metadata": {},
   "outputs": [],
   "source": [
    "!unzip -qq food2vec_models.zip\n",
    "!mv food2vec_models/* food2vec/models/\n",
    "!rm -r food2vec_models"
   ]
  },
  {
   "cell_type": "code",
   "execution_count": null,
   "metadata": {},
   "outputs": [],
   "source": [
    "!pip install -r requirements.txt"
   ]
  },
  {
   "cell_type": "code",
   "execution_count": 3,
   "metadata": {},
   "outputs": [],
   "source": [
    "with open('foodbert/data/used_ingredients.json', 'r') as f:\n",
    "    used_ingredients = json.load(f)"
   ]
  },
  {
   "cell_type": "code",
   "execution_count": 4,
   "metadata": {},
   "outputs": [],
   "source": [
    "data = pd.read_csv(\"C:/Users/hp\\Downloads/Ingredients Dinnerfy Airtable.csv\")"
   ]
  },
  {
   "cell_type": "code",
   "execution_count": 5,
   "metadata": {},
   "outputs": [
    {
     "name": "stdout",
     "output_type": "stream",
     "text": [
      "<class 'pandas.core.frame.DataFrame'>\n",
      "RangeIndex: 2038 entries, 0 to 2037\n",
      "Data columns (total 3 columns):\n",
      " #   Column   Non-Null Count  Dtype \n",
      "---  ------   --------------  ----- \n",
      " 0   Name     2037 non-null   object\n",
      " 1   Recipes  1122 non-null   object\n",
      " 2   look     2038 non-null   int64 \n",
      "dtypes: int64(1), object(2)\n",
      "memory usage: 47.9+ KB\n"
     ]
    }
   ],
   "source": [
    "data.info()"
   ]
  },
  {
   "cell_type": "code",
   "execution_count": 6,
   "metadata": {},
   "outputs": [
    {
     "name": "stdout",
     "output_type": "stream",
     "text": [
      "['Salt', 'Black_Pepper', 'Olive_Oil', 'Garlic', 'Onion', 'Pepper', 'Butter', 'Parmesan_Cheese', 'Kosher_Salt', 'Chicken_Breast', 'Soy_Sauce', 'Garlic_Cloves', 'Ginger', 'Flour', 'Lemon_Juice', 'Vegetable_Oil', 'Garlic_Powder', 'Paprika', 'Sour_Cream', 'Lime_Juice', 'Cilantro', 'Dried_Oregano', 'Ground_Beef', 'Honey', 'Eggs', 'Cooking_Spray', 'Carrots', 'Milk', 'Red_Onion', 'Kosher_salt', 'Carrot', 'Mushrooms', 'Cornstarch', 'Tomato', 'Tomato_Paste', 'Celery', 'Green_Onion', 'Shrimp', 'Tomato_Sauce', 'Lettuce', 'Brown_Sugar', 'Fresh_Parsley', 'Chicken_Broth', 'Bay_Leaves', 'Pasta', 'Egg', 'Chicken_Stock', 'Parsley', 'Red_Bell_Pepper', 'Heavy_Cream', 'Bell_Pepper', 'Thyme', 'Chili_Powder', 'Cayenne_Pepper', 'Sugar', 'Sesame_Oil', 'Unsalted_butter', 'Mozzarella_Cheese', 'Cherry_Tomatoes', 'Black_Beans', 'Green_Onions', 'Ground_Cumin', 'Unsalted_Butter', 'Dijon_Mustard', 'Lemon', 'Corn', 'Ground_Black_Pepper', 'Fresh_Basil_Leaves', 'Dry_White_Wine', 'Beef_Broth', 'Ketchup', 'White_Wine', 'Minced_Garlic', 'Dried_Basil', 'All_Purpose_Flour', 'Onion_Powder', 'Cumin', 'Tomatoes', 'Potatoes', 'All-purpose_flour', 'Vegetable_Broth', 'Cucumber', 'Feta_Cheese', 'Water', 'Broccoli', 'Worcestershire_Sauce', 'Breadcrumbs', 'Shallots', 'Zucchini', 'Parmesan_cheese', 'Red_Pepper_Flakes', 'Sesame_Seeds', 'Chicken_Thighs', 'Freshly_Ground_Black_Pepper', 'Sour_cream', 'Frozen_Peas', 'Heavy_cream', 'Red_Wine', 'Diced_Tomatoes', 'Salmon', 'Lemon_juice', 'Coconut_Milk', 'Green_Bell_Pepper', 'Cheese', 'Bread_Crumbs', 'Chicken_Breasts', 'Garlic_Salt', 'Cheddar_Cheese', 'Dried_Thyme', 'Bacon', 'Kidney_Beans', 'Mustard', 'Capers', 'Basil', 'Pork_Chops', 'Orange_Juice', 'Oregano', 'Spaghetti', 'Red_Wine_Vinegar', 'Avocado', 'Salsa', 'Crushed_Red_Pepper_Flakes', 'Fresh_Cilantro', 'Freshly_ground_black_pepper', 'Lasagna_Noodles', 'Ricotta_Cheese', 'Taco_Seasoning', 'Balsamic_Vinegar', 'Fish_Sauce', 'Red_Curry_Paste', 'Eggplant', 'Tortillas', 'Rice', 'Ground_Turkey', 'Italian_Seasoning', 'Asparagus', 'Hamburger_Buns', 'Fennel', 'Beef', 'Lime_Wedges', 'Mayonnaise', 'Bay_Leaf', 'Yellow_onion', 'Scallions', 'Good_olive_oil', 'Lemon_Zest', 'Fish', 'Dry_white_wine', 'Chicken_broth', 'Canola_Oil', 'Potato', 'Turmeric_Powder', 'Spinach', 'Canned_Tomatoes', 'Green_Beans', 'Apple_Cider_Vinegar', 'Kalamata_Olives', 'Ham', 'Swiss_Cheese', 'Cream_of_Chicken_Soup', 'Tomato_paste', 'White_wine', 'Chopped_Onion', 'Cooked_Chicken', 'Fresh_Spinach', 'Worcestershire', 'Crushed_Tomatoes', 'Orange_Zest', 'Yogurt', 'Monterey_Jack_Cheese', 'Minced_garlic', 'Garlic_cloves', 'Curry_Powder', 'Chopped_Fresh_Parsley', 'Canola_oil', 'Chives', 'White_Onion', 'Extra_Virgin_Olive_Oil', 'Diced_Onion', 'Crushed_Red_Pepper', 'Basmati_Rice', 'Shredded_Cheese', 'Beef_Roast', 'Jalapeno', 'Rosemary', 'Wild_Rice', 'Lentils', 'Leeks', 'Pork_Shoulder', 'Rice_Vinegar', 'Noodles', 'Fresh_Basil', 'Romaine_Lettuce', 'Oyster_Sauce', 'Orzo', 'Tortilla_Chips', 'Peanuts', 'Linguine', 'Cumin_Powder', 'Guacamole', 'Pesto', 'Chopped_fresh_parsley', 'Spinach_Leaves', 'Ground_beef', 'Chicken', 'Room_Temperature_Water', 'Active_Dry_Yeast', 'Boneless_Skinless_Chicken_Breasts', 'Warm_Water', 'Bread_Flour', 'Cooked_Rice', 'Garlic_powder', 'Ground_black_pepper', 'Good_Olive_Oil', 'Yellow_Onions', 'Dijon_mustard', 'Salt_and_Pepper', 'Yellow_Bell_Pepper', 'Sweet_Onion', 'Tortilla', 'Cooking_spray', 'Soy_sauce', 'Chicken_Parts', 'Fresh_Dill', 'Mussels', 'Chicken_stock', 'Garlic_clove', 'Rice_Wine_Vinegar', 'All-Purpose_Flour', 'Chopped_Yellow_Onion', 'Yellow_Onion', 'Corn_Kernels', 'Seasoned_Salt', 'Corn_Tortillas', 'Flour_Tortillas', 'Yellow_Squash', 'Thyme_Leaves', 'Crushed_tomatoes', 'Dry_Red_Wine', 'Baby_Bella_Mushrooms', 'Cooking_Oil', 'Low_Sodium_Soy_Sauce', 'Green_Chili', 'Coriander_Powder', 'Mint_Leaves', 'Ghee', 'Oil', 'Cold_Water', 'Beef_Stock', 'Puff_Pastry', 'Beef_Tenderloin', 'Garlic_Clove', 'Ginger_Root', 'Lime', 'Greek_Yogurt', 'Mozzarella_cheese', 'Kale', 'White_Beans', 'Red_Lentils', 'Enchilada_Sauce', 'Vegan_Cheese', 'Chickpeas', 'Barbecue_Sauce', 'Ground_Pork', 'Caesar_Dressing', 'BBQ_Sauce', 'Dill', 'Ricotta', 'Croutons', 'Peanut_Butter', 'Pork_Tenderloin', 'Sausage', 'Tequila', 'Lime_juice', 'Vegetable_oil', 'Lemon_zest', 'Onions', 'Olive_Oil-Flavored_Cooking_Spray', 'Saffron_Threads', 'Large_Shrimp', 'Plain_Fat-Free_Yogurt', 'Mango_Chutney', 'Fresh_parsley', 'Calmata_Olives', 'Bow_Tie_Noodles', 'Yellow_Mustard', 'Fresh_Thyme', 'Lemons', 'Fajita_seasoning', 'Red_bell_pepper', 'Chopped_Parsley', 'Chili_powder', 'Yukon_Gold_Potatoes', 'White_Wine_Vinegar', 'Half_and_Half', 'Brandy', 'White_Pepper', 'Marinara_Sauce', 'Celery_Stalks', 'Chopped_Green_Onions', 'Chopped_yellow_onion', 'Fresh_dill', 'Minced_Fresh_Parsley', 'Salmon_fillets', 'Lemon_Slices', 'Salmon_steaks', 'Lemon_wedges', 'Panko', 'Minced_fresh_parsley', 'Kosher_Salt_2', 'Red_Bell_Peppers', 'Light_butter', 'Ground_Coriander', 'Corn_Starch', 'Light_Coconut_Milk', 'Meyer_Lemons', 'Whole-wheat_flour', 'Whole_Chicken', 'Fresh_Lime_Juice', 'Kosher_Salt_Topping', 'Olive_Oil_Topping', 'Lump_crabmeat', 'Cayenne_pepper', 'Shallot', 'Shredded_Cooked_Chicken_Breast', 'Seasoned_salt', 'Fettuccini', 'Teriyaki_Marinade', 'Cream_Cheese', 'Chicken_breast_halves', 'Pernod', 'Chopped_Fennel', 'Ground_cumin', 'Fontina_cheese', 'Artichoke_Hearts', 'Cream_of_mushroom_soup', 'Sherry', 'Orange_Marmalade', 'Coarsely_Ground_Black_Pepper', 'fresh_lemon_juice', 'Old_Bay_Seasoning', 'Light_Mayonnaise', 'Grated_Cheese', 'Tuna_Steaks', 'Crushed_red_pepper_flakes', 'Red_Snapper_Fillets', 'Yellow_Bell_Peppers', 'Hot_Water', 'Plum_Tomatoes', 'Himalayan_Pink_Salt', 'Tomato_Juice', 'Poblano_Pepper', 'Green_bell_pepper', 'Shiitake_Mushrooms', 'Light_Brown_Sugar', 'Thyme_Sprigs', 'Russet_Potatoes', 'Dried_Rosemary', 'Homemade_Chicken_Stock', 'Black_beans', 'Green_Pepper', 'Whole_Wheat_Flour', 'Smoked_Salmon', 'Chipotle_Chiles_in_Adobo_Sauce', 'Saffron', 'Tomato_Slices', 'Baby_Spinach', 'Long_Grain_White_Rice', 'Red_Chili_Flakes', 'Canned_Beef_Broth', 'Mahimahi_Fillets', 'Cauliflower', 'Garam_Masala_Powder', 'Coriander_Leaves', 'Cloves', 'Green_Peas', 'Red_Chili_Powder', 'Raisins', 'Nutmeg', 'Sage', 'Burger_Buns', 'Whole_Milk', 'Taco_Shells', 'Egg_Noodles', 'Beef_Brisket', 'Feta', 'Nectarine', 'Mixed_Greens', 'Walnuts', 'Miso_Paste', 'Baby_Bok_Choy', 'Cod', 'Basil_Leaves', 'Flounder', 'Sole_Fillet', 'Fish_Stock', 'Kaffir_Lime_Leaves', 'Thai_Basil_Leaves', 'Palm_Sugar', 'Rack_of_Lamb', 'Allspice', 'Cinnamon', 'Turmeric', 'Tomato Paste', 'Crushed Tomatoes', 'Cajun_Seasoning', 'White_Rice', 'Buffalo_Sauce', 'Pineapple_Chunks', 'Lobster', 'Andouille_Sausage', 'Tofu', 'Scallops', 'Sriracha_Sauce', 'Marsala_Wine', 'Siracha_Sauce', 'Red Wine', 'Parmesan Cheese', 'Cannellini_Beans', 'Bread_Slices', 'Vegetarian_Meatballs', 'lemon_zest', 'Vegetable_Stock', 'Red_Pepper', 'Quinoa', 'Sweet_Potatoes', 'Halibut', 'Mango', 'Parmesan', 'Orecchiette', 'Spicy_Sausage', 'Broccoli_Rabe', 'Croissants', 'Bread', 'Peas', 'Garam_Masala', 'Buns', 'Peppercorns', 'Juniper_Berries', 'Pickles', 'Stout_Beer', 'French_Lentils', 'Refried_Beans', 'American_Cheese', 'Apples', 'Corn_tortillas', 'Green_onions', 'Fresh_lemon_juice', 'Biryani_Masala', 'Fried_Onions', 'Mixed_Vegetables', 'Green_Chilies', 'Frozen_Green_Peas', 'Mexican-Flavored_Stewed_Tomatoes', 'Lite_Kielbasa_Sausage', 'Sliced_Onion', 'Sliced_Tomato', 'Regular_Oats', 'Pitas', 'Ground_Red_Pepper', 'Lean_Ground_Lamb', 'Dried Oregano', 'Fresh Parsley', 'Red_pepper_flakes', 'Fresh_basil_leaves', 'Shredded_Swiss_Cheese', 'Chopped_Green_Bell_Pepper', 'Baking_Powder', 'Bell_peppers', 'Bell_Peppers', 'Lamb', 'Cooked_Pasta', 'Sharp_Cheddar_Cheese', 'Salted_Butter', 'Chopped_Fresh_Chives', 'Halibut_Fillet', 'Minced_Shallots', 'Cider_Vinegar', 'Fresh_Lemon_Juice', 'Chicken_cutlets', 'Fresh_ground_pepper', 'Penne_pasta', 'Poblano_peppers', 'Hoagie_or_steak_rolls', 'Pepper_Jack_or_provolone_cheese', 'Rib_eye_or_strip_steak', 'Yellow_bell_pepper', 'Sliced_Mushrooms', 'Boneless_skinless_chicken_breasts', 'Chopped_green_onions', 'Lettuce_Leaves', 'Boneless_Short_Ribs', 'Pancetta', 'Cognac', 'Dried_basil', 'Yukon_Gold_potatoes', 'Dry_mustard', 'Whole_milk', 'Cucumbers', 'Kale_mix', 'Chick_Peas', 'Vinegar', 'Gruyère_Cheese', 'Cream', 'Optional_Ingredients', 'Yellow_Rice', 'Cooking_Sherry', 'Minced_Hot_Peppers', 'Sweet_and_Tangy_BBQ_Sauce', 'Whole_Wheat_Tortillas', 'Kosher_salt_and_freshly_ground_black_pepper', 'Yellow_or_orange_bell_pepper', 'Small_pasta_shells', 'Cherry_tomatoes', 'Gruyère_cheese', 'Grated_Lemon_Peel', 'Clarified_Butter', 'Skinless_Boneless_Chicken_Breasts', 'Drained_Capers', 'Chili_Flakes', 'Drained_capers', 'Toasted_pecans', 'Shredded_cooked_chicken_breast', 'Dried_dill', 'Cheddar_cheese', 'Orange_juice', 'Freshly_squeezed_lemon_juice', 'Ritz_cracker_crumbs', 'Center-cut_boneless_skinless_cod_fillets', 'Dry_white_wine_such_as_Pinot_Grigio', 'Grated_lemon_zest', 'Salmon_Fillets', 'Penne_Pasta', 'Olive_Oil_2', 'Sharp_White_Cheddar_Cheese', 'Homemade_Pizza_Dough', 'Whole_Wheat_Breadcrumbs', 'Minced_Fresh_Onion', 'White_Fish', 'Pine_nuts', 'Italian_sausage', 'Corn_kernels', 'Garlic_salt', 'Smoked_Paprika', 'Sliced_almonds', 'White_Vinegar', 'Rosemary_Leaves', 'Racks_of_Lamb', 'Greek_Lamb', 'Black_Pepper_2', 'Lemon_Juice_2', 'Pork_Ribs', 'Spanish_Rice', 'Golden_Raisins', 'Chopped_Fresh_Dill', 'Baby_New_Potatoes', 'Rustic_Bread', 'Grated_Parmesan_cheese', 'Mild_white_fish', 'Buttermilk', 'Homemade_Tomato_Sauce', 'Whole_wheat_flour', 'Onion_Salt', 'Celery_Salt', 'Liquid_Smoke', 'Barbeque_Sauce', 'Boneless_Chicken_Breasts', 'Mint', 'Fresh_Angel_Hair_Pasta_Uncooked', 'Minced_Fresh_Cilantro', 'Steamed_Peeled_Shrimp_With_Tails', 'Fresh_thyme', 'Beef_stock', \"Becki's_Herb_Butter\", 'Roasted_Rosemary_Sweet_Potatoes', 'Cooked_lobster_meat', 'Crushed_red_pepper', 'Fresh_Mozzarella', 'Beefsteak_Tomatoes', 'Pea_Pod', 'Light_mayonnaise', 'Finely_chopped_parsley', 'Large_egg', 'Dry_breadcrumbs', 'Fat-free_milk', 'White_balsamic_vinegar', 'Melted_butter', 'Bottled_minced_garlic', 'Orecchiette_pasta', 'Frozen_peas', 'Pancetta_or_bacon', 'Frozen_Puff_Pastry', 'Ground_Nutmeg', 'Whole-Wheat_Tortillas', 'Diced_Jalapeno', 'Grass-Fed_Flank_Steak', 'Skirt_steak', 'Julienned_radishes', 'Adobo_sauce', 'Cooking_oil', 'Mexican_crema', 'Whipping_cream', 'Hot_cooked_angel_hair_pasta', 'Olive_oil-flavored_cooking_spray', 'Veal_cutlets', 'Steak', 'Fresh_Mozzarella_Balls', 'Ground_Chuck', 'Honey_mustard', 'Dried_tarragon', 'Low-fat_sour_cream', 'Chicken_parts', 'Cooked_Fresh_Lobster_Meat', 'Fresh_Lard', 'Frozen_Small_Whole_Onions', 'Egg_Wash', 'Fish_Stock_or_Clam_Juice', 'Ice_Water', 'Dried_oregano', 'Black_caviar', 'Dried_capellini', 'Pasta_Ravioli', 'Freshly_ground_white_pepper', 'Raw_Sunflower_Seeds', 'Uncooked_Quinoa', 'Minced_Carrot', 'Grated_Sharp_Cheddar_Cheese', 'Minced_Onion', 'Crepe_Batter', 'Thawed_Orange_Juice_Concentrate', 'Unpeeled_Jumbo_Shrimp', 'Minced_Fresh_Basil', 'Sliced_green_onions', 'Chicken_breasts', 'Sliced_Almonds', 'Whole_Roasted_Chicken', 'Broccolini', 'Baby_Potato_Medley', 'Cajun_seasoning', 'grilled_lemon_slices', 'cooking_spray', 'farm-raised_catfish_fillets', 'Pineapple_Juice', 'Garlic_Heads', 'Large_Lemon', 'Medium_Shrimp', 'Bacon_pieces', 'Shredded_cheddar_cheese', 'Crème_Fraîche', 'Fresh_Thyme_Leaves', 'Italian_Arborio_Rice', 'Olive_Oil_Spray', 'Fresh_Wild-Caught_Salmon', 'Lobsters', 'Steamer_Clams', 'Kielbasa', 'Littleneck_Clams', 'White_pepper', 'Sweet_marioram', 'Italian_tomato_paste', 'Muscatel', 'Bay_leaf', 'Fresh_Halibut_Steaks', 'Dried_Minced_Onions', 'Chopped_Fresh_Cilantro', 'Minced_carrot', 'Dried_Italian_seasoning', 'Whole-Wheat_Breadcrumbs', 'Red_wine_vinegar', 'Diced_Pineapple', 'Lime_Slices', 'Minced_Jalapeno_Pepper', 'Cilantro_Sprigs', 'Brisket', 'Slider_Buns', 'Coleslaw', 'Sweet_Teriyaki_Sauce', 'Minced_Dill', 'Jumbo_Shrimp', 'Angel_Hair_Pasta', 'Thin_Asparagus', 'Worcestershire_sauce', 'Chicken_Bouillon_Cubes', 'Shredded_monterey_Jack_cheese', 'Taco_seasoning_mix', 'Unbaked_10-inch_deep_dish_pie_shell', 'Shredded_colby_cheese', 'Canned_Tomatoes_with_Basil', 'Garlic_flavored_cooking_spray', 'Uncooked_Long_Grain_White_Rice', 'Grape_Leaves', 'Lobster_Meat', 'Cornmeal', 'Cotija_Cheese', 'Shredded_Chicken', 'Pickled_Red_Onion', 'Hass_Avocados', 'Fire-Roasted_Diced_Tomatoes', 'Chicken_Breasts_bone-in_skin-on', 'Extra-Sharp_White_Cheddar', 'Ground_Chipotle_Powder', 'Baguette_torn_into_1-inch_pieces', 'Holiday_Cranberry_Sauce', 'Hot_Peppers', 'Lettuce_or_Sliced_Cabbage', 'Grape_or_Cherry_Tomatoes', 'Salt-free_Mexican_seasoning', 'Chopped_tomatoes_with_chiles', 'Velveeta_cheese', 'Red_Wine_Vinaigrette', 'Romaine_Salad', 'Mexican_Seasoning', 'Fennel_Fronds', 'Fennel_Bulbs', 'Fresh_Salmon', 'Cracked_Black_Pepper', 'Flank_Steak', 'Diced_Pimento', 'Cider_vinegar', 'Hoisin_sauce', 'Chickens_quartered_with_backs_removed', 'Black_peppercorns', 'Cube_steaks', 'Bourbon', 'Whole_Tomatoes', 'Deli_ham', 'Powdered_sugar', 'Seedless_raspberry_preserves', 'Deli_turkey', 'White_sandwich_bread', 'Granulated_sugar', 'Baking_powder', 'Diced_seeded_tomato', 'Sliced_ripe_olives', 'Peeled_and_deveined_jumbo_shrimp', 'Cold_unsalted_butter', 'Thinly_sliced_Italian_prosciutto', 'Whole_fennel_seeds', 'Chopped_fresh_sage_leaves', 'Whole_sage_leaves', 'Minced_fresh_rosemary_leaves', \"Jo's_Salsa\", 'Boneless_Pork_Shoulder_or_Butt', 'Apple_Juice', 'Mustard_Powder', 'Oranges', 'Monterey_Jack_cheese', 'Hominy', 'Fresh_mussels', 'Fresh_sea_scallops', 'Baby_potatoes', 'Spanish-style_chorizo', 'Crusty_baguette', 'Fresh_littleneck_clams', 'Ground_Pepper', 'Bibb_Lettuce', 'Tuna_Steak', 'Chopped_Peeled_Cucumber', 'Chopped_Tomato', 'Canned_Chipotle_Chile', 'Finely_Chopped_Onion', 'Picante-Flavored_Vegetable_Juice', 'Andouille_sausage', 'Frozen_okra', 'Shell-on_medium_shrimp', 'Fresh_parsley_leaves', 'Creole_seasoning', 'Drained_canned_corn', 'Prosciutto_or_pancetta', 'Tortellini', 'Basil_leaves', 'Green_Chiles', 'Large_shrimp', 'Arrabbiata_Sauce', 'Linguini', 'Sun-Dried_Tomatoes', 'Bowtie_Pasta', 'Large_Eggs', 'Large_Egg_Yolk', 'Bone-in_Short_Ribs', 'Holland_yellow_bell_pepper', 'New_York_strip_steak', 'Manchego_cheese', 'Holland_orange_bell_pepper', 'Balsamic_glaze', 'Ginger_Garlic_Paste', 'Whole_Wheat_Bow_Tie_Noodles', 'Romain_Lettuce', 'Sun-dried_Tomatoes', 'Balsamic_Reduction_Sauce', 'Fusilli_Noodles', 'Whole_Wheat_Orzo', 'Shredded_Parmigiano', 'Cooked_Orzo', 'Cooked_Jasmine_Rice', 'Ghee_or_Olive_Oil', 'Pearl_onions', 'Bean_Sprouts', 'Tamarind_Paste', 'Rice_Noodles', 'Cooked_Diced_Veggies', 'Freshly_cracked_black_pepper', 'Baby_Red_or_Multicolored_Potatoes', 'Rosemary_Sprig', 'Avocados', 'Balsamic_Vinegrette', 'Frozen_Broccoli', 'Sweet_Chili_Sauce', 'Plum_tomatoes', 'Garlic-flavored_couscous', 'Poblano_chile', 'Edamame', 'Cooked_Brown_Rice', 'Zesty_Diced_Tomatoes_Seasoned_With_Jalapeno_Peppers_Undrained', 'Herbs', 'chopped_fresh_parsley', 'chopped_shallots', 'capers', 'Olive_oil_flavored_cooking_spray', 'Uncooked_Small_Whole_Grain_Noodles', 'Spanish_Onion', 'Roasting_Chicken', 'Good_dry_red_wine', 'Ground_Ginger', 'Teriyaki_Sauce', 'Whole_Kernel_Corn', 'Shredded_Cheddar_Cheese', 'Cooked_Potatoes', 'Mojito_Marinade', 'Dill_Pickle_Relish', 'Apple_Chicken_Sausage', 'Thousand_Island_Dressing', 'Shredded_Sauerkraut', 'Thin_Sliced_Corned_Beef', 'Dill_Pickles', 'Rye_Bread', 'Cooked_Chopped_Chicken', 'Crushed_Potato_Chips', 'Chopped_Slivered_Almonds', 'Water_Chestnuts', 'Mixed_Salad_Greens', 'Broccoli_Florets', 'Ricotta_cheese', 'Thick-cut_bacon', 'Sharp_white_Cheddar_cheese', 'Smoked_paprika', 'Quick-cooking_grits', 'New_Potatoes', 'Jalapenos', 'No_Salt_Added_Diced_Tomatoes', 'Tricolored_Carrots', 'Cajun_Spice_Mix', 'Limes', 'Celery_stalks', 'Butterflied_boneless_turkey_breast_with_skin_on', 'Worchestershire_Sauce', 'Large_Onion', 'Butter-Flavored_Cooking_Spray', 'Lamb_Loin_Chops', 'Chopped_Fresh_Rosemary', 'Swordfish_Fillets', 'Good_Dry_White_Wine', 'Canned_Plum_Tomatoes', 'Chopped_Fresh_Basil_Leaves', 'Cognac_or_Brandy', 'Roma_Tomatoes', 'Greek_Seasoning', 'Diced_tomatoes_with_green_chiles', 'Pinto_beans', 'Cannellini_beans', 'Chopped_fresh_cilantro', 'Bow_tie_pasta', 'Black_Sesame_Seeds', 'English_Cucumber', 'Whole_Grain_Mustard', 'Seven_Grain_Bread', 'Jalapeno_Pepper', 'Red_Beans', 'Crushed_Pineapple', 'Pearled_Barley', 'Pita_Bread', 'Reduced-Fat_Olive_Oil_Vinaigrette', 'Uncooked_Farfelle', 'Sliced_Asparagus', 'Crumbled_Feta_Cheese_with_Basil_and_Sun-Dried_Tomatoes', 'Fresh_Broccoli', 'Organic_Cream_of_Mushroom_Soup', 'Cooked_Ham_Cubes', 'Chicken-Flavor_Rice_Mix', 'Bell_Pepper_Diced', 'Parsley_Chopped', 'Filet_of_Beef', 'Melting_Cherry_Tomatoes', 'Fresh_Mozzarella_Cheese', 'Extra_Firm_Tofu', 'Beef_Cheek', 'Lemon_Herb_Orzo', 'Cooked_Spaghetti', 'Lentil', 'Walnut', 'Tostadas_Shells', 'Prosciutto', 'Duxelles', 'Roasted_Red_Pepper_Quinoa_Salad', 'Fish_Florentine', 'Allspice_Berries', 'Gingersnap_Cookies', 'Cooked_chicken_breast', 'Siracha_Noodles', 'chicken_sausages', 'Dion_mustard', 'whole_milk', 'dry_mustard', 'whole-grain_mustard', 'unsalted_butter', 'veal_sausages', 'freshly_ground_black_pepper', 'crème_fraîche', 'Pea_Pasta', 'Lemon_Ricotta', 'Onion_Slices', 'Cheese_Slices', 'Nectarine-Feta_Tossed_Salad', 'Sausage_of_Choice', 'Shredded_Cheese_of_Choice', 'Pico_de_Gallo', 'Tostadas', 'Kashmiri_Red_Chili_Powder', 'Kasuri_Methi', 'Parmigiano_Reggiano_Cheese', 'Quick_Cooking_Brown_Rice', 'Spicy_Sesame_Noodles_with_Peanuts', 'Potstickers', 'Shredded_Stemmed_Kale_Leaves', 'Uncooked_Whole-Wheat_Pasta', 'Heavy_Whipping_Cream', 'Freshly_Grated_Parmesan_Cheese', 'Pine_Nuts', 'Extra-Virgin_Olive_Oil', 'Vegetable broth', 'Tomato paste', 'Bay leaves', 'Dried_Parsley', 'Cashew_Nuts', 'Nutritional_Yeast', 'Almond_Milk', 'Boneless_Skinless_Center_Cut_Salmon_Fillets', 'Good_Mayonnaise', 'Jarred_Roasted_Red_Peppers', 'Freshly_Squeezed_Lime_Juice', 'Chopped_Chipotle_Pepper_in_Adobo_Sauce', 'Onion powder', 'Poppy seeds', 'Worcestershire sauce', 'Brown sugar', 'Fish_Tacos_Fish', 'Fish_Tacos_Oil', 'Fish_Tacos_Sour_Cream', 'Fish_Tacos_Pepper', 'Fish_Tacos_Salsa', 'Fish_Tacos_Avocado', 'Fish_Tacos_Tortillas', 'Fish_Tacos_Lime', 'Fish_Tacos_Cilantro', 'Fish_Tacos_Salt', 'Fish_Tacos_Cabbage', 'Black_Pepper_Topping', 'Fresh_tarragon_leaves', 'Minced_Blanced_Almonds', 'Mandi_Spice_Mix', 'Diced_Carrots', 'Chopped_Leeks', 'Diced_Celery', 'Olive_Oil_Beef_Oxtails', 'Salmon_Chowder', 'Hungarian_Paprika', 'Beef_Stew_Meat', 'All-purpose_flour_2', 'Whole_milk_2', 'All_Purpose_Flour_for_Pastry', 'Minced_Flat_Leaf_Parsley', 'Salt_for_Pastry', 'Unsalted_Butter_for_Pastry', 'Egg_for_Egg_Wash', 'Sourdough_or_White_French_Boule', 'Spanish_Onions', 'Dry_Sherri', 'Chuck_Roast', 'Rib_Eye_Steaks', 'Zucchini-Pesto_Orzo', 'Skinless_Fresh_Salmon_Fillet', 'Optional_garnish', 'Red_Bell_Pepper_Strips', 'Reduced_Fat_Peanut_Butter', 'Snow_Peas', 'Sea_Scallops', 'Uncooked_Farfalle', 'Add_Ins', 'Grated_Cheddar_Cheese', 'Uncooked_Whole_Grain_Pasta', 'Ceasar_Marinate_Dressing', 'Panko_Bread_Crumbs', 'Cooked_Peeled_Shrimp', 'Sweet_Relist', 'Bakery_White_Bread', 'Whole_Wheat_Fettuccine_Noodles', 'Orange_Rind', 'Raspberry_Vinegar', 'Low-sodium_Soy_Sauce', 'Fresh_Orange_Juice', 'Skinless_Boneless_Chicken_Breast_Halves', 'Boneless_chicken_breasts', 'Cooked_white_or_brown_rice', 'Shrimp_stock_or_store-bought_vegetable_broth', 'Bechamel_Sauce', 'Ground_White_Pepper', 'Unsalted_Butter_2', 'Chopped_Fresh_Oregano', 'Frozen_Cooked_Peeled_and_Deveined_Medium_Shrimp', 'Uncooked_Fusilli', 'Diced_Tomatoes_with_Garlic_and_Onion', 'Crumbled_Feta_Cheese', 'Low_Sodium_Teriyaki_Sauce', 'Olive_Oil_Flavored_Cooking_Spray', 'Harge_garlic_clove_halved', 'sliced_deli_roast_turkey', 'fresh_mozzarella_cut_into_¼-inch-thick_slices', 'pesto_homemade_or_store-bought', 'slices_Fontina_or_provolone_cheese', '12-ounce_jar_roasted_red_peppers_drained_and_cut_into_½-inch_slices', 'slices_rustic_white_bread_such_as_sourdough', 'Leaves_from_1_bunch_fresh_basil', 'butter_melted_margherita', 'large_heirloom_tomatoes_or_4_Roma_plum_tomatoes_thinly_sliced', 'Olive_oil_for_drizzling', 'Grape_Tomatoes', 'Tilapia_Fillets', 'Italian_Cheese_Blend', 'Cottage_Cheese', 'Cremini_Mushrooms', 'Fresh_Sage_Leaves', 'Farfalle_Pasta', 'Green_onion', 'Fresh_Coriander', 'Fat-Free_Balsamic_Vinaigrette', 'Flour_or_Corn_Tortillas', 'Hot_Mango_Chutney', 'Flaked_Sweetened_Coconut', 'Dark_Brown_Sugar', 'Low_Sodium_Chicken_Broth', 'Chicken_Breast_Tenders', 'Fresh_Bean_Sprouts', 'Uncooked_Angel_Hair_Pasta', 'Chili_Oil', 'Non_Fat_Milk', 'Lemon_Pepper_Seasoning', 'Chicken_Breast_Halves', 'Bacon_Slice', 'Tomato_Broth', 'Large_Head_Green_Cabbage', 'Canola_Oil_2', 'Low-Sodium_Chicken_Broth', 'Uncooked_Gemelli', 'Fresh_Lime_or_Lemon_Juice', 'Shredded_Romaine_Lettuce', 'Bottled_Minced_Garlic', 'Italian_seasoned_breadcrumbs', 'Fat_free_less_sodium_chicken_broth', 'whole_cumin_seeds', 'jalapeno_pepper', 'poblano_pepper', 'scallions', 'minced_garlic', 'flour_tortillas', 'red_onion', 'Baby_Arugula', 'Boneless_Rib-Eye_Steaks', 'Light_mayonnaise_balsamic_tartar_sauce', 'Steamed_Green_Beans', 'Fresh_Mushrooms', 'Sauterne_Wine', 'Lawrys_Spaghetti_Sauce_Mix', 'Coconut_Rice', 'Five_Spice_Tofu', 'Chicken_Parmesan', 'Elbow_Macaroni', 'Leek_Mac_and_Cheese', 'Roasted_Tomatoes', 'Fresh_Garlic', 'Stewed_Tomatoes', 'Seafood_Stock', 'Fresh_Lump_Crabmeat', 'Toasted_Pita_Bread', 'Skin-On_Salmon_Fillets', 'Greek_Style_Yogurt', 'Fresh_Ginger', 'Goat_Cheese', 'Parsley_or_Cilantro', 'Top_Sirloin_Steak', 'Ground_Thyme', 'Light_Soy_Sauce', 'Lemongrass', 'Pepperidge_Farm_Seasoned_bread_crumbs', 'Muenster_or_swiss_cheese', 'Chicken_breasts_no_bones', 'Cream_of_chicken_soup', 'Turkey', 'Vegetable Stock', 'Dried Thyme', 'Black_Eyed_Peas', 'Italian_seasoned_bread_crumbs', 'boneless_center_cut_loin_pork_chops', 'fat_free_low_sodium_chicken_broth', 'Provolone_Cheese', 'Eggplant_Slices', 'Gruvère_Cheese', 'Uncooked_Spaghetti', 'Diced_Red_Tomatoes', 'Homemade_Croutons', 'Gluten_free_lasagna_noodles', 'Dried_parsley', 'Chicken_Pot_Pie', 'fresh_rosemary', 'rack_of_lamb', 'garlic_cloves', 'Cardamom', 'Cinnamon_Stick', 'Cashews', 'Cumin_Seeds', \"'Parmesan_Cheese']\", \"'Tomato'\", \"'Onion'\", \"'Pasta'\", \"'Pepper'\", \"['Chicken_Breast'\", 'Shredded_Lettuce', 'Beef_Sirloin', 'Button_Mushrooms', 'Mushroom', 'Salmon_Fillet', 'Fish_Fillet', 'Fish_Fillets', 'Red_Chili_Pepper', 'Lamb_Leg', 'Farfalle', 'Tomato_sauce', 'Coriander', 'Vegetable Broth', 'Bay Leaves', 'Red_Kidney_Beans', 'Chipotle_Peppers', 'Green Onions', 'Vegetable Oil', 'Baking Powder', 'Prawns', 'Long_Grain_Rice', 'Sesame Oil', 'Lemon Juice', 'Red Pepper Flakes', 'Soy Sauce', 'Rice Vinegar', 'Five_Spice_Powder', 'Turkey_Ground', 'Turkey_Breast', 'Fresh_Mint', 'Coriander Powder', 'Curry Powder', 'Cumin Powder', 'Green Beans', 'Coconut Milk', 'Turmeric Powder', 'Almonds', 'lemon_juice', 'heavy_cream', 'parmesan_cheese', 'linguine', 'Frozen_Pot_Stickers', 'Fusilli_Pasta', 'chicken_breast', 'black_beans', 'sour_cream', 'avocado', 'Pea_Pods', 'Pecorino_Romano_cheese', 'Rotisserie_Chicken', 'Sesame_Seed', 'White_Sugar', 'Fennel_Seeds', 'Dried_Basil_Leaves', 'shredded_cheese', 'taco_seasoning', 'salsa', 'Poppy_Seeds', 'refried_beans', 'ground_beef', 'Shitake_Mushrooms', 'Tortilla_Wraps', 'fresh_basil', 'canned_tomatoes', 'red_pepper_flakes', 'Jasmine_Rice', 'Ziti_Pasta', 'Tostada_Shells', 'Pasta_Dough', 'green_chilies', 'lime_juice', 'chicken_broth', 'chili_powder', 'diced_tomatoes', 'Worcestershire Sauce', 'Poppy Seeds', 'Brown Sugar', 'Black_Pepper_Powder', 'Cardamom_Pods', 'Red_onion', 'Chicken_breast', 'Fish_sauce', 'Bean_sprouts', 'Palm_sugar', 'Red_chili_pepper', 'Rice_noodles', 'Tamarind_paste', 'Italian-seasoned_bread_crumbs', 'Fat-free_low-sodium_chicken_broth', 'Chopped_shallots', 'Boneless_center-cut_loin_pork_chops', 'Ghee_or_Oil', 'Grated_Parmesan_Cheese', 'Shredded_Mozzarella_Cheese', 'Cooked_Rice_or_Noodles', 'Chopped_Peanuts', 'Condiments', 'Toasted Almonds', 'Minced Garlic', 'Bell Pepper', 'Red Wine Vinegar', 'Crumbled Feta Cheese', 'Red Onion', 'Sliced Olives', 'Cooking_Spray/Butter', 'Knife', 'Paper_towels', 'Skillet', 'Oven', 'Spoon', 'Baking_dish', 'Diced_tomatoes', 'Chopped_parsley', 'Italian_seasoning', 'Marinara_sauce', 'Chopped_Pimentos', 'Chopped_Celery', 'Ceasar_Marinate_dressing', 'Steamed_Rice', 'Hoisin_Sauce', 'Grated_Ginger', 'Steamed_rice', 'Curry_powder', 'Coconut_milk', 'Cilantro_leaves', 'Naan_bread', 'Cilantro_Leaves', 'Herbs_and_Spices', 'Packed_Dark_Brown_Sugar', 'Minced_Blanched_Almonds', 'Diced_Onions', 'Pasta_or_Zucchini_Noodles', 'Rice_or_Pasta', 'Bell_pepper', 'Beef_broth', 'Shredded_cheese', 'Nectarines', 'Butter_or_cooking_spray', 'Peeled_Shrimp', 'Minced_Fresh_Dill', 'Vegetable_broth', 'Canned_tomatoes', 'Whole-grain_mustard', 'Fresh_veal_sausages', 'Crème_fraîche', 'Fresh_chicken_sausages', 'Avocado_Slices', 'Chopped_Cilantro', 'Cilantro Leaves', 'Red Chili Powder', 'Kasuri Methi', 'Ginger-Garlic Paste', 'Naan', 'Tomato Puree', 'Garam Masala', 'Sliced_Mozzarella_Cheese', 'Vegetarian_Ground_Meat', 'Baguette', 'Sliced_Tomatoes', 'Boneless_Chicken_Breast', 'Small_Pasta', 'Halibut_Fillets', 'Diced_celery_(2_stalks)', 'Bay_leaves', 'Pearled_barley', 'Chopped_leeks_white_and_light_green_parts_(2_leeks)', 'Minced_garlic_cloves', 'Tablespoon', 'Good_olive_oil_beef_oxtails', 'Fresh_thyme_leaves', 'Canned_beef_broth', 'Diced_carrots_(4_carrots)', 'Cooked_fresh_lobster_meat', 'Cognac_or_brandy', 'Spanish_onions', 'Good_dry_white_wine', 'Sourdough_or_white_French_boule', 'Good_dry_sherry', 'Additional_grated_Parmesan_cheese', 'Beaten_Eggs', 'Crusty_Bread', 'White_Fish_Fillets', 'Sage Leaves', 'Soy_Sauce_or_Sriracha_Sauce', 'Fresh Chopped Parsley or Chives', 'Grated Parmesan Cheese', 'Shredded Cheese', 'Macaroni', 'Smoked_salmon', 'Skinless_fresh_salmon_fillet', 'Freshly_squeezed_lime_juice', 'Seven-grain_bread', 'Coarsely_ground_black_pepper', 'Minced_fresh_dill', 'Minced_shallots', '_pepper', 'Garnish_the_pork_chops_with_fresh_herbs', '_and_any_other_desired_spices_or_herbs', 'Serve_the_one_pan_pork_chops_hot_with_your_favorite_side_dishes', 'Heat_a_large_oven-safe_skillet_over_medium-high_heat._Add_oil_and_sear_the_pork_chops_for_2-3_minutes_on_each_side_until_browned', 'Season_the_pork_chops_with_salt', 'Preheat_the_oven_to_400°F_(200°C)', 'Transfer_the_skillet_to_the_preheated_oven_and_bake_for_10-12_minutes_or_until_the_internal_temperature_of_the_pork_chops_reaches_145°F_(63°C)', 'Remove_the_skillet_from_the_oven_and_let_the_pork_chops_rest_for_5_minutes_before_serving', '_if_desired', 'Mashed_Potatoes', 'Roasted_Vegetables', 'Fresh_Herbs', 'Steamed Rice or Noodles', 'Oyster Sauce', 'Steamed_Rice_or_Noodles', 'Spices', 'Freshly_Squeezed_Lemon_Juice', 'Black_Olives', 'Beef_Cubes', 'Fresh_herbs', 'Lemon juice', 'Fresh dill', 'Chicken broth', 'Lemon slices', 'Lemon zest', 'Mirin', 'Steamed_Vegetables', 'Chopped_fresh_dill', 'Ground_white_pepper', 'Baby_spinach', 'Baby_bella_mushrooms', 'Vegetables', 'Sesame Seeds', 'Quick-cooking_Grits', 'Thick-cut_Bacon', 'Minced_Chives', 'Cooking_Water', 'Naan_Bread', 'Garlic_minced', 'Meat_Thermometer', 'Romaine_Lettuce_Leaves', 'Paper_Towels', 'Giblets', 'Rotisserie_Spit', 'Rotisserie_Oven', 'Serving_Plate', 'Greek-style_Yogurt', 'Tzatziki_Sauce', 'Red_Onions', 'Steamed Rice', 'Thai Curry Paste', 'Fish Stock', 'Bell Peppers', 'Good_Feta_Cheese', 'Hothouse_Cucumber', 'Good_mayonnaise', 'Chopped_chipotle_pepper_in_adobo_sauce', 'Lime_quartered_for_serving', 'Boneless_skinless_center_cut_salmon_fillets', 'Jarred_roasted_red_peppers_seeded_and_chopped', 'Sliced_Green_Onions', 'Chopped_Tomatoes', 'Fresh_flat-leaf_parsley', 'Sweet_Hungarian_paprika', 'Medium_Yukon_Gold_potatoes', 'Chopped_fresh_chives', 'Large_bone-in_skin-on_chicken_thighs', 'Spices_or_Herbs', 'Fresh_Parsley_or_Grated_Cheese', 'Large_or_medium_eggplant', 'Salad', 'Whole_wheat_pasta_noodles', 'Dried_Herbs', 'Garlic_Toast', 'Hot_Sauce', 'Homemade_Cole_Slaw', 'Minced_Fresh_Thyme_Leaves', 'Grated_Lemon_Zest', 'Fully_cooked_spiral_cut_smoked_ham', 'Orange_zest', 'Light_brown_sugar', 'Freshly_squeezed_orange_juice', 'Mango_chutney', 'Toasted Pita Bread', 'Feta Cheese', 'No-Salt-Added_Diced_Tomatoes', 'Zesty_Diced_Tomatoes_Seasoned_With_Jalapeño_Peppers_Undrained', 'Pearl_onions_peeled', 'Mushrooms_sliced_½_inch_thick_wild', 'Garlic_cloves_minced', 'Unsalted_butter_at_room_temperature', 'Good_dry_red_wine_such_as_Burgundy_or_Chianti', 'Mushrooms_sliced_½_inch_thick_domestic', 'Bacon_diced', 'Carrots_cut_diagonally_into_1-inch-thick_slices', 'Filet_of_beef_trimmed', 'Chopped_Nuts', 'Rib_eye_steaks', 'Ripe_red_tomato_slices', 'Ripe_Hass_avocados', 'Sweet_relish', 'Thick-cut_applewood-smoked_bacon', 'Bibb_Boston_or_butter_lettuce_leaves', 'Good_bakery_white_bread', 'Egg_Noodles_or_Rice', 'Red_bell_pepper_strips', 'Brown_sugar', 'Uncooked_farfalle_(bow_tie_pasta)', 'Snow_peas', 'Reduced-fat_peanut_butter', 'Sea_scallops', 'Low-sodium_soy_sauce', 'Rice_wine_vinegar', 'Baby_arugula', 'Boneless_rib-eye_steaks', 'Good_Parmesan_cheese', 'Cremini_mushrooms', 'Yellow_squash', 'Italian_cheese_blend', 'Cottage_cheese', 'Lasagna_noodles', 'Lemon_Wedges', 'Flounder_fillets', 'Additional_chopped_parsley', 'Skinless_salmon_fillets', 'Vegan_Ranch', 'Canned_Chickpeas', 'Cracked_black_pepper', 'Fresh_Chopped_Lettuce', 'Sriracha', 'Large_Pot', 'Butter_melted', 'Shallots_finely_chopped', 'Lemon_juiced', 'Thinly_sliced_green_onion', 'Fresh_lime_juice', 'Fresh_cilantro', 'Homemade_chicken_stock_or_good-quality_broth', 'Celery_stalks_or_green_bell_pepper', 'Uncooked_small_whole-grain_noodles', 'Cooked_chicken', 'Italian-seasoned_breadcrumbs', 'Fat-free_less-sodium_chicken_broth', 'Stewed_or_Roasted_Diced_Tomatoes', 'Shredded_Mozzarella', 'Light_soy_sauce', 'Onion_powder', 'Ground_thyme', 'Minced_Flat-Leaf_Parsley', 'Salt_Pastry', 'Unsalted_Butter_Pastry', 'All-Purpose_Flour_Pastry', 'Peeled_garlic_cloves', 'Extra-virgin_olive_oil', 'Freshly_grated_Parmesan_cheese', 'Loosely_packed_shredded_stemmed_kale_leaves', 'Uncooked_whole-wheat_pasta', 'Heavy_whipping_cream', 'Loosely_packed_fresh_basil_leaves', 'Rosemary_sprig', 'New_potatoes', 'Red_Snapper_fillets', 'Fat-free_balsamic_vinaigrette', 'Whole-Wheat_Flour', 'Mahimahi_fillets', 'Minced_Garlic_Cloves', 'Garlic_cloves_crushed', 'Cooked_Quinoa', 'Fresh_lime_or_lemon_juice', 'Shredded_romaine_lettuce', 'Freshly_ground_pepper', 'Thyme_sprigs', 'Chuck_pot_roast', 'Russet_potatoes', 'White_onion', 'Roma_tomatoes', 'Rustic_white_bread', 'Heirloom_tomatoes', 'Roasted_red_peppers', 'Provolone_cheese', 'Fresh_mozzarella', 'Deli_roast_turkey', 'Fresh_basil', 'Non-Fat_Milk', 'Add-ins', 'Whole-grain_pasta', 'Hot_mango_chutney', 'Flaked_sweetened_coconut', 'Broccoli_Head', 'Roasted_Potatoes', 'Tricolored_Baby_Potatoes', 'Roasting_chicken', 'Spanish_onion', 'Baby_Red_Or_Multicolored_Potatoes', 'Tuna_steaks', 'English_cucumber', 'Sesame_seeds', 'Black_sesame_seeds', 'Serded_and_Small-Diced_Poblano_Pepper', 'Good_Seafood_Stock', 'Very_Good_Fresh_Lump_Crabmeat', 'Small-Diced_Shallots', 'Minced_Fresh_Chives', 'Freshly_Grated_Lemon_Zest', 'Butter-flavored_cooking_spray', 'Chopped_fresh_rosemary', 'Lamb_loin_chops', 'Plain_fat-free_yogurt', 'Dry_red_wine', 'Diced_Tomatoes_with_Juice', 'Sliced_mushrooms', 'Golden_delicious_apples', 'Pork_tenderloin', 'Grated_parmesan_cheese', 'Canned_chicken_broth', 'Bread_crumbs', 'Ginger_root', 'Fettuccine_Noodles', 'Cajun_Seasoning_Mix', 'Ground_Chicken', 'Low-Sodium_Teriyaki_Sauce', 'Whole-wheat_spaghetti', 'Garlic_Head', 'Grated Cheese', 'Bow_Tie_Pasta', 'Pinto_Beans', 'Diced_Tomatoes_with_Green_Chiles', 'Pot_Stickers', 'Uncooked_Pasta', 'Chopped_fresh_oregano', 'Cans_diced_tomatoes_with_garlic_and_onion', 'Frozen_cooked_peeled_and_deveined_medium_shrimp', 'Chopped_onion', 'Kale_Leaves', 'Crumbled_feta_cheese', 'Uncooked_fusilli', 'Optional_herbs_or_spices', 'Jalapenos_chopped_optional', 'Sour_cream_optional', 'Eggs_lightly_beaten', 'Guacamole_optional', 'Skinless_boneless_chicken_breast_halves', 'Uncooked_linguine', 'Shredded_fresh_Parmesan_cheese', 'Hot_Ham_Buns', 'Fresh_Parsley_or_Green_Onions', 'Sauce', 'Swiss_cheese', 'Boneless_skinless_chicken_breast', 'Fresh_sage_leaves', 'Tacos', 'Beans', 'Meyer_lemon', 'Panko_bread_crumbs', 'Creamy_Goat_Cheese', 'Fresh_Parsley_or_Cilantro', 'Black_pepper_freshly_cracked', 'Fresh_parsley_chopped', 'Black_pepper_freshly_ground', 'Yellow_onion_minced', 'Garlic_clove_minced', 'Celery_minced', 'Green_onions_minced', 'Tilapia_or_Other_White_Fish_Fillets', 'Garlic-flavored_couscous_uncooked', 'Large_shrimp_peeled_and_deveined', 'Plum_tomatoes_chopped', 'Cilantro_chopped', 'Poblano_chile_seeded_and_finely_chopped', 'Black_beans_rinsed_and_drained', 'Sauterne_wine', 'Fresh_mushrooms', \"Lawry's_Spaghetti_Sauce_Mix\", 'Boneless_Top_Sirloin_Steak', 'Yellow_or_Red_Bell_Peppers', 'Fresh_Corn', 'Ketchup_or_Barbecue_Sauce', 'Chicken_breast_tenders', 'Uncooked_angel_hair_pasta', 'Chili_oil', 'Low-sodium_chicken_broth', 'Fresh_bean_sprouts', 'Red_Beans_or_Kidney_Beans', 'Red_curry_paste', 'Finely_chopped_shallots', 'Uncooked_gemelli', 'Light_coconut_milk', 'Sandwiches', 'Fresh_Bread_Crumbs', 'Fat-Free_Evaporated_Milk', 'Lemon-Pepper_Seasoning', 'Peeled_Shrimp_with_Tails_On', 'Fat-Free_Half-and-Half', 'Butterflied_boneless_turkey_breast_with_the_skin_on', 'Fresh_Rosemary_Sprigs', 'Reduced-fat_olive_oil_vinaigrette', 'Sliced_asparagus', 'Uncooked_farfelle_(bow_tie_pasta)', 'Crumbled_feta_cheese_with_basil_and_sun-dried_tomatoes', 'Grape_or_cherry_tomatoes', 'Diced_Chicken', 'Red_wine', 'Steamed_green_beans', 'Fresh_orange_juice', 'Mixed_salad_greens', 'Raspberry_vinegar', 'Grated_peeled_fresh_ginger', 'Grated_orange_rind', 'Bacon_slice', 'Chipotle_chiles_in_adobo_sauce', 'Pot_Roast', 'Minced_fresh_tarragon_leaves', 'Melted_Butter', 'Cooked_diced_veggies', 'Quick-cooking_whole-grain_brown_rice', 'Finely_grated_Parmigiano-Reggiano_cheese', 'Homemade_chicken_stock', 'Diced_onion', 'Cooked_Peeled_Coarsely_Chopped_Shrimp', 'Tomato_juice', 'Uncooked_long_grain_white_rice', 'Large_head_green_cabbage', 'Sweet_onion', 'Tomato_broth', 'Himalayan_pink_salt', 'Cooked_white_rice', 'Shrimp_stock', 'Cooked_brown_rice', 'Canned_plum_tomatoes', 'Swordfish_fillets', 'Chopped_fennel', 'Chopped_fresh_basil_leaves', 'Thinly_sliced_red_onion', 'Balsamic_vinegar', 'Finely_chopped_plum_tomatoes', 'Chopped_fresh_basil', 'Eggplant_slices', 'Small-diced_feta', 'Boneless_chicken_breasts_skin-on', 'European-style_unsalted_butter', 'Greek_seasoning', 'Feta_cheese', 'Sausages', 'Refrigerated_Pesto', 'Flour_tortillas', 'Whole_cumin_seeds', 'Poblano_pepper', 'Jalapeno_pepper', 'Whole_Spices', 'Cream_of_Mushroom_Soup', 'Boneless_Skinless_Chicken_Thighs', 'Baking_Dish', 'Farfalle_pasta', 'Greek_yogurt', 'Sliced_Avocado', 'Large_Skillet', 'Desired_Sauce', 'Ingredients', 'Liquid', 'Equipment', 'Seasonings', 'Garnish', 'Protein', 'Curry_paste', 'Shredded_Cabbage', 'Chopped_Herbs', 'Lemon-Herb_Orzo', 'Shredded_Cheese_of_choice', 'Sausage_of_choice', 'Red_Chili_Peppers', 'Asparagus_Spears', 'Cooked_rice', 'Pecorino Romano Cheese', 'Beef_cubes', 'Fresh_Dill_or_Parsley', 'Fresh_Parsley/Lemon_Slices', 'Fish_or_Vegetable_Broth', 'Cheddar Cheese', 'Lemon_slices', 'Salt_and_pepper', 'Cod_fillets', 'Optional_Herbs_or_Spices', 'Orecchiette_Pasta', 'Small-Diced_Red_Onion', 'Minced_fresh_chives', 'Serded_and_small-diced_poblano_pepper', 'Frozen_peas_defrosted', 'Saffron_threads', 'Small-diced_shallots', 'Freshly_grated_lemon_zest', 'Italian_Arborio_rice', 'Very_good_fresh_lump_crabmeat_picked_through_for_shells', 'Good_seafood_stock', 'Warm_tomato_sauce', 'Balsamic_Glaze', 'Broccoli florets', 'Freshly chopped parsley', 'Additional Parmesan cheese', 'Parmesan cheese', 'Chopped_fresh_flat-leaf_parsley', 'Spicy_Aioli', 'Tartar_Sauce', 'Dry_Breadcrumbs', 'White_Balsamic_Vinegar', 'Fat-Free_Milk', 'Finely_Chopped_Parsley', 'Large_Egg', 'Lump_Crabmeat', 'Dry_Mustard', 'Light_Mayonnaise_Tartar_Sauce', 'Ground_Cloves', 'Chipotle_Peppers_in_Adobo_Sauce', 'Beef_Chuck_Roast', 'Hot_Dog_Buns', 'Pickle', 'Black_peppercorn_gravy', 'Quick_Cooking_Whole_Grain_Brown_Rice', 'Finely_Grated_Parmigiano_Reggiano_Cheese', 'Far_free_less_sodium_chicken_broth', 'Shredded_reduced_fat_Monterey_Jack_cheese', 'Chopped_red_bell_pepper', 'Minced_yellow_onion', 'Minced_celery', 'Small_New_Potatoes', 'Chiffonade_cut_fresh_sage_leaves', 'Dressing', 'Chopped_fresh_herbs', '_parchment_paper', 'Baking_sheet', 'Pork Chops', 'Tostada_Shell', 'Uncooked_Basmati_Rice', 'Chopped_Green_Onions_2', 'Chopped_Red_Bell_Pepper', 'Salt_2', 'Baking_Powder_Pastry', 'Wine', 'Cooked_whole-wheat_pasta_noodles', 'Grated_mozzarella_cheese', 'Store-bought_tomato_sauce', 'Grilled_lemon_slices', 'Farm-raised_catfish_fillets', 'Fat-Free_Red_Wine_Vinaigrette', 'Salt-Free_Mexican_Seasoning', 'Buns_or_Rolls', 'Coleslaw_or_Pickles', 'Cooking_Liquid', 'Salad_Bowl', 'Grater', 'Grains', 'Protein_of_choice', 'Herbs_or_spices', 'Fresh_herbs_or_grated_cheese', 'Large_Tortillas', 'Mashed_potatoes', 'Crusty_bread', 'Aluminum_Foil', 'boneless_center-cut_loin_pork_chops', 'fat-free_low-sodium_chicken_broth', 'Taco_seasoning', 'Avocado_slices', 'Fresh_parsley_or_green_onions', 'Cold_Fresh_Lard', 'Cold_Unsalted_Butter', 'Frozen_green_peas', 'Lite_kielbasa_sausage', 'Mexican-flavored_stewed_tomatoes', 'Celery_Stalks_or_Sliced_Green_Bell_Pepper', 'Homemade_Chicken_Stock_or_good_quality_broth', 'Hot_water', 'Flounder_Fillets', 'Additional_Chopped_Parsley', 'Filet_of_beef', 'Chives_or_Grated_Cheese', 'Unsalted_Butter_Melted', 'Minced_Fresh_Parsley_or_Cilantro', 'Freshly ground black pepper', 'Grated Parmesan cheese', 'Very_good_black_caviar', 'Lemons_zest_and_juice', 'Beef_Slices', 'Parsley_or_Fresh_Herbs', 'Can_Crushed_Pineapple', 'Small_Onion', 'Bowl_and_whisk', 'nan', 'Knife_and_cutting_board', 'Chicken_Flavor_Rice_Mix', 'Cooked_Ham', 'Pork_chops', 'Chicken_Breasts_No_Bones', 'Pepperidge_Farm_Seasoned_Bread_Crumbs', 'Muenster_Cheese', 'Muenster_or_Swiss_Cheese', 'Ginger_Paste', 'Frozen_Corn', 'Marsala_wine', 'Serving_platter', '_fresh_herbs', 'Brush', 'Grill', 'Tongs', 'Chopped_Spinach', 'Slotted_Spoon', 'Pot', 'Pasta_Sheets', 'In_the_same_skillet', '_and_nutmeg._Cook_for_2_minutes_until_the_sauce_thickens', '_melt_the_butter_over_medium_heat', 'Add_the_spinach_and_cook_until_wilted', 'Stir_in_the_cream', '_about_2-3_minutes', 'Heat_olive_oil_in_a_large_skillet_over_medium_heat', 'Add_the_garlic_and_cook_for_1_minute_until_fragrant', 'Grease_a_baking_dish_with_butter_or_cooking_spray', 'Remove_the_fish_fillets_from_the_skillet_and_transfer_them_to_the_greased_baking_dish', '_Parmesan_cheese', 'Season_the_fish_fillets_with_salt_and_pepper_on_both_sides', 'Serve_the_Fish_Florentine_hot_with_a_side_of_steamed_vegetables_or_rice', 'Preheat_the_oven_to_375°F_(190°C)', 'Bake_in_the_preheated_oven_for_15-20_minutes_until_the_fish_is_cooked_through_and_the_sauce_is_bubbly', 'Pour_the_spinach_sauce_over_the_fish_fillets_in_the_baking_dish', 'Add_the_fish_fillets_to_the_skillet_and_cook_for_2-3_minutes_on_each_side_until_lightly_browned', 'Cod_Fillets', 'Fresh_Rosemary', 'Chicken_or_Vegetable_Broth', 'Linguine_Pasta', 'Baking_Sheet', 'Garlic_Parmesan_Baked_Flounder', 'Bowl', 'Spicy_sausage', 'Broccoli_rabe', 'Olives', 'Unsalted_Cashews', 'Cooked_Egg_Noodles_or_Rice', 'Crushed_Tortilla_Chips', 'Pineapple Juice', 'Plain_Yogurt', 'Medium_Onion', 'Ground_Paprika', 'Ground_Turmeric', 'Steamed_Basmati_Rice', 'Dried_Lentils', 'Garlic Powder', 'Sour Cream', 'Baby Bella Mushrooms', 'Fresh Broccoli', 'Organic Cream of Mushroom Soup', 'Pecorino_Romano_Cheese', 'Dried_thyme', 'Unsweetened_almond_milk', 'Fresh_mint_leaves', 'Hothouse_cucumber', 'Toasted_pita_bread', 'Good_feta_cheese', 'Ripe_tomatoes', 'Canned_Beans', 'Corn_on_the_Cob', 'Lobster_meat', 'Parmigiano-Reggiano_cheese', 'Minced_chives', 'Melted_Unsalted_Butter', 'Veal_sausages', 'Chicken_sausages', 'Gruyere_Cheese', 'Cilantro_or_Green_Onions', 'Diced_Green_Bell_Pepper', 'Fish_stock', 'Dry_sherry', 'Grated_cheddar_cheese', 'Uncooked_whole-grain_pasta', 'Unsalted_butter_melted', 'Stale_Bread', 'Chicken_Filling', 'Chopped_Tomatoes_with_Chiles', 'Velveeta_Cheese', 'Creamy_Peanut_Butter', 'Roasted_Peanuts', 'Chicken_quarters', 'Fresh_Ginger_Root', 'Chopped_fresh_thyme', 'Coarsely_ground_cornmeal', 'Chopped Sage', 'Sliced Mushrooms', 'Thai_Red_Curry_Paste', 'Additional_Spices', 'Lime_quartered', 'Ingredients_Divide_the_dish_into_4_portions_and_serve_hot', 'Ingredients_Heat_a_large_skillet_over_medium_heat', 'Ingredients_Stir_everything_together_and_cook_for_an_additional_2_minutes', 'Ingredients_Add_the_chopped_vegetables_to_the_skillet_and_sauté_until_tender', 'Ingredients_Season_with_salt_pepper_and_any_other_desired_spices', 'Ingredients_Wash_and_chop_the_vegetables', 'Ingredients_In_a_separate_pot_boil_water_and_cook_the_pasta_according_to_package_instructions', 'Ingredients_Drain_the_cooked_pasta_and_add_it_to_the_skillet_with_the_vegetables', 'Ingredients_Gather_all_the_ingredients_and_equipment_needed_for_the_dish', 'Ingredients_Add_oil_to_the_skillet_and_heat_it', 'Thyme_leaves', 'Seafood_stock', 'Fresh_lump_crabmeat', 'Cayenne Pepper', 'Ground Black Pepper', 'BBQ Sauce', 'Pork Ribs', 'catfish_fillets', 'Chopped_Onions', 'Whole_Peppercorns', 'Whole_Cloves', 'Chopped_Carrots', 'Peeled_shrimp_with_tails_on', 'Fresh_bread_crumbs', 'Minced_garlic_(3_cloves)', 'Good_feta_cheese_coarsely_crumbled', 'Medium-diced_fennel', 'Good_olive_oil_divided', 'Enchilada_sauce', 'Monterey_jack_cheese_shredded', 'Green_chiles', 'Chicken_poached', 'Onion_chopped', 'Cheddar_cheese_shredded', 'Ground_Cinnamon', 'Large_eggs', 'Canned_Diced_Tomatoes', 'Sliced_fresh_mushrooms', 'Pork_shoulder', 'Melted_Butter_or_Olive_Oil', 'Cooked_Shredded_Chicken', 'Diced_Red_Onion', 'Caesar_Marinade_Dressing', 'Chocolate_Chips', 'Blueberries', 'Hummus', 'Lemons_juice', 'Lemons_zest', 'Uncooked_long-grain_white_rice', 'Canned_corn', 'Half-and-half', 'Evaporated_Milk', 'Orange_rind', 'Peeled_Tomatoes_with_Basil', 'Colander', 'Chili_Garlic_Sauce', 'Long-Grain_White_Rice', 'Boneless_Pork_Shoulder', 'Hearty_Red_Wine', 'Minced_Ginger', 'Vegan_cheese', 'Vegan_ranch_dressing', 'Buffalo_sauce', 'Vegan_butter', 'Kidney_beans', 'Long-grain_white_rice', 'Diced_Tomatoes_with_Green_Chilies', 'Chopped_Bell_Pepper', 'Cubed_Cooked_Potatoes', 'Fettuccine_Pasta', 'Reduced-Sodium_Soy_Sauce', 'Fresh_Salmon_Fillet', 'Low-sodium_Teriyaki_Sauce', 'Olive_Oil-flavored_Cooking_Spray', 'Fish_fillets', 'Cooked_whole_wheat_pasta_noodles', 'Clarified_butter', 'Grated_lemon_peel', 'Skinless_boneless_chicken_breasts', 'New_York_Strip_Steak', 'Whole_Cumin_Seeds', 'Manchego_Cheese', 'Holland_Orange_Bell_Pepper', 'Holland_Yellow_Bell_Pepper', 'Pasta_or_spaghetti_squash', 'Frozen_cooked_shrimp', 'Diced_tomatoes_with_garlic_and_onion', 'Chopped_green_bell_pepper', 'Canned_chipotle_chile', 'Picante-flavored_vegetable_juice', 'Finely_chopped_onion', 'Chopped_tomato', 'Chopped_peeled_cucumber', 'Shredded_stemmed_kale_leaves', 'Chiffonade-cut_fresh_sage_leaves', 'Shredded_Parmesan_Cheese', 'Quartered_Artichoke_Hearts', 'Beef_Oxtails', 'Chopped_Bell_Peppers', 'Chopped_Basil', 'Chopped_Mint', 'Green Onions or Parsley', 'Diced_Bell_Peppers', 'Remove_the_fish_fillets_from_the_skillet_and_set_aside', 'Add_the_fish_fillets_to_the_skillet_and_cook_for_2_minutes_on_each_side_until_lightly_browned', 'Place_the_cooked_fish_fillets_in_the_greased_baking_dish', 'Add_the_spinach_and_cook_for_2-3_minutes_until_wilted', 'Stir_in_the_cream_Parmesan_cheese_and_nutmeg_Cook_for_2_minutes_until_the_sauce_thickens', 'Serve_hot_and_enjoy!', 'Pour_the_spinach_sauce_over_the_fish_fillets', 'Season_the_fish_fillets_with_salt_and_pepper', 'In_the_same_skillet_melt_the_butter_over_medium_heat', 'Turmeric_powder', 'Garam_masala', 'Naan_or_rice', 'Red_chili_powder', 'Ginger_garlic_paste', 'Tomato_puree', 'Doritos_Chips', 'Egg_noodles']\n"
     ]
    },
    {
     "data": {
      "text/plain": [
       "2038"
      ]
     },
     "execution_count": 6,
     "metadata": {},
     "output_type": "execute_result"
    }
   ],
   "source": [
    "my_ingredients = list(data[\"Name\"].astype(\"str\"))\n",
    "print(my_ingredients)\n",
    "len(my_ingredients)"
   ]
  },
  {
   "cell_type": "code",
   "execution_count": 7,
   "metadata": {},
   "outputs": [],
   "source": [
    "map_obj = map(lambda x: x.lower(), my_ingredients)"
   ]
  },
  {
   "cell_type": "code",
   "execution_count": 8,
   "metadata": {},
   "outputs": [
    {
     "name": "stdout",
     "output_type": "stream",
     "text": [
      "['salt', 'black_pepper', 'olive_oil', 'garlic', 'onion', 'pepper', 'butter', 'parmesan_cheese', 'kosher_salt', 'chicken_breast', 'soy_sauce', 'garlic_cloves', 'ginger', 'flour', 'lemon_juice', 'vegetable_oil', 'garlic_powder', 'paprika', 'sour_cream', 'lime_juice', 'cilantro', 'dried_oregano', 'ground_beef', 'honey', 'eggs', 'cooking_spray', 'carrots', 'milk', 'red_onion', 'kosher_salt', 'carrot', 'mushrooms', 'cornstarch', 'tomato', 'tomato_paste', 'celery', 'green_onion', 'shrimp', 'tomato_sauce', 'lettuce', 'brown_sugar', 'fresh_parsley', 'chicken_broth', 'bay_leaves', 'pasta', 'egg', 'chicken_stock', 'parsley', 'red_bell_pepper', 'heavy_cream', 'bell_pepper', 'thyme', 'chili_powder', 'cayenne_pepper', 'sugar', 'sesame_oil', 'unsalted_butter', 'mozzarella_cheese', 'cherry_tomatoes', 'black_beans', 'green_onions', 'ground_cumin', 'unsalted_butter', 'dijon_mustard', 'lemon', 'corn', 'ground_black_pepper', 'fresh_basil_leaves', 'dry_white_wine', 'beef_broth', 'ketchup', 'white_wine', 'minced_garlic', 'dried_basil', 'all_purpose_flour', 'onion_powder', 'cumin', 'tomatoes', 'potatoes', 'all-purpose_flour', 'vegetable_broth', 'cucumber', 'feta_cheese', 'water', 'broccoli', 'worcestershire_sauce', 'breadcrumbs', 'shallots', 'zucchini', 'parmesan_cheese', 'red_pepper_flakes', 'sesame_seeds', 'chicken_thighs', 'freshly_ground_black_pepper', 'sour_cream', 'frozen_peas', 'heavy_cream', 'red_wine', 'diced_tomatoes', 'salmon', 'lemon_juice', 'coconut_milk', 'green_bell_pepper', 'cheese', 'bread_crumbs', 'chicken_breasts', 'garlic_salt', 'cheddar_cheese', 'dried_thyme', 'bacon', 'kidney_beans', 'mustard', 'capers', 'basil', 'pork_chops', 'orange_juice', 'oregano', 'spaghetti', 'red_wine_vinegar', 'avocado', 'salsa', 'crushed_red_pepper_flakes', 'fresh_cilantro', 'freshly_ground_black_pepper', 'lasagna_noodles', 'ricotta_cheese', 'taco_seasoning', 'balsamic_vinegar', 'fish_sauce', 'red_curry_paste', 'eggplant', 'tortillas', 'rice', 'ground_turkey', 'italian_seasoning', 'asparagus', 'hamburger_buns', 'fennel', 'beef', 'lime_wedges', 'mayonnaise', 'bay_leaf', 'yellow_onion', 'scallions', 'good_olive_oil', 'lemon_zest', 'fish', 'dry_white_wine', 'chicken_broth', 'canola_oil', 'potato', 'turmeric_powder', 'spinach', 'canned_tomatoes', 'green_beans', 'apple_cider_vinegar', 'kalamata_olives', 'ham', 'swiss_cheese', 'cream_of_chicken_soup', 'tomato_paste', 'white_wine', 'chopped_onion', 'cooked_chicken', 'fresh_spinach', 'worcestershire', 'crushed_tomatoes', 'orange_zest', 'yogurt', 'monterey_jack_cheese', 'minced_garlic', 'garlic_cloves', 'curry_powder', 'chopped_fresh_parsley', 'canola_oil', 'chives', 'white_onion', 'extra_virgin_olive_oil', 'diced_onion', 'crushed_red_pepper', 'basmati_rice', 'shredded_cheese', 'beef_roast', 'jalapeno', 'rosemary', 'wild_rice', 'lentils', 'leeks', 'pork_shoulder', 'rice_vinegar', 'noodles', 'fresh_basil', 'romaine_lettuce', 'oyster_sauce', 'orzo', 'tortilla_chips', 'peanuts', 'linguine', 'cumin_powder', 'guacamole', 'pesto', 'chopped_fresh_parsley', 'spinach_leaves', 'ground_beef', 'chicken', 'room_temperature_water', 'active_dry_yeast', 'boneless_skinless_chicken_breasts', 'warm_water', 'bread_flour', 'cooked_rice', 'garlic_powder', 'ground_black_pepper', 'good_olive_oil', 'yellow_onions', 'dijon_mustard', 'salt_and_pepper', 'yellow_bell_pepper', 'sweet_onion', 'tortilla', 'cooking_spray', 'soy_sauce', 'chicken_parts', 'fresh_dill', 'mussels', 'chicken_stock', 'garlic_clove', 'rice_wine_vinegar', 'all-purpose_flour', 'chopped_yellow_onion', 'yellow_onion', 'corn_kernels', 'seasoned_salt', 'corn_tortillas', 'flour_tortillas', 'yellow_squash', 'thyme_leaves', 'crushed_tomatoes', 'dry_red_wine', 'baby_bella_mushrooms', 'cooking_oil', 'low_sodium_soy_sauce', 'green_chili', 'coriander_powder', 'mint_leaves', 'ghee', 'oil', 'cold_water', 'beef_stock', 'puff_pastry', 'beef_tenderloin', 'garlic_clove', 'ginger_root', 'lime', 'greek_yogurt', 'mozzarella_cheese', 'kale', 'white_beans', 'red_lentils', 'enchilada_sauce', 'vegan_cheese', 'chickpeas', 'barbecue_sauce', 'ground_pork', 'caesar_dressing', 'bbq_sauce', 'dill', 'ricotta', 'croutons', 'peanut_butter', 'pork_tenderloin', 'sausage', 'tequila', 'lime_juice', 'vegetable_oil', 'lemon_zest', 'onions', 'olive_oil-flavored_cooking_spray', 'saffron_threads', 'large_shrimp', 'plain_fat-free_yogurt', 'mango_chutney', 'fresh_parsley', 'calmata_olives', 'bow_tie_noodles', 'yellow_mustard', 'fresh_thyme', 'lemons', 'fajita_seasoning', 'red_bell_pepper', 'chopped_parsley', 'chili_powder', 'yukon_gold_potatoes', 'white_wine_vinegar', 'half_and_half', 'brandy', 'white_pepper', 'marinara_sauce', 'celery_stalks', 'chopped_green_onions', 'chopped_yellow_onion', 'fresh_dill', 'minced_fresh_parsley', 'salmon_fillets', 'lemon_slices', 'salmon_steaks', 'lemon_wedges', 'panko', 'minced_fresh_parsley', 'kosher_salt_2', 'red_bell_peppers', 'light_butter', 'ground_coriander', 'corn_starch', 'light_coconut_milk', 'meyer_lemons', 'whole-wheat_flour', 'whole_chicken', 'fresh_lime_juice', 'kosher_salt_topping', 'olive_oil_topping', 'lump_crabmeat', 'cayenne_pepper', 'shallot', 'shredded_cooked_chicken_breast', 'seasoned_salt', 'fettuccini', 'teriyaki_marinade', 'cream_cheese', 'chicken_breast_halves', 'pernod', 'chopped_fennel', 'ground_cumin', 'fontina_cheese', 'artichoke_hearts', 'cream_of_mushroom_soup', 'sherry', 'orange_marmalade', 'coarsely_ground_black_pepper', 'fresh_lemon_juice', 'old_bay_seasoning', 'light_mayonnaise', 'grated_cheese', 'tuna_steaks', 'crushed_red_pepper_flakes', 'red_snapper_fillets', 'yellow_bell_peppers', 'hot_water', 'plum_tomatoes', 'himalayan_pink_salt', 'tomato_juice', 'poblano_pepper', 'green_bell_pepper', 'shiitake_mushrooms', 'light_brown_sugar', 'thyme_sprigs', 'russet_potatoes', 'dried_rosemary', 'homemade_chicken_stock', 'black_beans', 'green_pepper', 'whole_wheat_flour', 'smoked_salmon', 'chipotle_chiles_in_adobo_sauce', 'saffron', 'tomato_slices', 'baby_spinach', 'long_grain_white_rice', 'red_chili_flakes', 'canned_beef_broth', 'mahimahi_fillets', 'cauliflower', 'garam_masala_powder', 'coriander_leaves', 'cloves', 'green_peas', 'red_chili_powder', 'raisins', 'nutmeg', 'sage', 'burger_buns', 'whole_milk', 'taco_shells', 'egg_noodles', 'beef_brisket', 'feta', 'nectarine', 'mixed_greens', 'walnuts', 'miso_paste', 'baby_bok_choy', 'cod', 'basil_leaves', 'flounder', 'sole_fillet', 'fish_stock', 'kaffir_lime_leaves', 'thai_basil_leaves', 'palm_sugar', 'rack_of_lamb', 'allspice', 'cinnamon', 'turmeric', 'tomato paste', 'crushed tomatoes', 'cajun_seasoning', 'white_rice', 'buffalo_sauce', 'pineapple_chunks', 'lobster', 'andouille_sausage', 'tofu', 'scallops', 'sriracha_sauce', 'marsala_wine', 'siracha_sauce', 'red wine', 'parmesan cheese', 'cannellini_beans', 'bread_slices', 'vegetarian_meatballs', 'lemon_zest', 'vegetable_stock', 'red_pepper', 'quinoa', 'sweet_potatoes', 'halibut', 'mango', 'parmesan', 'orecchiette', 'spicy_sausage', 'broccoli_rabe', 'croissants', 'bread', 'peas', 'garam_masala', 'buns', 'peppercorns', 'juniper_berries', 'pickles', 'stout_beer', 'french_lentils', 'refried_beans', 'american_cheese', 'apples', 'corn_tortillas', 'green_onions', 'fresh_lemon_juice', 'biryani_masala', 'fried_onions', 'mixed_vegetables', 'green_chilies', 'frozen_green_peas', 'mexican-flavored_stewed_tomatoes', 'lite_kielbasa_sausage', 'sliced_onion', 'sliced_tomato', 'regular_oats', 'pitas', 'ground_red_pepper', 'lean_ground_lamb', 'dried oregano', 'fresh parsley', 'red_pepper_flakes', 'fresh_basil_leaves', 'shredded_swiss_cheese', 'chopped_green_bell_pepper', 'baking_powder', 'bell_peppers', 'bell_peppers', 'lamb', 'cooked_pasta', 'sharp_cheddar_cheese', 'salted_butter', 'chopped_fresh_chives', 'halibut_fillet', 'minced_shallots', 'cider_vinegar', 'fresh_lemon_juice', 'chicken_cutlets', 'fresh_ground_pepper', 'penne_pasta', 'poblano_peppers', 'hoagie_or_steak_rolls', 'pepper_jack_or_provolone_cheese', 'rib_eye_or_strip_steak', 'yellow_bell_pepper', 'sliced_mushrooms', 'boneless_skinless_chicken_breasts', 'chopped_green_onions', 'lettuce_leaves', 'boneless_short_ribs', 'pancetta', 'cognac', 'dried_basil', 'yukon_gold_potatoes', 'dry_mustard', 'whole_milk', 'cucumbers', 'kale_mix', 'chick_peas', 'vinegar', 'gruyère_cheese', 'cream', 'optional_ingredients', 'yellow_rice', 'cooking_sherry', 'minced_hot_peppers', 'sweet_and_tangy_bbq_sauce', 'whole_wheat_tortillas', 'kosher_salt_and_freshly_ground_black_pepper', 'yellow_or_orange_bell_pepper', 'small_pasta_shells', 'cherry_tomatoes', 'gruyère_cheese', 'grated_lemon_peel', 'clarified_butter', 'skinless_boneless_chicken_breasts', 'drained_capers', 'chili_flakes', 'drained_capers', 'toasted_pecans', 'shredded_cooked_chicken_breast', 'dried_dill', 'cheddar_cheese', 'orange_juice', 'freshly_squeezed_lemon_juice', 'ritz_cracker_crumbs', 'center-cut_boneless_skinless_cod_fillets', 'dry_white_wine_such_as_pinot_grigio', 'grated_lemon_zest', 'salmon_fillets', 'penne_pasta', 'olive_oil_2', 'sharp_white_cheddar_cheese', 'homemade_pizza_dough', 'whole_wheat_breadcrumbs', 'minced_fresh_onion', 'white_fish', 'pine_nuts', 'italian_sausage', 'corn_kernels', 'garlic_salt', 'smoked_paprika', 'sliced_almonds', 'white_vinegar', 'rosemary_leaves', 'racks_of_lamb', 'greek_lamb', 'black_pepper_2', 'lemon_juice_2', 'pork_ribs', 'spanish_rice', 'golden_raisins', 'chopped_fresh_dill', 'baby_new_potatoes', 'rustic_bread', 'grated_parmesan_cheese', 'mild_white_fish', 'buttermilk', 'homemade_tomato_sauce', 'whole_wheat_flour', 'onion_salt', 'celery_salt', 'liquid_smoke', 'barbeque_sauce', 'boneless_chicken_breasts', 'mint', 'fresh_angel_hair_pasta_uncooked', 'minced_fresh_cilantro', 'steamed_peeled_shrimp_with_tails', 'fresh_thyme', 'beef_stock', \"becki's_herb_butter\", 'roasted_rosemary_sweet_potatoes', 'cooked_lobster_meat', 'crushed_red_pepper', 'fresh_mozzarella', 'beefsteak_tomatoes', 'pea_pod', 'light_mayonnaise', 'finely_chopped_parsley', 'large_egg', 'dry_breadcrumbs', 'fat-free_milk', 'white_balsamic_vinegar', 'melted_butter', 'bottled_minced_garlic', 'orecchiette_pasta', 'frozen_peas', 'pancetta_or_bacon', 'frozen_puff_pastry', 'ground_nutmeg', 'whole-wheat_tortillas', 'diced_jalapeno', 'grass-fed_flank_steak', 'skirt_steak', 'julienned_radishes', 'adobo_sauce', 'cooking_oil', 'mexican_crema', 'whipping_cream', 'hot_cooked_angel_hair_pasta', 'olive_oil-flavored_cooking_spray', 'veal_cutlets', 'steak', 'fresh_mozzarella_balls', 'ground_chuck', 'honey_mustard', 'dried_tarragon', 'low-fat_sour_cream', 'chicken_parts', 'cooked_fresh_lobster_meat', 'fresh_lard', 'frozen_small_whole_onions', 'egg_wash', 'fish_stock_or_clam_juice', 'ice_water', 'dried_oregano', 'black_caviar', 'dried_capellini', 'pasta_ravioli', 'freshly_ground_white_pepper', 'raw_sunflower_seeds', 'uncooked_quinoa', 'minced_carrot', 'grated_sharp_cheddar_cheese', 'minced_onion', 'crepe_batter', 'thawed_orange_juice_concentrate', 'unpeeled_jumbo_shrimp', 'minced_fresh_basil', 'sliced_green_onions', 'chicken_breasts', 'sliced_almonds', 'whole_roasted_chicken', 'broccolini', 'baby_potato_medley', 'cajun_seasoning', 'grilled_lemon_slices', 'cooking_spray', 'farm-raised_catfish_fillets', 'pineapple_juice', 'garlic_heads', 'large_lemon', 'medium_shrimp', 'bacon_pieces', 'shredded_cheddar_cheese', 'crème_fraîche', 'fresh_thyme_leaves', 'italian_arborio_rice', 'olive_oil_spray', 'fresh_wild-caught_salmon', 'lobsters', 'steamer_clams', 'kielbasa', 'littleneck_clams', 'white_pepper', 'sweet_marioram', 'italian_tomato_paste', 'muscatel', 'bay_leaf', 'fresh_halibut_steaks', 'dried_minced_onions', 'chopped_fresh_cilantro', 'minced_carrot', 'dried_italian_seasoning', 'whole-wheat_breadcrumbs', 'red_wine_vinegar', 'diced_pineapple', 'lime_slices', 'minced_jalapeno_pepper', 'cilantro_sprigs', 'brisket', 'slider_buns', 'coleslaw', 'sweet_teriyaki_sauce', 'minced_dill', 'jumbo_shrimp', 'angel_hair_pasta', 'thin_asparagus', 'worcestershire_sauce', 'chicken_bouillon_cubes', 'shredded_monterey_jack_cheese', 'taco_seasoning_mix', 'unbaked_10-inch_deep_dish_pie_shell', 'shredded_colby_cheese', 'canned_tomatoes_with_basil', 'garlic_flavored_cooking_spray', 'uncooked_long_grain_white_rice', 'grape_leaves', 'lobster_meat', 'cornmeal', 'cotija_cheese', 'shredded_chicken', 'pickled_red_onion', 'hass_avocados', 'fire-roasted_diced_tomatoes', 'chicken_breasts_bone-in_skin-on', 'extra-sharp_white_cheddar', 'ground_chipotle_powder', 'baguette_torn_into_1-inch_pieces', 'holiday_cranberry_sauce', 'hot_peppers', 'lettuce_or_sliced_cabbage', 'grape_or_cherry_tomatoes', 'salt-free_mexican_seasoning', 'chopped_tomatoes_with_chiles', 'velveeta_cheese', 'red_wine_vinaigrette', 'romaine_salad', 'mexican_seasoning', 'fennel_fronds', 'fennel_bulbs', 'fresh_salmon', 'cracked_black_pepper', 'flank_steak', 'diced_pimento', 'cider_vinegar', 'hoisin_sauce', 'chickens_quartered_with_backs_removed', 'black_peppercorns', 'cube_steaks', 'bourbon', 'whole_tomatoes', 'deli_ham', 'powdered_sugar', 'seedless_raspberry_preserves', 'deli_turkey', 'white_sandwich_bread', 'granulated_sugar', 'baking_powder', 'diced_seeded_tomato', 'sliced_ripe_olives', 'peeled_and_deveined_jumbo_shrimp', 'cold_unsalted_butter', 'thinly_sliced_italian_prosciutto', 'whole_fennel_seeds', 'chopped_fresh_sage_leaves', 'whole_sage_leaves', 'minced_fresh_rosemary_leaves', \"jo's_salsa\", 'boneless_pork_shoulder_or_butt', 'apple_juice', 'mustard_powder', 'oranges', 'monterey_jack_cheese', 'hominy', 'fresh_mussels', 'fresh_sea_scallops', 'baby_potatoes', 'spanish-style_chorizo', 'crusty_baguette', 'fresh_littleneck_clams', 'ground_pepper', 'bibb_lettuce', 'tuna_steak', 'chopped_peeled_cucumber', 'chopped_tomato', 'canned_chipotle_chile', 'finely_chopped_onion', 'picante-flavored_vegetable_juice', 'andouille_sausage', 'frozen_okra', 'shell-on_medium_shrimp', 'fresh_parsley_leaves', 'creole_seasoning', 'drained_canned_corn', 'prosciutto_or_pancetta', 'tortellini', 'basil_leaves', 'green_chiles', 'large_shrimp', 'arrabbiata_sauce', 'linguini', 'sun-dried_tomatoes', 'bowtie_pasta', 'large_eggs', 'large_egg_yolk', 'bone-in_short_ribs', 'holland_yellow_bell_pepper', 'new_york_strip_steak', 'manchego_cheese', 'holland_orange_bell_pepper', 'balsamic_glaze', 'ginger_garlic_paste', 'whole_wheat_bow_tie_noodles', 'romain_lettuce', 'sun-dried_tomatoes', 'balsamic_reduction_sauce', 'fusilli_noodles', 'whole_wheat_orzo', 'shredded_parmigiano', 'cooked_orzo', 'cooked_jasmine_rice', 'ghee_or_olive_oil', 'pearl_onions', 'bean_sprouts', 'tamarind_paste', 'rice_noodles', 'cooked_diced_veggies', 'freshly_cracked_black_pepper', 'baby_red_or_multicolored_potatoes', 'rosemary_sprig', 'avocados', 'balsamic_vinegrette', 'frozen_broccoli', 'sweet_chili_sauce', 'plum_tomatoes', 'garlic-flavored_couscous', 'poblano_chile', 'edamame', 'cooked_brown_rice', 'zesty_diced_tomatoes_seasoned_with_jalapeno_peppers_undrained', 'herbs', 'chopped_fresh_parsley', 'chopped_shallots', 'capers', 'olive_oil_flavored_cooking_spray', 'uncooked_small_whole_grain_noodles', 'spanish_onion', 'roasting_chicken', 'good_dry_red_wine', 'ground_ginger', 'teriyaki_sauce', 'whole_kernel_corn', 'shredded_cheddar_cheese', 'cooked_potatoes', 'mojito_marinade', 'dill_pickle_relish', 'apple_chicken_sausage', 'thousand_island_dressing', 'shredded_sauerkraut', 'thin_sliced_corned_beef', 'dill_pickles', 'rye_bread', 'cooked_chopped_chicken', 'crushed_potato_chips', 'chopped_slivered_almonds', 'water_chestnuts', 'mixed_salad_greens', 'broccoli_florets', 'ricotta_cheese', 'thick-cut_bacon', 'sharp_white_cheddar_cheese', 'smoked_paprika', 'quick-cooking_grits', 'new_potatoes', 'jalapenos', 'no_salt_added_diced_tomatoes', 'tricolored_carrots', 'cajun_spice_mix', 'limes', 'celery_stalks', 'butterflied_boneless_turkey_breast_with_skin_on', 'worchestershire_sauce', 'large_onion', 'butter-flavored_cooking_spray', 'lamb_loin_chops', 'chopped_fresh_rosemary', 'swordfish_fillets', 'good_dry_white_wine', 'canned_plum_tomatoes', 'chopped_fresh_basil_leaves', 'cognac_or_brandy', 'roma_tomatoes', 'greek_seasoning', 'diced_tomatoes_with_green_chiles', 'pinto_beans', 'cannellini_beans', 'chopped_fresh_cilantro', 'bow_tie_pasta', 'black_sesame_seeds', 'english_cucumber', 'whole_grain_mustard', 'seven_grain_bread', 'jalapeno_pepper', 'red_beans', 'crushed_pineapple', 'pearled_barley', 'pita_bread', 'reduced-fat_olive_oil_vinaigrette', 'uncooked_farfelle', 'sliced_asparagus', 'crumbled_feta_cheese_with_basil_and_sun-dried_tomatoes', 'fresh_broccoli', 'organic_cream_of_mushroom_soup', 'cooked_ham_cubes', 'chicken-flavor_rice_mix', 'bell_pepper_diced', 'parsley_chopped', 'filet_of_beef', 'melting_cherry_tomatoes', 'fresh_mozzarella_cheese', 'extra_firm_tofu', 'beef_cheek', 'lemon_herb_orzo', 'cooked_spaghetti', 'lentil', 'walnut', 'tostadas_shells', 'prosciutto', 'duxelles', 'roasted_red_pepper_quinoa_salad', 'fish_florentine', 'allspice_berries', 'gingersnap_cookies', 'cooked_chicken_breast', 'siracha_noodles', 'chicken_sausages', 'dion_mustard', 'whole_milk', 'dry_mustard', 'whole-grain_mustard', 'unsalted_butter', 'veal_sausages', 'freshly_ground_black_pepper', 'crème_fraîche', 'pea_pasta', 'lemon_ricotta', 'onion_slices', 'cheese_slices', 'nectarine-feta_tossed_salad', 'sausage_of_choice', 'shredded_cheese_of_choice', 'pico_de_gallo', 'tostadas', 'kashmiri_red_chili_powder', 'kasuri_methi', 'parmigiano_reggiano_cheese', 'quick_cooking_brown_rice', 'spicy_sesame_noodles_with_peanuts', 'potstickers', 'shredded_stemmed_kale_leaves', 'uncooked_whole-wheat_pasta', 'heavy_whipping_cream', 'freshly_grated_parmesan_cheese', 'pine_nuts', 'extra-virgin_olive_oil', 'vegetable broth', 'tomato paste', 'bay leaves', 'dried_parsley', 'cashew_nuts', 'nutritional_yeast', 'almond_milk', 'boneless_skinless_center_cut_salmon_fillets', 'good_mayonnaise', 'jarred_roasted_red_peppers', 'freshly_squeezed_lime_juice', 'chopped_chipotle_pepper_in_adobo_sauce', 'onion powder', 'poppy seeds', 'worcestershire sauce', 'brown sugar', 'fish_tacos_fish', 'fish_tacos_oil', 'fish_tacos_sour_cream', 'fish_tacos_pepper', 'fish_tacos_salsa', 'fish_tacos_avocado', 'fish_tacos_tortillas', 'fish_tacos_lime', 'fish_tacos_cilantro', 'fish_tacos_salt', 'fish_tacos_cabbage', 'black_pepper_topping', 'fresh_tarragon_leaves', 'minced_blanced_almonds', 'mandi_spice_mix', 'diced_carrots', 'chopped_leeks', 'diced_celery', 'olive_oil_beef_oxtails', 'salmon_chowder', 'hungarian_paprika', 'beef_stew_meat', 'all-purpose_flour_2', 'whole_milk_2', 'all_purpose_flour_for_pastry', 'minced_flat_leaf_parsley', 'salt_for_pastry', 'unsalted_butter_for_pastry', 'egg_for_egg_wash', 'sourdough_or_white_french_boule', 'spanish_onions', 'dry_sherri', 'chuck_roast', 'rib_eye_steaks', 'zucchini-pesto_orzo', 'skinless_fresh_salmon_fillet', 'optional_garnish', 'red_bell_pepper_strips', 'reduced_fat_peanut_butter', 'snow_peas', 'sea_scallops', 'uncooked_farfalle', 'add_ins', 'grated_cheddar_cheese', 'uncooked_whole_grain_pasta', 'ceasar_marinate_dressing', 'panko_bread_crumbs', 'cooked_peeled_shrimp', 'sweet_relist', 'bakery_white_bread', 'whole_wheat_fettuccine_noodles', 'orange_rind', 'raspberry_vinegar', 'low-sodium_soy_sauce', 'fresh_orange_juice', 'skinless_boneless_chicken_breast_halves', 'boneless_chicken_breasts', 'cooked_white_or_brown_rice', 'shrimp_stock_or_store-bought_vegetable_broth', 'bechamel_sauce', 'ground_white_pepper', 'unsalted_butter_2', 'chopped_fresh_oregano', 'frozen_cooked_peeled_and_deveined_medium_shrimp', 'uncooked_fusilli', 'diced_tomatoes_with_garlic_and_onion', 'crumbled_feta_cheese', 'low_sodium_teriyaki_sauce', 'olive_oil_flavored_cooking_spray', 'harge_garlic_clove_halved', 'sliced_deli_roast_turkey', 'fresh_mozzarella_cut_into_¼-inch-thick_slices', 'pesto_homemade_or_store-bought', 'slices_fontina_or_provolone_cheese', '12-ounce_jar_roasted_red_peppers_drained_and_cut_into_½-inch_slices', 'slices_rustic_white_bread_such_as_sourdough', 'leaves_from_1_bunch_fresh_basil', 'butter_melted_margherita', 'large_heirloom_tomatoes_or_4_roma_plum_tomatoes_thinly_sliced', 'olive_oil_for_drizzling', 'grape_tomatoes', 'tilapia_fillets', 'italian_cheese_blend', 'cottage_cheese', 'cremini_mushrooms', 'fresh_sage_leaves', 'farfalle_pasta', 'green_onion', 'fresh_coriander', 'fat-free_balsamic_vinaigrette', 'flour_or_corn_tortillas', 'hot_mango_chutney', 'flaked_sweetened_coconut', 'dark_brown_sugar', 'low_sodium_chicken_broth', 'chicken_breast_tenders', 'fresh_bean_sprouts', 'uncooked_angel_hair_pasta', 'chili_oil', 'non_fat_milk', 'lemon_pepper_seasoning', 'chicken_breast_halves', 'bacon_slice', 'tomato_broth', 'large_head_green_cabbage', 'canola_oil_2', 'low-sodium_chicken_broth', 'uncooked_gemelli', 'fresh_lime_or_lemon_juice', 'shredded_romaine_lettuce', 'bottled_minced_garlic', 'italian_seasoned_breadcrumbs', 'fat_free_less_sodium_chicken_broth', 'whole_cumin_seeds', 'jalapeno_pepper', 'poblano_pepper', 'scallions', 'minced_garlic', 'flour_tortillas', 'red_onion', 'baby_arugula', 'boneless_rib-eye_steaks', 'light_mayonnaise_balsamic_tartar_sauce', 'steamed_green_beans', 'fresh_mushrooms', 'sauterne_wine', 'lawrys_spaghetti_sauce_mix', 'coconut_rice', 'five_spice_tofu', 'chicken_parmesan', 'elbow_macaroni', 'leek_mac_and_cheese', 'roasted_tomatoes', 'fresh_garlic', 'stewed_tomatoes', 'seafood_stock', 'fresh_lump_crabmeat', 'toasted_pita_bread', 'skin-on_salmon_fillets', 'greek_style_yogurt', 'fresh_ginger', 'goat_cheese', 'parsley_or_cilantro', 'top_sirloin_steak', 'ground_thyme', 'light_soy_sauce', 'lemongrass', 'pepperidge_farm_seasoned_bread_crumbs', 'muenster_or_swiss_cheese', 'chicken_breasts_no_bones', 'cream_of_chicken_soup', 'turkey', 'vegetable stock', 'dried thyme', 'black_eyed_peas', 'italian_seasoned_bread_crumbs', 'boneless_center_cut_loin_pork_chops', 'fat_free_low_sodium_chicken_broth', 'provolone_cheese', 'eggplant_slices', 'gruvère_cheese', 'uncooked_spaghetti', 'diced_red_tomatoes', 'homemade_croutons', 'gluten_free_lasagna_noodles', 'dried_parsley', 'chicken_pot_pie', 'fresh_rosemary', 'rack_of_lamb', 'garlic_cloves', 'cardamom', 'cinnamon_stick', 'cashews', 'cumin_seeds', \"'parmesan_cheese']\", \"'tomato'\", \"'onion'\", \"'pasta'\", \"'pepper'\", \"['chicken_breast'\", 'shredded_lettuce', 'beef_sirloin', 'button_mushrooms', 'mushroom', 'salmon_fillet', 'fish_fillet', 'fish_fillets', 'red_chili_pepper', 'lamb_leg', 'farfalle', 'tomato_sauce', 'coriander', 'vegetable broth', 'bay leaves', 'red_kidney_beans', 'chipotle_peppers', 'green onions', 'vegetable oil', 'baking powder', 'prawns', 'long_grain_rice', 'sesame oil', 'lemon juice', 'red pepper flakes', 'soy sauce', 'rice vinegar', 'five_spice_powder', 'turkey_ground', 'turkey_breast', 'fresh_mint', 'coriander powder', 'curry powder', 'cumin powder', 'green beans', 'coconut milk', 'turmeric powder', 'almonds', 'lemon_juice', 'heavy_cream', 'parmesan_cheese', 'linguine', 'frozen_pot_stickers', 'fusilli_pasta', 'chicken_breast', 'black_beans', 'sour_cream', 'avocado', 'pea_pods', 'pecorino_romano_cheese', 'rotisserie_chicken', 'sesame_seed', 'white_sugar', 'fennel_seeds', 'dried_basil_leaves', 'shredded_cheese', 'taco_seasoning', 'salsa', 'poppy_seeds', 'refried_beans', 'ground_beef', 'shitake_mushrooms', 'tortilla_wraps', 'fresh_basil', 'canned_tomatoes', 'red_pepper_flakes', 'jasmine_rice', 'ziti_pasta', 'tostada_shells', 'pasta_dough', 'green_chilies', 'lime_juice', 'chicken_broth', 'chili_powder', 'diced_tomatoes', 'worcestershire sauce', 'poppy seeds', 'brown sugar', 'black_pepper_powder', 'cardamom_pods', 'red_onion', 'chicken_breast', 'fish_sauce', 'bean_sprouts', 'palm_sugar', 'red_chili_pepper', 'rice_noodles', 'tamarind_paste', 'italian-seasoned_bread_crumbs', 'fat-free_low-sodium_chicken_broth', 'chopped_shallots', 'boneless_center-cut_loin_pork_chops', 'ghee_or_oil', 'grated_parmesan_cheese', 'shredded_mozzarella_cheese', 'cooked_rice_or_noodles', 'chopped_peanuts', 'condiments', 'toasted almonds', 'minced garlic', 'bell pepper', 'red wine vinegar', 'crumbled feta cheese', 'red onion', 'sliced olives', 'cooking_spray/butter', 'knife', 'paper_towels', 'skillet', 'oven', 'spoon', 'baking_dish', 'diced_tomatoes', 'chopped_parsley', 'italian_seasoning', 'marinara_sauce', 'chopped_pimentos', 'chopped_celery', 'ceasar_marinate_dressing', 'steamed_rice', 'hoisin_sauce', 'grated_ginger', 'steamed_rice', 'curry_powder', 'coconut_milk', 'cilantro_leaves', 'naan_bread', 'cilantro_leaves', 'herbs_and_spices', 'packed_dark_brown_sugar', 'minced_blanched_almonds', 'diced_onions', 'pasta_or_zucchini_noodles', 'rice_or_pasta', 'bell_pepper', 'beef_broth', 'shredded_cheese', 'nectarines', 'butter_or_cooking_spray', 'peeled_shrimp', 'minced_fresh_dill', 'vegetable_broth', 'canned_tomatoes', 'whole-grain_mustard', 'fresh_veal_sausages', 'crème_fraîche', 'fresh_chicken_sausages', 'avocado_slices', 'chopped_cilantro', 'cilantro leaves', 'red chili powder', 'kasuri methi', 'ginger-garlic paste', 'naan', 'tomato puree', 'garam masala', 'sliced_mozzarella_cheese', 'vegetarian_ground_meat', 'baguette', 'sliced_tomatoes', 'boneless_chicken_breast', 'small_pasta', 'halibut_fillets', 'diced_celery_(2_stalks)', 'bay_leaves', 'pearled_barley', 'chopped_leeks_white_and_light_green_parts_(2_leeks)', 'minced_garlic_cloves', 'tablespoon', 'good_olive_oil_beef_oxtails', 'fresh_thyme_leaves', 'canned_beef_broth', 'diced_carrots_(4_carrots)', 'cooked_fresh_lobster_meat', 'cognac_or_brandy', 'spanish_onions', 'good_dry_white_wine', 'sourdough_or_white_french_boule', 'good_dry_sherry', 'additional_grated_parmesan_cheese', 'beaten_eggs', 'crusty_bread', 'white_fish_fillets', 'sage leaves', 'soy_sauce_or_sriracha_sauce', 'fresh chopped parsley or chives', 'grated parmesan cheese', 'shredded cheese', 'macaroni', 'smoked_salmon', 'skinless_fresh_salmon_fillet', 'freshly_squeezed_lime_juice', 'seven-grain_bread', 'coarsely_ground_black_pepper', 'minced_fresh_dill', 'minced_shallots', '_pepper', 'garnish_the_pork_chops_with_fresh_herbs', '_and_any_other_desired_spices_or_herbs', 'serve_the_one_pan_pork_chops_hot_with_your_favorite_side_dishes', 'heat_a_large_oven-safe_skillet_over_medium-high_heat._add_oil_and_sear_the_pork_chops_for_2-3_minutes_on_each_side_until_browned', 'season_the_pork_chops_with_salt', 'preheat_the_oven_to_400°f_(200°c)', 'transfer_the_skillet_to_the_preheated_oven_and_bake_for_10-12_minutes_or_until_the_internal_temperature_of_the_pork_chops_reaches_145°f_(63°c)', 'remove_the_skillet_from_the_oven_and_let_the_pork_chops_rest_for_5_minutes_before_serving', '_if_desired', 'mashed_potatoes', 'roasted_vegetables', 'fresh_herbs', 'steamed rice or noodles', 'oyster sauce', 'steamed_rice_or_noodles', 'spices', 'freshly_squeezed_lemon_juice', 'black_olives', 'beef_cubes', 'fresh_herbs', 'lemon juice', 'fresh dill', 'chicken broth', 'lemon slices', 'lemon zest', 'mirin', 'steamed_vegetables', 'chopped_fresh_dill', 'ground_white_pepper', 'baby_spinach', 'baby_bella_mushrooms', 'vegetables', 'sesame seeds', 'quick-cooking_grits', 'thick-cut_bacon', 'minced_chives', 'cooking_water', 'naan_bread', 'garlic_minced', 'meat_thermometer', 'romaine_lettuce_leaves', 'paper_towels', 'giblets', 'rotisserie_spit', 'rotisserie_oven', 'serving_plate', 'greek-style_yogurt', 'tzatziki_sauce', 'red_onions', 'steamed rice', 'thai curry paste', 'fish stock', 'bell peppers', 'good_feta_cheese', 'hothouse_cucumber', 'good_mayonnaise', 'chopped_chipotle_pepper_in_adobo_sauce', 'lime_quartered_for_serving', 'boneless_skinless_center_cut_salmon_fillets', 'jarred_roasted_red_peppers_seeded_and_chopped', 'sliced_green_onions', 'chopped_tomatoes', 'fresh_flat-leaf_parsley', 'sweet_hungarian_paprika', 'medium_yukon_gold_potatoes', 'chopped_fresh_chives', 'large_bone-in_skin-on_chicken_thighs', 'spices_or_herbs', 'fresh_parsley_or_grated_cheese', 'large_or_medium_eggplant', 'salad', 'whole_wheat_pasta_noodles', 'dried_herbs', 'garlic_toast', 'hot_sauce', 'homemade_cole_slaw', 'minced_fresh_thyme_leaves', 'grated_lemon_zest', 'fully_cooked_spiral_cut_smoked_ham', 'orange_zest', 'light_brown_sugar', 'freshly_squeezed_orange_juice', 'mango_chutney', 'toasted pita bread', 'feta cheese', 'no-salt-added_diced_tomatoes', 'zesty_diced_tomatoes_seasoned_with_jalapeño_peppers_undrained', 'pearl_onions_peeled', 'mushrooms_sliced_½_inch_thick_wild', 'garlic_cloves_minced', 'unsalted_butter_at_room_temperature', 'good_dry_red_wine_such_as_burgundy_or_chianti', 'mushrooms_sliced_½_inch_thick_domestic', 'bacon_diced', 'carrots_cut_diagonally_into_1-inch-thick_slices', 'filet_of_beef_trimmed', 'chopped_nuts', 'rib_eye_steaks', 'ripe_red_tomato_slices', 'ripe_hass_avocados', 'sweet_relish', 'thick-cut_applewood-smoked_bacon', 'bibb_boston_or_butter_lettuce_leaves', 'good_bakery_white_bread', 'egg_noodles_or_rice', 'red_bell_pepper_strips', 'brown_sugar', 'uncooked_farfalle_(bow_tie_pasta)', 'snow_peas', 'reduced-fat_peanut_butter', 'sea_scallops', 'low-sodium_soy_sauce', 'rice_wine_vinegar', 'baby_arugula', 'boneless_rib-eye_steaks', 'good_parmesan_cheese', 'cremini_mushrooms', 'yellow_squash', 'italian_cheese_blend', 'cottage_cheese', 'lasagna_noodles', 'lemon_wedges', 'flounder_fillets', 'additional_chopped_parsley', 'skinless_salmon_fillets', 'vegan_ranch', 'canned_chickpeas', 'cracked_black_pepper', 'fresh_chopped_lettuce', 'sriracha', 'large_pot', 'butter_melted', 'shallots_finely_chopped', 'lemon_juiced', 'thinly_sliced_green_onion', 'fresh_lime_juice', 'fresh_cilantro', 'homemade_chicken_stock_or_good-quality_broth', 'celery_stalks_or_green_bell_pepper', 'uncooked_small_whole-grain_noodles', 'cooked_chicken', 'italian-seasoned_breadcrumbs', 'fat-free_less-sodium_chicken_broth', 'stewed_or_roasted_diced_tomatoes', 'shredded_mozzarella', 'light_soy_sauce', 'onion_powder', 'ground_thyme', 'minced_flat-leaf_parsley', 'salt_pastry', 'unsalted_butter_pastry', 'all-purpose_flour_pastry', 'peeled_garlic_cloves', 'extra-virgin_olive_oil', 'freshly_grated_parmesan_cheese', 'loosely_packed_shredded_stemmed_kale_leaves', 'uncooked_whole-wheat_pasta', 'heavy_whipping_cream', 'loosely_packed_fresh_basil_leaves', 'rosemary_sprig', 'new_potatoes', 'red_snapper_fillets', 'fat-free_balsamic_vinaigrette', 'whole-wheat_flour', 'mahimahi_fillets', 'minced_garlic_cloves', 'garlic_cloves_crushed', 'cooked_quinoa', 'fresh_lime_or_lemon_juice', 'shredded_romaine_lettuce', 'freshly_ground_pepper', 'thyme_sprigs', 'chuck_pot_roast', 'russet_potatoes', 'white_onion', 'roma_tomatoes', 'rustic_white_bread', 'heirloom_tomatoes', 'roasted_red_peppers', 'provolone_cheese', 'fresh_mozzarella', 'deli_roast_turkey', 'fresh_basil', 'non-fat_milk', 'add-ins', 'whole-grain_pasta', 'hot_mango_chutney', 'flaked_sweetened_coconut', 'broccoli_head', 'roasted_potatoes', 'tricolored_baby_potatoes', 'roasting_chicken', 'spanish_onion', 'baby_red_or_multicolored_potatoes', 'tuna_steaks', 'english_cucumber', 'sesame_seeds', 'black_sesame_seeds', 'serded_and_small-diced_poblano_pepper', 'good_seafood_stock', 'very_good_fresh_lump_crabmeat', 'small-diced_shallots', 'minced_fresh_chives', 'freshly_grated_lemon_zest', 'butter-flavored_cooking_spray', 'chopped_fresh_rosemary', 'lamb_loin_chops', 'plain_fat-free_yogurt', 'dry_red_wine', 'diced_tomatoes_with_juice', 'sliced_mushrooms', 'golden_delicious_apples', 'pork_tenderloin', 'grated_parmesan_cheese', 'canned_chicken_broth', 'bread_crumbs', 'ginger_root', 'fettuccine_noodles', 'cajun_seasoning_mix', 'ground_chicken', 'low-sodium_teriyaki_sauce', 'whole-wheat_spaghetti', 'garlic_head', 'grated cheese', 'bow_tie_pasta', 'pinto_beans', 'diced_tomatoes_with_green_chiles', 'pot_stickers', 'uncooked_pasta', 'chopped_fresh_oregano', 'cans_diced_tomatoes_with_garlic_and_onion', 'frozen_cooked_peeled_and_deveined_medium_shrimp', 'chopped_onion', 'kale_leaves', 'crumbled_feta_cheese', 'uncooked_fusilli', 'optional_herbs_or_spices', 'jalapenos_chopped_optional', 'sour_cream_optional', 'eggs_lightly_beaten', 'guacamole_optional', 'skinless_boneless_chicken_breast_halves', 'uncooked_linguine', 'shredded_fresh_parmesan_cheese', 'hot_ham_buns', 'fresh_parsley_or_green_onions', 'sauce', 'swiss_cheese', 'boneless_skinless_chicken_breast', 'fresh_sage_leaves', 'tacos', 'beans', 'meyer_lemon', 'panko_bread_crumbs', 'creamy_goat_cheese', 'fresh_parsley_or_cilantro', 'black_pepper_freshly_cracked', 'fresh_parsley_chopped', 'black_pepper_freshly_ground', 'yellow_onion_minced', 'garlic_clove_minced', 'celery_minced', 'green_onions_minced', 'tilapia_or_other_white_fish_fillets', 'garlic-flavored_couscous_uncooked', 'large_shrimp_peeled_and_deveined', 'plum_tomatoes_chopped', 'cilantro_chopped', 'poblano_chile_seeded_and_finely_chopped', 'black_beans_rinsed_and_drained', 'sauterne_wine', 'fresh_mushrooms', \"lawry's_spaghetti_sauce_mix\", 'boneless_top_sirloin_steak', 'yellow_or_red_bell_peppers', 'fresh_corn', 'ketchup_or_barbecue_sauce', 'chicken_breast_tenders', 'uncooked_angel_hair_pasta', 'chili_oil', 'low-sodium_chicken_broth', 'fresh_bean_sprouts', 'red_beans_or_kidney_beans', 'red_curry_paste', 'finely_chopped_shallots', 'uncooked_gemelli', 'light_coconut_milk', 'sandwiches', 'fresh_bread_crumbs', 'fat-free_evaporated_milk', 'lemon-pepper_seasoning', 'peeled_shrimp_with_tails_on', 'fat-free_half-and-half', 'butterflied_boneless_turkey_breast_with_the_skin_on', 'fresh_rosemary_sprigs', 'reduced-fat_olive_oil_vinaigrette', 'sliced_asparagus', 'uncooked_farfelle_(bow_tie_pasta)', 'crumbled_feta_cheese_with_basil_and_sun-dried_tomatoes', 'grape_or_cherry_tomatoes', 'diced_chicken', 'red_wine', 'steamed_green_beans', 'fresh_orange_juice', 'mixed_salad_greens', 'raspberry_vinegar', 'grated_peeled_fresh_ginger', 'grated_orange_rind', 'bacon_slice', 'chipotle_chiles_in_adobo_sauce', 'pot_roast', 'minced_fresh_tarragon_leaves', 'melted_butter', 'cooked_diced_veggies', 'quick-cooking_whole-grain_brown_rice', 'finely_grated_parmigiano-reggiano_cheese', 'homemade_chicken_stock', 'diced_onion', 'cooked_peeled_coarsely_chopped_shrimp', 'tomato_juice', 'uncooked_long_grain_white_rice', 'large_head_green_cabbage', 'sweet_onion', 'tomato_broth', 'himalayan_pink_salt', 'cooked_white_rice', 'shrimp_stock', 'cooked_brown_rice', 'canned_plum_tomatoes', 'swordfish_fillets', 'chopped_fennel', 'chopped_fresh_basil_leaves', 'thinly_sliced_red_onion', 'balsamic_vinegar', 'finely_chopped_plum_tomatoes', 'chopped_fresh_basil', 'eggplant_slices', 'small-diced_feta', 'boneless_chicken_breasts_skin-on', 'european-style_unsalted_butter', 'greek_seasoning', 'feta_cheese', 'sausages', 'refrigerated_pesto', 'flour_tortillas', 'whole_cumin_seeds', 'poblano_pepper', 'jalapeno_pepper', 'whole_spices', 'cream_of_mushroom_soup', 'boneless_skinless_chicken_thighs', 'baking_dish', 'farfalle_pasta', 'greek_yogurt', 'sliced_avocado', 'large_skillet', 'desired_sauce', 'ingredients', 'liquid', 'equipment', 'seasonings', 'garnish', 'protein', 'curry_paste', 'shredded_cabbage', 'chopped_herbs', 'lemon-herb_orzo', 'shredded_cheese_of_choice', 'sausage_of_choice', 'red_chili_peppers', 'asparagus_spears', 'cooked_rice', 'pecorino romano cheese', 'beef_cubes', 'fresh_dill_or_parsley', 'fresh_parsley/lemon_slices', 'fish_or_vegetable_broth', 'cheddar cheese', 'lemon_slices', 'salt_and_pepper', 'cod_fillets', 'optional_herbs_or_spices', 'orecchiette_pasta', 'small-diced_red_onion', 'minced_fresh_chives', 'serded_and_small-diced_poblano_pepper', 'frozen_peas_defrosted', 'saffron_threads', 'small-diced_shallots', 'freshly_grated_lemon_zest', 'italian_arborio_rice', 'very_good_fresh_lump_crabmeat_picked_through_for_shells', 'good_seafood_stock', 'warm_tomato_sauce', 'balsamic_glaze', 'broccoli florets', 'freshly chopped parsley', 'additional parmesan cheese', 'parmesan cheese', 'chopped_fresh_flat-leaf_parsley', 'spicy_aioli', 'tartar_sauce', 'dry_breadcrumbs', 'white_balsamic_vinegar', 'fat-free_milk', 'finely_chopped_parsley', 'large_egg', 'lump_crabmeat', 'dry_mustard', 'light_mayonnaise_tartar_sauce', 'ground_cloves', 'chipotle_peppers_in_adobo_sauce', 'beef_chuck_roast', 'hot_dog_buns', 'pickle', 'black_peppercorn_gravy', 'quick_cooking_whole_grain_brown_rice', 'finely_grated_parmigiano_reggiano_cheese', 'far_free_less_sodium_chicken_broth', 'shredded_reduced_fat_monterey_jack_cheese', 'chopped_red_bell_pepper', 'minced_yellow_onion', 'minced_celery', 'small_new_potatoes', 'chiffonade_cut_fresh_sage_leaves', 'dressing', 'chopped_fresh_herbs', '_parchment_paper', 'baking_sheet', 'pork chops', 'tostada_shell', 'uncooked_basmati_rice', 'chopped_green_onions_2', 'chopped_red_bell_pepper', 'salt_2', 'baking_powder_pastry', 'wine', 'cooked_whole-wheat_pasta_noodles', 'grated_mozzarella_cheese', 'store-bought_tomato_sauce', 'grilled_lemon_slices', 'farm-raised_catfish_fillets', 'fat-free_red_wine_vinaigrette', 'salt-free_mexican_seasoning', 'buns_or_rolls', 'coleslaw_or_pickles', 'cooking_liquid', 'salad_bowl', 'grater', 'grains', 'protein_of_choice', 'herbs_or_spices', 'fresh_herbs_or_grated_cheese', 'large_tortillas', 'mashed_potatoes', 'crusty_bread', 'aluminum_foil', 'boneless_center-cut_loin_pork_chops', 'fat-free_low-sodium_chicken_broth', 'taco_seasoning', 'avocado_slices', 'fresh_parsley_or_green_onions', 'cold_fresh_lard', 'cold_unsalted_butter', 'frozen_green_peas', 'lite_kielbasa_sausage', 'mexican-flavored_stewed_tomatoes', 'celery_stalks_or_sliced_green_bell_pepper', 'homemade_chicken_stock_or_good_quality_broth', 'hot_water', 'flounder_fillets', 'additional_chopped_parsley', 'filet_of_beef', 'chives_or_grated_cheese', 'unsalted_butter_melted', 'minced_fresh_parsley_or_cilantro', 'freshly ground black pepper', 'grated parmesan cheese', 'very_good_black_caviar', 'lemons_zest_and_juice', 'beef_slices', 'parsley_or_fresh_herbs', 'can_crushed_pineapple', 'small_onion', 'bowl_and_whisk', 'nan', 'knife_and_cutting_board', 'chicken_flavor_rice_mix', 'cooked_ham', 'pork_chops', 'chicken_breasts_no_bones', 'pepperidge_farm_seasoned_bread_crumbs', 'muenster_cheese', 'muenster_or_swiss_cheese', 'ginger_paste', 'frozen_corn', 'marsala_wine', 'serving_platter', '_fresh_herbs', 'brush', 'grill', 'tongs', 'chopped_spinach', 'slotted_spoon', 'pot', 'pasta_sheets', 'in_the_same_skillet', '_and_nutmeg._cook_for_2_minutes_until_the_sauce_thickens', '_melt_the_butter_over_medium_heat', 'add_the_spinach_and_cook_until_wilted', 'stir_in_the_cream', '_about_2-3_minutes', 'heat_olive_oil_in_a_large_skillet_over_medium_heat', 'add_the_garlic_and_cook_for_1_minute_until_fragrant', 'grease_a_baking_dish_with_butter_or_cooking_spray', 'remove_the_fish_fillets_from_the_skillet_and_transfer_them_to_the_greased_baking_dish', '_parmesan_cheese', 'season_the_fish_fillets_with_salt_and_pepper_on_both_sides', 'serve_the_fish_florentine_hot_with_a_side_of_steamed_vegetables_or_rice', 'preheat_the_oven_to_375°f_(190°c)', 'bake_in_the_preheated_oven_for_15-20_minutes_until_the_fish_is_cooked_through_and_the_sauce_is_bubbly', 'pour_the_spinach_sauce_over_the_fish_fillets_in_the_baking_dish', 'add_the_fish_fillets_to_the_skillet_and_cook_for_2-3_minutes_on_each_side_until_lightly_browned', 'cod_fillets', 'fresh_rosemary', 'chicken_or_vegetable_broth', 'linguine_pasta', 'baking_sheet', 'garlic_parmesan_baked_flounder', 'bowl', 'spicy_sausage', 'broccoli_rabe', 'olives', 'unsalted_cashews', 'cooked_egg_noodles_or_rice', 'crushed_tortilla_chips', 'pineapple juice', 'plain_yogurt', 'medium_onion', 'ground_paprika', 'ground_turmeric', 'steamed_basmati_rice', 'dried_lentils', 'garlic powder', 'sour cream', 'baby bella mushrooms', 'fresh broccoli', 'organic cream of mushroom soup', 'pecorino_romano_cheese', 'dried_thyme', 'unsweetened_almond_milk', 'fresh_mint_leaves', 'hothouse_cucumber', 'toasted_pita_bread', 'good_feta_cheese', 'ripe_tomatoes', 'canned_beans', 'corn_on_the_cob', 'lobster_meat', 'parmigiano-reggiano_cheese', 'minced_chives', 'melted_unsalted_butter', 'veal_sausages', 'chicken_sausages', 'gruyere_cheese', 'cilantro_or_green_onions', 'diced_green_bell_pepper', 'fish_stock', 'dry_sherry', 'grated_cheddar_cheese', 'uncooked_whole-grain_pasta', 'unsalted_butter_melted', 'stale_bread', 'chicken_filling', 'chopped_tomatoes_with_chiles', 'velveeta_cheese', 'creamy_peanut_butter', 'roasted_peanuts', 'chicken_quarters', 'fresh_ginger_root', 'chopped_fresh_thyme', 'coarsely_ground_cornmeal', 'chopped sage', 'sliced mushrooms', 'thai_red_curry_paste', 'additional_spices', 'lime_quartered', 'ingredients_divide_the_dish_into_4_portions_and_serve_hot', 'ingredients_heat_a_large_skillet_over_medium_heat', 'ingredients_stir_everything_together_and_cook_for_an_additional_2_minutes', 'ingredients_add_the_chopped_vegetables_to_the_skillet_and_sauté_until_tender', 'ingredients_season_with_salt_pepper_and_any_other_desired_spices', 'ingredients_wash_and_chop_the_vegetables', 'ingredients_in_a_separate_pot_boil_water_and_cook_the_pasta_according_to_package_instructions', 'ingredients_drain_the_cooked_pasta_and_add_it_to_the_skillet_with_the_vegetables', 'ingredients_gather_all_the_ingredients_and_equipment_needed_for_the_dish', 'ingredients_add_oil_to_the_skillet_and_heat_it', 'thyme_leaves', 'seafood_stock', 'fresh_lump_crabmeat', 'cayenne pepper', 'ground black pepper', 'bbq sauce', 'pork ribs', 'catfish_fillets', 'chopped_onions', 'whole_peppercorns', 'whole_cloves', 'chopped_carrots', 'peeled_shrimp_with_tails_on', 'fresh_bread_crumbs', 'minced_garlic_(3_cloves)', 'good_feta_cheese_coarsely_crumbled', 'medium-diced_fennel', 'good_olive_oil_divided', 'enchilada_sauce', 'monterey_jack_cheese_shredded', 'green_chiles', 'chicken_poached', 'onion_chopped', 'cheddar_cheese_shredded', 'ground_cinnamon', 'large_eggs', 'canned_diced_tomatoes', 'sliced_fresh_mushrooms', 'pork_shoulder', 'melted_butter_or_olive_oil', 'cooked_shredded_chicken', 'diced_red_onion', 'caesar_marinade_dressing', 'chocolate_chips', 'blueberries', 'hummus', 'lemons_juice', 'lemons_zest', 'uncooked_long-grain_white_rice', 'canned_corn', 'half-and-half', 'evaporated_milk', 'orange_rind', 'peeled_tomatoes_with_basil', 'colander', 'chili_garlic_sauce', 'long-grain_white_rice', 'boneless_pork_shoulder', 'hearty_red_wine', 'minced_ginger', 'vegan_cheese', 'vegan_ranch_dressing', 'buffalo_sauce', 'vegan_butter', 'kidney_beans', 'long-grain_white_rice', 'diced_tomatoes_with_green_chilies', 'chopped_bell_pepper', 'cubed_cooked_potatoes', 'fettuccine_pasta', 'reduced-sodium_soy_sauce', 'fresh_salmon_fillet', 'low-sodium_teriyaki_sauce', 'olive_oil-flavored_cooking_spray', 'fish_fillets', 'cooked_whole_wheat_pasta_noodles', 'clarified_butter', 'grated_lemon_peel', 'skinless_boneless_chicken_breasts', 'new_york_strip_steak', 'whole_cumin_seeds', 'manchego_cheese', 'holland_orange_bell_pepper', 'holland_yellow_bell_pepper', 'pasta_or_spaghetti_squash', 'frozen_cooked_shrimp', 'diced_tomatoes_with_garlic_and_onion', 'chopped_green_bell_pepper', 'canned_chipotle_chile', 'picante-flavored_vegetable_juice', 'finely_chopped_onion', 'chopped_tomato', 'chopped_peeled_cucumber', 'shredded_stemmed_kale_leaves', 'chiffonade-cut_fresh_sage_leaves', 'shredded_parmesan_cheese', 'quartered_artichoke_hearts', 'beef_oxtails', 'chopped_bell_peppers', 'chopped_basil', 'chopped_mint', 'green onions or parsley', 'diced_bell_peppers', 'remove_the_fish_fillets_from_the_skillet_and_set_aside', 'add_the_fish_fillets_to_the_skillet_and_cook_for_2_minutes_on_each_side_until_lightly_browned', 'place_the_cooked_fish_fillets_in_the_greased_baking_dish', 'add_the_spinach_and_cook_for_2-3_minutes_until_wilted', 'stir_in_the_cream_parmesan_cheese_and_nutmeg_cook_for_2_minutes_until_the_sauce_thickens', 'serve_hot_and_enjoy!', 'pour_the_spinach_sauce_over_the_fish_fillets', 'season_the_fish_fillets_with_salt_and_pepper', 'in_the_same_skillet_melt_the_butter_over_medium_heat', 'turmeric_powder', 'garam_masala', 'naan_or_rice', 'red_chili_powder', 'ginger_garlic_paste', 'tomato_puree', 'doritos_chips', 'egg_noodles']\n"
     ]
    },
    {
     "data": {
      "text/plain": [
       "2038"
      ]
     },
     "execution_count": 8,
     "metadata": {},
     "output_type": "execute_result"
    }
   ],
   "source": [
    "my_ingredients = list(map_obj)\n",
    "print(my_ingredients)\n",
    "len(my_ingredients)"
   ]
  },
  {
   "cell_type": "code",
   "execution_count": 9,
   "metadata": {},
   "outputs": [],
   "source": [
    "# Loading the food2vec model \n",
    "model = Word2Vec.load('food2vec/models/food2vec_models/model.bin')"
   ]
  },
  {
   "cell_type": "code",
   "execution_count": 5,
   "metadata": {},
   "outputs": [],
   "source": [
    "# Function for getting the embeddings of ingredients from OpenAI Embeddings Model\n",
    "def get_embeddings(input):\n",
    "    response = openai.Embedding.create(\n",
    "        input= input,\n",
    "        model=\"text-embedding-ada-002\"\n",
    "    )\n",
    "    embeddings = response['data'][0]['embedding']\n",
    "\n",
    "    return np.array(embeddings)"
   ]
  },
  {
   "cell_type": "code",
   "execution_count": 9,
   "metadata": {},
   "outputs": [],
   "source": [
    "# Function to evaluate the similarity of two embeddings\n",
    "\n",
    "def similarity(w1, w2):\n",
    "    similarity = cosine_similarity(w1.reshape(1, -1), w2.reshape(1, -1))\n",
    "    return f\"Cosine Similarity: {similarity[0][0]}\""
   ]
  },
  {
   "cell_type": "markdown",
   "metadata": {},
   "source": [
    "### Evaluation OpenAI's Embeddings of Ingredients"
   ]
  },
  {
   "cell_type": "code",
   "execution_count": 6,
   "metadata": {},
   "outputs": [],
   "source": [
    "salt = get_embeddings(\"salt\")\n",
    "kosher_salt = get_embeddings(\"kosher_salt\")\n",
    "pepper= get_embeddings(\"pepper\")"
   ]
  },
  {
   "cell_type": "code",
   "execution_count": 20,
   "metadata": {},
   "outputs": [
    {
     "data": {
      "text/plain": [
       "1536"
      ]
     },
     "execution_count": 20,
     "metadata": {},
     "output_type": "execute_result"
    }
   ],
   "source": [
    "# OpenAI makes embeddings of dimension 1536\n",
    "len(salt)"
   ]
  },
  {
   "cell_type": "code",
   "execution_count": 21,
   "metadata": {},
   "outputs": [
    {
     "name": "stdout",
     "output_type": "stream",
     "text": [
      "Salt and Pepper - Cosine Similarity: 0.829462213227012\n",
      "Salt and Kosher Salt - Cosine Similarity: 0.854892319267522\n"
     ]
    }
   ],
   "source": [
    "print(f\"Salt and Pepper - {similarity(salt, pepper)}\")\n",
    "print(f\"Salt and Kosher Salt - {similarity(salt, kosher_salt)}\")"
   ]
  },
  {
   "cell_type": "markdown",
   "metadata": {},
   "source": [
    "Salt and Kosher Salt have a high cosine similarity but salt and pepper also have a reasonably high cosine similarity and their is only a marginal difference between the two cosine similarities."
   ]
  },
  {
   "cell_type": "code",
   "execution_count": 313,
   "metadata": {},
   "outputs": [],
   "source": [
    "parmesan  = get_embeddings(\"parmesan_cheese\")\n",
    "grated_parmesan  = get_embeddings(\"grated_parmesan_cheese\")\n",
    "mozzarella = get_embeddings(\"mozzarella_cheese\")"
   ]
  },
  {
   "cell_type": "code",
   "execution_count": null,
   "metadata": {},
   "outputs": [
    {
     "name": "stdout",
     "output_type": "stream",
     "text": [
      "Parmesan Cheese and Grated Parmesan Cheese - Cosine Similarity: 0.9385673402474369\n",
      "Parmesan Cheese and Mozzarella Cheese - Cosine Similarity: 0.9329625437248483\n"
     ]
    }
   ],
   "source": [
    "print(f\"Parmesan Cheese and Grated Parmesan Cheese - {similarity(parmesan, grated_parmesan)}\")\n",
    "print(f\"Parmesan Cheese and Mozzarella Cheese - {similarity(parmesan, mozzarella)}\")"
   ]
  },
  {
   "cell_type": "markdown",
   "metadata": {},
   "source": [
    "Parmesan Cheese's cosine similarity with grated parmesan cheese is almost equal to its cosine similarity with mozzarella cheese, however, the cosine similarity with grated parmesan cheese should have been more since its just a different form of the same ingredient."
   ]
  },
  {
   "cell_type": "code",
   "execution_count": 7,
   "metadata": {},
   "outputs": [],
   "source": [
    "garlic  = get_embeddings(\"garlic\")\n",
    "garlic_clove  = get_embeddings(\"garlic_clove\")\n",
    "ginger = get_embeddings(\"ginger\")"
   ]
  },
  {
   "cell_type": "code",
   "execution_count": 10,
   "metadata": {},
   "outputs": [
    {
     "name": "stdout",
     "output_type": "stream",
     "text": [
      "Garlic and Garlic Cloves - Cosine Similarity: 0.9181661152944927\n",
      "Garlic and Ginger - Cosine Similarity: 0.8690165790494919\n"
     ]
    }
   ],
   "source": [
    "print(f\"Garlic and Garlic Cloves - {similarity(garlic, garlic_clove)}\")\n",
    "print(f\"Garlic and Ginger - {similarity(garlic, ginger)}\")"
   ]
  },
  {
   "cell_type": "markdown",
   "metadata": {},
   "source": [
    "### Observation on OpenAI Embeddings\n",
    "\n",
    "The embeddings are representative of the strong similarity between any two similar ingredients. However, they tend to have a high cosine similarity even between ingredients which are not similar, which makes it difficult to identify the most similar ingredients and different names of the same ingredient."
   ]
  },
  {
   "cell_type": "markdown",
   "metadata": {},
   "source": [
    "### Evaluation of Food2Vec Embeddings"
   ]
  },
  {
   "cell_type": "code",
   "execution_count": 26,
   "metadata": {},
   "outputs": [
    {
     "data": {
      "text/plain": [
       "100"
      ]
     },
     "execution_count": 26,
     "metadata": {},
     "output_type": "execute_result"
    }
   ],
   "source": [
    "# Length of Food2Vec Embeddings is 100\n",
    "len(model.wv[\"salt\"])"
   ]
  },
  {
   "cell_type": "code",
   "execution_count": 27,
   "metadata": {},
   "outputs": [
    {
     "data": {
      "text/plain": [
       "[('Kosher', 0.6294300556182861),\n",
       " ('cracked_black_pepper', 0.6071157455444336),\n",
       " ('Fresh-', 0.5951094031333923),\n",
       " ('dried_parsley', 0.5932490229606628),\n",
       " ('maldon', 0.5932028293609619),\n",
       " ('morton', 0.5621879696846008)]"
      ]
     },
     "execution_count": 27,
     "metadata": {},
     "output_type": "execute_result"
    }
   ],
   "source": [
    "w1 = [\"kosher\"]\n",
    "model.wv.most_similar (positive=w1,topn=6)"
   ]
  },
  {
   "cell_type": "code",
   "execution_count": 28,
   "metadata": {},
   "outputs": [
    {
     "name": "stdout",
     "output_type": "stream",
     "text": [
      "Cosine Similarity between salt and kosher_salt - 0.8143872618675232\n",
      "Cosine Similarity between salt and pepper - 0.18186870217323303\n"
     ]
    }
   ],
   "source": [
    "print(f\"Cosine Similarity between salt and kosher_salt - {model.wv.similarity(w1='salt', w2 ='kosher_salt')}\")\n",
    "print(f\"Cosine Similarity between salt and pepper - {model.wv.similarity(w1='salt', w2 ='pepper')}\")"
   ]
  },
  {
   "cell_type": "code",
   "execution_count": 29,
   "metadata": {},
   "outputs": [
    {
     "name": "stdout",
     "output_type": "stream",
     "text": [
      "Cosine Similarity between parmesan_cheese and grated_parmesan_cheese - 0.7766836285591125\n",
      "Cosine Similarity between parmesan_cheese and mozzarella_cheese - 0.8087217211723328\n"
     ]
    }
   ],
   "source": [
    "print(f\"Cosine Similarity between parmesan_cheese and grated_parmesan_cheese - {model.wv.similarity(w1='parmesan_cheese', w2 ='grated_parmesan_cheese')}\")\n",
    "print(f\"Cosine Similarity between parmesan_cheese and mozzarella_cheese - {model.wv.similarity(w1='parmesan_cheese', w2 ='mozzarella_cheese')}\")"
   ]
  },
  {
   "cell_type": "code",
   "execution_count": 30,
   "metadata": {},
   "outputs": [
    {
     "data": {
      "text/plain": [
       "[('parmesan', 0.9504023790359497),\n",
       " ('romano_cheese', 0.8272979259490967),\n",
       " ('mozzarella_cheese', 0.8087217211723328),\n",
       " ('cheddar_cheese', 0.7970229983329773),\n",
       " ('parmigiano', 0.780430257320404)]"
      ]
     },
     "execution_count": 30,
     "metadata": {},
     "output_type": "execute_result"
    }
   ],
   "source": [
    "model.wv.most_similar(\"parmesan_cheese\", topn = 5)"
   ]
  },
  {
   "cell_type": "code",
   "execution_count": 31,
   "metadata": {},
   "outputs": [
    {
     "name": "stdout",
     "output_type": "stream",
     "text": [
      "Cosine Similarity between garlic and garlic_clove - 0.6446242332458496\n",
      "Cosine Similarity between garlic and ginger - 0.5138317346572876\n"
     ]
    }
   ],
   "source": [
    "print(f\"Cosine Similarity between garlic and garlic_clove - {model.wv.similarity(w1='garlic', w2 ='garlic_clove')}\")\n",
    "print(f\"Cosine Similarity between garlic and ginger - {model.wv.similarity(w1='garlic', w2 ='ginger')}\")"
   ]
  },
  {
   "cell_type": "code",
   "execution_count": 32,
   "metadata": {},
   "outputs": [
    {
     "data": {
      "text/plain": [
       "[('minced_garlic', 0.8553013205528259),\n",
       " ('crushed_garlic', 0.8153051137924194),\n",
       " ('chopped_garlic', 0.7908270955085754),\n",
       " ('garlic_paste', 0.7144184708595276),\n",
       " ('garlic;', 0.697868287563324)]"
      ]
     },
     "execution_count": 32,
     "metadata": {},
     "output_type": "execute_result"
    }
   ],
   "source": [
    "model.wv.most_similar(\"garlic\", topn = 5)"
   ]
  },
  {
   "cell_type": "markdown",
   "metadata": {},
   "source": [
    "### Evaluation of FoodBERT "
   ]
  },
  {
   "cell_type": "code",
   "execution_count": null,
   "metadata": {},
   "outputs": [],
   "source": [
    "!wget https://github.com/ChantalMP/Exploiting-Food-Embeddings-for-Ingredient-Substitution/releases/download/0.1/foodbert_data.zip"
   ]
  },
  {
   "cell_type": "code",
   "execution_count": null,
   "metadata": {},
   "outputs": [],
   "source": [
    "!unzip -qq foodbert_data.zip\n",
    "!mv foodbert_data/* foodbert/data/\n",
    "!rm -r foodbert_data"
   ]
  },
  {
   "cell_type": "code",
   "execution_count": null,
   "metadata": {},
   "outputs": [],
   "source": [
    "!pip3 install torch torchvision torchaudio"
   ]
  },
  {
   "cell_type": "code",
   "execution_count": 2,
   "metadata": {},
   "outputs": [
    {
     "name": "stderr",
     "output_type": "stream",
     "text": [
      "c:\\Users\\hp\\Embeddings Project\\Exploiting-Food-Embeddings-for-Ingredient-Substitution\\env\\Lib\\site-packages\\tqdm\\auto.py:21: TqdmWarning: IProgress not found. Please update jupyter and ipywidgets. See https://ipywidgets.readthedocs.io/en/stable/user_install.html\n",
      "  from .autonotebook import tqdm as notebook_tqdm\n"
     ]
    }
   ],
   "source": [
    "from transformers import BertModel, BertForMaskedLM, BertTokenizer\n",
    "import torch\n",
    "import json"
   ]
  },
  {
   "cell_type": "code",
   "execution_count": 89,
   "metadata": {},
   "outputs": [],
   "source": [
    "with open('foodbert/data/used_ingredients.json', 'r') as f:\n",
    "    used_ingredients = json.load(f)\n",
    "tokenizer = BertTokenizer(vocab_file='foodbert/data/bert-base-cased-vocab.txt', do_lower_case=False, max_len=128, never_split=used_ingredients)"
   ]
  },
  {
   "cell_type": "code",
   "execution_count": 93,
   "metadata": {},
   "outputs": [
    {
     "data": {
      "text/plain": [
       "BertModel(\n",
       "  (embeddings): BertEmbeddings(\n",
       "    (word_embeddings): Embedding(33247, 768, padding_idx=0)\n",
       "    (position_embeddings): Embedding(512, 768)\n",
       "    (token_type_embeddings): Embedding(2, 768)\n",
       "    (LayerNorm): LayerNorm((768,), eps=1e-12, elementwise_affine=True)\n",
       "    (dropout): Dropout(p=0.1, inplace=False)\n",
       "  )\n",
       "  (encoder): BertEncoder(\n",
       "    (layer): ModuleList(\n",
       "      (0-11): 12 x BertLayer(\n",
       "        (attention): BertAttention(\n",
       "          (self): BertSelfAttention(\n",
       "            (query): Linear(in_features=768, out_features=768, bias=True)\n",
       "            (key): Linear(in_features=768, out_features=768, bias=True)\n",
       "            (value): Linear(in_features=768, out_features=768, bias=True)\n",
       "            (dropout): Dropout(p=0.1, inplace=False)\n",
       "          )\n",
       "          (output): BertSelfOutput(\n",
       "            (dense): Linear(in_features=768, out_features=768, bias=True)\n",
       "            (LayerNorm): LayerNorm((768,), eps=1e-12, elementwise_affine=True)\n",
       "            (dropout): Dropout(p=0.1, inplace=False)\n",
       "          )\n",
       "        )\n",
       "        (intermediate): BertIntermediate(\n",
       "          (dense): Linear(in_features=768, out_features=3072, bias=True)\n",
       "          (intermediate_act_fn): GELUActivation()\n",
       "        )\n",
       "        (output): BertOutput(\n",
       "          (dense): Linear(in_features=3072, out_features=768, bias=True)\n",
       "          (LayerNorm): LayerNorm((768,), eps=1e-12, elementwise_affine=True)\n",
       "          (dropout): Dropout(p=0.1, inplace=False)\n",
       "        )\n",
       "      )\n",
       "    )\n",
       "  )\n",
       "  (pooler): BertPooler(\n",
       "    (dense): Linear(in_features=768, out_features=768, bias=True)\n",
       "    (activation): Tanh()\n",
       "  )\n",
       ")"
      ]
     },
     "execution_count": 93,
     "metadata": {},
     "output_type": "execute_result"
    }
   ],
   "source": [
    "model = BertModel.from_pretrained(pretrained_model_name_or_path='foodbert/data/foodbert_data/mlm_output/checkpoint-final')\n",
    "device = torch.device('cuda') if torch.cuda.is_available() else torch.device('cpu')\n",
    "model.to(device)"
   ]
  },
  {
   "cell_type": "code",
   "execution_count": 303,
   "metadata": {},
   "outputs": [],
   "source": [
    "def get_bert_embedding(word):\n",
    "    \"\"\"\n",
    "    Returns the average of the token indices except the last (EOS) and the first token (BOS)\n",
    "    \"\"\"\n",
    "\n",
    "    input_ids = torch.tensor(tokenizer.encode(word, add_special_tokens=True)).unsqueeze(0)\n",
    "    input_ids = input_ids.to(device)\n",
    "    outputs = model(input_ids)\n",
    "    embedding = np.sum(outputs[0].detach().numpy()[:,0:-1,:],axis = 1)/(outputs[0].detach().numpy().shape[1] - 2)\n",
    "\n",
    "    return embedding\n"
   ]
  },
  {
   "cell_type": "code",
   "execution_count": 304,
   "metadata": {},
   "outputs": [
    {
     "data": {
      "text/plain": [
       "(1, 768)"
      ]
     },
     "execution_count": 304,
     "metadata": {},
     "output_type": "execute_result"
    }
   ],
   "source": [
    "# FoodBERT generates 768 dimensional embeddings for ingredients\n",
    "\n",
    "get_bert_embedding(\"salt\").shape\n"
   ]
  },
  {
   "cell_type": "code",
   "execution_count": 246,
   "metadata": {},
   "outputs": [
    {
     "name": "stdout",
     "output_type": "stream",
     "text": [
      "Salt and Kosher Salt - Cosine Similarity: 0.8881312608718872\n",
      "Salt and Pepper - Cosine Similarity: 0.6598259806632996\n"
     ]
    }
   ],
   "source": [
    "salt = get_bert_embedding(\"salt\")\n",
    "kosher_salt = get_bert_embedding(\"kosher_salt\")\n",
    "pepper = get_bert_embedding(\"pepper\")\n",
    "\n",
    "print(f\"Salt and Kosher Salt - {similarity(salt, kosher_salt)}\")\n",
    "print(f\"Salt and Pepper - {similarity(salt, pepper)}\")"
   ]
  },
  {
   "cell_type": "markdown",
   "metadata": {},
   "source": [
    "FoodBERT is clearly able to highlight the strong similarity between salt and kosher salt and also the low similarity between salt and pepper."
   ]
  },
  {
   "cell_type": "code",
   "execution_count": 310,
   "metadata": {},
   "outputs": [
    {
     "name": "stdout",
     "output_type": "stream",
     "text": [
      "Parmesan Cheese and Grated Parmesan Cheese - Cosine Similarity: 0.8406903743743896\n",
      "Parmesan Cheese and Mozzarella Cheese - Cosine Similarity: 0.8513528108596802\n"
     ]
    }
   ],
   "source": [
    "parmesan = get_bert_embedding(\"parmesan_cheese\")\n",
    "grated_parmesan = get_bert_embedding(\"grated_parmesan_cheese\")\n",
    "mozzarella = get_bert_embedding(\"mozzarella_cheese\")\n",
    "\n",
    "print(f\"Parmesan Cheese and Grated Parmesan Cheese - {similarity(parmesan, grated_parmesan)}\")\n",
    "print(f\"Parmesan Cheese and Mozzarella Cheese - {similarity(parmesan, mozzarella)}\")"
   ]
  },
  {
   "cell_type": "markdown",
   "metadata": {},
   "source": [
    "Embeddings for Parmesan Cheese and Grated Parmesan Cheese and parmesan cheese and mozzarella cheese have a high cosine similarity."
   ]
  },
  {
   "cell_type": "code",
   "execution_count": 248,
   "metadata": {},
   "outputs": [
    {
     "name": "stdout",
     "output_type": "stream",
     "text": [
      "Garlic and Garlic Cloves - Cosine Similarity: 0.8596292734146118\n",
      "Garlic and Ginger - Cosine Similarity: 0.5114772915840149\n"
     ]
    }
   ],
   "source": [
    "garlic = get_bert_embedding(\"garlic\")\n",
    "garlic_clove = get_bert_embedding(\"garlic_clove\")\n",
    "ginger = get_bert_embedding(\"ginger\")\n",
    "\n",
    "print(f\"Garlic and Garlic Cloves - {similarity(garlic, garlic_clove)}\")\n",
    "print(f\"Garlic and Ginger - {similarity(garlic, ginger)}\")"
   ]
  },
  {
   "cell_type": "markdown",
   "metadata": {},
   "source": [
    "Garlic and Garlic Cloves have a high cosine similarity which is valid, since they are synonymous, while the cosine similarity for Garlic and Ginger is low which is also valid."
   ]
  },
  {
   "cell_type": "code",
   "execution_count": 251,
   "metadata": {},
   "outputs": [
    {
     "name": "stdout",
     "output_type": "stream",
     "text": [
      "Potato and Sliced Potato - Cosine Similarity: 0.8131145238876343\n",
      "Potato and Sweet Potato - Cosine Similarity: 0.7819738984107971\n"
     ]
    }
   ],
   "source": [
    "potato = get_bert_embedding(\"potato\")\n",
    "sweet_potato = get_bert_embedding(\"sweet_potato\")\n",
    "sliced_potato = get_bert_embedding(\"sliced_potato\")\n",
    "\n",
    "print(f\"Potato and Sliced Potato - {similarity(potato, sliced_potato)}\")\n",
    "print(f\"Potato and Sweet Potato - {similarity(potato, sweet_potato)}\")"
   ]
  },
  {
   "cell_type": "markdown",
   "metadata": {},
   "source": [
    "Cosine Similarity between Potato and Sliced Potato is higher than the cosine similarity between Potato and Sweet Potato which is correct, since sliced potato is processed form of potatoes while sweet potato is a different ingredient."
   ]
  },
  {
   "cell_type": "code",
   "execution_count": 297,
   "metadata": {},
   "outputs": [
    {
     "name": "stdout",
     "output_type": "stream",
     "text": [
      "Crushed_Red_Pepper_Flakes and Chilli Flakes - Cosine Similarity: 0.8620383739471436\n",
      "Crushed_Red_Pepper_Flakes and Oregano Seasoning - Cosine Similarity: 0.7542827129364014\n"
     ]
    }
   ],
   "source": [
    "Crushed_Red_Pepper_Flakes = get_bert_embedding(\"crushed_red_pepper_flakes\")\n",
    "Chilli_Flakes = get_bert_embedding(\"chilli_flakes\")\n",
    "Oregano_Seasoning = get_bert_embedding(\"oregano_seasoning\")\n",
    "\n",
    "print(f\"Crushed_Red_Pepper_Flakes and Chilli Flakes - {similarity(Crushed_Red_Pepper_Flakes, Chilli_Flakes)}\")\n",
    "print(f\"Crushed_Red_Pepper_Flakes and Oregano Seasoning - {similarity(Crushed_Red_Pepper_Flakes, Oregano_Seasoning)}\")"
   ]
  },
  {
   "cell_type": "markdown",
   "metadata": {},
   "source": [
    "FoodBERT is able to generate apt embeddings for new ingredients like crushed_red_pepper flakes and also obtain the right relationship between new ingredients."
   ]
  },
  {
   "cell_type": "code",
   "execution_count": 282,
   "metadata": {},
   "outputs": [
    {
     "name": "stdout",
     "output_type": "stream",
     "text": [
      "Onion and Large Onion - Cosine Similarity: 0.7472556233406067\n"
     ]
    }
   ],
   "source": [
    "onion = get_bert_embedding(\"onion\")\n",
    "large_onion = get_bert_embedding(\"large_onion\")\n",
    "\n",
    "print(f\"Onion and Large Onion - {similarity(onion, large_onion)}\")"
   ]
  },
  {
   "cell_type": "markdown",
   "metadata": {},
   "source": [
    "Onion and Large Onion are the same ingredients, however, they have a relatively low degree of similarity"
   ]
  },
  {
   "cell_type": "code",
   "execution_count": 259,
   "metadata": {},
   "outputs": [
    {
     "name": "stdout",
     "output_type": "stream",
     "text": [
      "Egg and Boiled Egg - Cosine Similarity: 0.6770237684249878\n",
      "Egg and Eggplant - Cosine Similarity: 0.7074657678604126\n"
     ]
    }
   ],
   "source": [
    "egg = get_bert_embedding(\"egg\")\n",
    "boiled_egg = get_bert_embedding(\"boiled_egg\")\n",
    "eggplant = get_bert_embedding(\"eggpant\")\n",
    "\n",
    "print(f\"Egg and Boiled Egg - {similarity(egg, boiled_egg)}\")\n",
    "print(f\"Egg and Eggplant - {similarity(egg, eggplant)}\")"
   ]
  },
  {
   "cell_type": "markdown",
   "metadata": {},
   "source": [
    "Egg and boiled egg are the same ingredients, however, their cosine similarity is low. On the other hand, egg and eggplant have a higher cosine similarity which are completely different food items."
   ]
  },
  {
   "cell_type": "code",
   "execution_count": 285,
   "metadata": {},
   "outputs": [
    {
     "name": "stdout",
     "output_type": "stream",
     "text": [
      "Potato and Potatoes - Cosine Similarity: 0.6225559115409851\n"
     ]
    }
   ],
   "source": [
    "potato = get_bert_embedding(\"potato\")\n",
    "potatoes = get_bert_embedding(\"potatoes\")\n",
    "\n",
    "\n",
    "print(f\"Potato and Potatoes - {similarity(potato, potatoes)}\")"
   ]
  },
  {
   "cell_type": "markdown",
   "metadata": {},
   "source": [
    "Potato and potatoes have a very low cosine similarity even though they are the same ingredients"
   ]
  },
  {
   "cell_type": "code",
   "execution_count": 286,
   "metadata": {},
   "outputs": [
    {
     "name": "stdout",
     "output_type": "stream",
     "text": [
      "Tomato and Cherry Tomato - Cosine Similarity: 0.7752974629402161\n"
     ]
    }
   ],
   "source": [
    "tomato = get_bert_embedding(\"tomato\")\n",
    "cherry_tomato = get_bert_embedding(\"cherry_tomato\")\n",
    "\n",
    "print(f\"Tomato and Cherry Tomato - {similarity(tomato, cherry_tomato)}\")"
   ]
  },
  {
   "cell_type": "markdown",
   "metadata": {},
   "source": [
    "### Observations on FoodBERT Embeddings\n",
    "\n",
    "#### Advantages:\n",
    "- Able to generate reasonable embeddings for previously unseen ingredients \n",
    "- Performs adequately in differentiating between closely used ingredients (like salt and pepper)\n",
    "\n",
    "#### Limitations:\n",
    "- Performs poorly on plural form of the same ingredient\n",
    "- All ingredients should be in the same form (like \"FirstName_LastName\") otherwise can get unexpected results\n",
    "- Poor results with prefixes like \"large\" before the ingredient\n",
    "\n",
    "\n",
    "#### Ways to Use\n",
    "- Embeddings for a good database of ingredients can be generated and stored in a database and the unknown ingredients can be matched with the already existing database by calculating cosine similarity\n",
    "- Prefixes like \"large\" can be removed from the ingredients can be removed "
   ]
  }
 ],
 "metadata": {
  "kernelspec": {
   "display_name": "Python 3",
   "language": "python",
   "name": "python3"
  },
  "language_info": {
   "codemirror_mode": {
    "name": "ipython",
    "version": 3
   },
   "file_extension": ".py",
   "mimetype": "text/x-python",
   "name": "python",
   "nbconvert_exporter": "python",
   "pygments_lexer": "ipython3",
   "version": "3.11.6"
  }
 },
 "nbformat": 4,
 "nbformat_minor": 2
}
